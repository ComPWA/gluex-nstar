{
 "cells": [
  {
   "cell_type": "markdown",
   "metadata": {},
   "source": [
    "# Basic Widgets"
   ]
  },
  {
   "cell_type": "code",
   "execution_count": null,
   "metadata": {},
   "outputs": [],
   "source": [
    "import ipywidgets as widgets\n",
    "from IPython.display import display\n",
    "\n",
    "# Text input widget\n",
    "text = widgets.Text(\n",
    "    value=\"Hello World\",\n",
    "    placeholder=\"Type something\",\n",
    "    description=\"Text:\",\n",
    "    disabled=False,\n",
    ")\n",
    "display(text)\n",
    "\n",
    "# Slider widget\n",
    "slider = widgets.IntSlider(\n",
    "    value=7,\n",
    "    min=0,\n",
    "    max=10,\n",
    "    step=1,\n",
    "    description=\"Slider:\",\n",
    "    disabled=False,\n",
    "    continuous_update=False,\n",
    "    orientation=\"horizontal\",\n",
    "    readout=True,\n",
    "    readout_format=\"d\",\n",
    ")\n",
    "display(slider)\n",
    "\n",
    "# Button widget\n",
    "button = widgets.Button(\n",
    "    description=\"Click Me\",\n",
    "    disabled=False,\n",
    "    button_style=\"\",  # 'success', 'info', 'warning', 'danger' or ''\n",
    "    tooltip=\"Click me\",\n",
    "    icon=\"check\",  # (FontAwesome names without the `fa-` prefix)\n",
    ")\n",
    "display(button)"
   ]
  },
  {
   "cell_type": "markdown",
   "metadata": {},
   "source": [
    "# Linking Widgets and Observing Changes"
   ]
  },
  {
   "cell_type": "code",
   "execution_count": null,
   "metadata": {},
   "outputs": [],
   "source": [
    "import ipywidgets as widgets\n",
    "import matplotlib.pyplot as plt\n",
    "import numpy as np\n",
    "from IPython.display import display\n",
    "\n",
    "# Create a dropdown menu\n",
    "dropdown = widgets.Dropdown(\n",
    "    options=[(\"Sine Wave\", \"sin\"), (\"Cosine Wave\", \"cos\")],\n",
    "    value=\"sin\",\n",
    "    description=\"Function:\",\n",
    ")\n",
    "\n",
    "# Create an output widget for the plot\n",
    "output = widgets.Output()\n",
    "\n",
    "\n",
    "# Define a function to update the plot based on dropdown selection\n",
    "def on_dropdown_change(change: dict) -> None:\n",
    "    \"\"\"Handle the change in dropdown value.\n",
    "\n",
    "    Args:\n",
    "    ----\n",
    "        change (dict): The change dictionary containing new and old values.\n",
    "            new (str): The new value of the dropdown.\n",
    "            old (str): The old value of the dropdown.\n",
    "            owner (Widget): The widget instance.\n",
    "            type (str): The type of the event.\n",
    "\n",
    "    \"\"\"\n",
    "    with output:\n",
    "        output.clear_output()\n",
    "        x = np.linspace(0, 2 * np.pi, 100)\n",
    "        y = np.sin(x) if change[\"new\"] == \"sin\" else np.cos(x)\n",
    "        plt.figure()\n",
    "        plt.plot(x, y)\n",
    "        plt.title(f'{change[\"new\"].capitalize()} Wave')\n",
    "        plt.xlabel(\"x\")\n",
    "        plt.ylabel(f'{change[\"new\"]}(x)')\n",
    "        plt.grid(visible=True)\n",
    "        plt.show()\n",
    "\n",
    "\n",
    "# Observe the dropdown value\n",
    "dropdown.observe(on_dropdown_change, names=\"value\")\n",
    "\n",
    "# Display the dropdown and output\n",
    "display(dropdown, output)\n",
    "\n",
    "# Initial plot\n",
    "with output:\n",
    "    x = np.linspace(0, 2 * np.pi, 100)\n",
    "    y = np.sin(x)\n",
    "    plt.figure()\n",
    "    plt.plot(x, y)\n",
    "    plt.title(\"Sine Wave\")\n",
    "    plt.xlabel(\"x\")\n",
    "    plt.ylabel(\"sin(x)\")\n",
    "    plt.grid(visible=True)\n",
    "    plt.show()"
   ]
  },
  {
   "cell_type": "code",
   "execution_count": null,
   "metadata": {},
   "outputs": [],
   "source": []
  }
 ],
 "metadata": {
  "kernelspec": {
   "display_name": "Python 3 (ipykernel)",
   "language": "python",
   "name": "python3"
  },
  "language_info": {
   "codemirror_mode": {
    "name": "ipython",
    "version": 3
   },
   "file_extension": ".py",
   "mimetype": "text/x-python",
   "name": "python",
   "nbconvert_exporter": "python",
   "pygments_lexer": "ipython3",
   "version": "3.12.4"
  }
 },
 "nbformat": 4,
 "nbformat_minor": 4
}
