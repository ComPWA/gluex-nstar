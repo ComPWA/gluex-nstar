{
 "cells": [
  {
   "cell_type": "markdown",
   "id": "0",
   "metadata": {
    "editable": true,
    "slideshow": {
     "slide_type": ""
    },
    "tags": []
   },
   "source": [
    "# pγ→ηπ⁰p amplitude model in symbolic expression"
   ]
  },
  {
   "cell_type": "markdown",
   "id": "1",
   "metadata": {},
   "source": [
    "Formulate Helicity Amplitude Model for pγ→ηπ⁰p symbolically"
   ]
  },
  {
   "cell_type": "markdown",
   "id": "2",
   "metadata": {
    "editable": true,
    "slideshow": {
     "slide_type": ""
    },
    "tags": []
   },
   "source": [
    "## Generate Transitions"
   ]
  },
  {
   "cell_type": "code",
   "execution_count": null,
   "id": "3",
   "metadata": {
    "editable": true,
    "slideshow": {
     "slide_type": ""
    },
    "tags": [
     "hide-input"
    ]
   },
   "outputs": [],
   "source": [
    "from __future__ import annotations\n",
    "\n",
    "import matplotlib.pyplot as plt\n",
    "from ampform.io import aslatex, improve_latex_rendering\n",
    "from IPython.display import Math\n",
    "from qrules.particle import load_pdg\n",
    "from qrules.particle import Particle, Spin\n",
    "from ampform.dynamics.builder import RelativisticBreitWignerBuilder\n",
    "from tensorwaves.data import TFPhaseSpaceGenerator, TFUniformRealNumberGenerator\n",
    "from tensorwaves.function.sympy import create_parametrized_function\n",
    "from tensorwaves.data import SympyDataTransformer\n",
    "\n",
    "import graphviz\n",
    "import qrules\n",
    "import ampform\n",
    "import numpy as np\n",
    "import pandas as pd\n",
    "\n",
    "improve_latex_rendering()\n",
    "particle_db = load_pdg()"
   ]
  },
  {
   "cell_type": "code",
   "execution_count": null,
   "id": "4",
   "metadata": {
    "editable": true,
    "slideshow": {
     "slide_type": ""
    },
    "tags": []
   },
   "outputs": [],
   "source": [
    "pgamma = Particle(\n",
    "    name=\"pgamma\",\n",
    "    latex=r\"p\\gamma (s1/2)\",\n",
    "    spin=0.5,\n",
    "    mass=4.101931071854584,\n",
    "    charge=1,\n",
    "    isospin=Spin(1 / 2, +1 / 2),\n",
    "    baryon_number=1,\n",
    "    parity=-1,\n",
    "    pid=99990,\n",
    ")"
   ]
  },
  {
   "cell_type": "code",
   "execution_count": null,
   "id": "5",
   "metadata": {
    "editable": true,
    "slideshow": {
     "slide_type": ""
    },
    "tags": []
   },
   "outputs": [],
   "source": [
    "pgamma2 = Particle(\n",
    "    name=\"pgamma2\",\n",
    "    latex=R\"p\\gamma (s3/2)\",\n",
    "    spin=1.5,\n",
    "    mass=4.101931071854584,\n",
    "    charge=1,\n",
    "    isospin=Spin(1 / 2, +1 / 2),\n",
    "    baryon_number=1,\n",
    "    parity=-1,\n",
    "    pid=99991,\n",
    ")"
   ]
  },
  {
   "cell_type": "code",
   "execution_count": null,
   "id": "6",
   "metadata": {},
   "outputs": [],
   "source": [
    "pgamma_states = [pgamma, pgamma2]"
   ]
  },
  {
   "cell_type": "code",
   "execution_count": null,
   "id": "7",
   "metadata": {},
   "outputs": [],
   "source": [
    "particle_db.update(pgamma_states)"
   ]
  },
  {
   "cell_type": "code",
   "execution_count": null,
   "id": "8",
   "metadata": {
    "editable": true,
    "jupyter": {
     "source_hidden": true
    },
    "mystnb": {
     "code_prompt_show": "All possible resonances under strong, EM allowed interaction type."
    },
    "slideshow": {
     "slide_type": ""
    },
    "tags": [
     "hide-cell"
    ]
   },
   "outputs": [],
   "source": [
    "reaction_strong_EM = qrules.generate_transitions(\n",
    "    initial_state=\"pgamma\",\n",
    "    final_state=[\"eta\", \"pi0\", \"p\"],\n",
    "    allowed_interaction_types=[\"strong\", \"EM\"],\n",
    "    formalism=\"canonical-helicity\",\n",
    "    particle_db=particle_db,\n",
    "    max_angular_momentum=3,\n",
    "    max_spin_magnitude=3,\n",
    "    mass_conservation_factor=0,\n",
    ")"
   ]
  },
  {
   "cell_type": "code",
   "execution_count": null,
   "id": "9",
   "metadata": {
    "editable": true,
    "jupyter": {
     "source_hidden": true
    },
    "mystnb": {
     "code_prompt_show": "Showing all possible resonances under strong, EM allowed interaction type."
    },
    "slideshow": {
     "slide_type": ""
    },
    "tags": [
     "hide-cell"
    ]
   },
   "outputs": [],
   "source": [
    "src = qrules.io.asdot(reaction_strong_EM, collapse_graphs=True)\n",
    "graphviz.Source(src)"
   ]
  },
  {
   "cell_type": "markdown",
   "id": "10",
   "metadata": {
    "editable": true,
    "slideshow": {
     "slide_type": ""
    },
    "tags": []
   },
   "source": [
    "We keep the relevant information about branching fractions in the previous [Branching fraction](docs/branching-fraction.md) chapter.\n",
    "For simplicity, after the information about branching fraction, and under the current `qrules` results, we limit the intermediate resonances to be:\n",
    "\n",
    "\"$a(2)$\" for $\\eta \\pi^0$, \n",
    "\"$\\Delta(1232)$ for $\\pi p$\"\n",
    "Both \"$N(1535)$\" for $\\pi^0 p$\n",
    "and $\\eta p$"
   ]
  },
  {
   "cell_type": "code",
   "execution_count": null,
   "id": "11",
   "metadata": {
    "editable": true,
    "slideshow": {
     "slide_type": ""
    },
    "tags": []
   },
   "outputs": [],
   "source": [
    "reaction_strong_EM = qrules.generate_transitions(\n",
    "    initial_state=\"pgamma\",\n",
    "    final_state=[\"eta\", \"pi0\", \"p\"],\n",
    "    allowed_intermediate_particles=[\"a(2)(1320)\", \"N(1535)\", \"Delta(1232)\"],\n",
    "    allowed_interaction_types=[\"strong\", \"EM\"],\n",
    "    formalism=\"canonical-helicity\",\n",
    "    particle_db=particle_db,\n",
    "    max_angular_momentum=3,\n",
    "    max_spin_magnitude=3,\n",
    "    mass_conservation_factor=0,\n",
    ")"
   ]
  },
  {
   "cell_type": "code",
   "execution_count": null,
   "id": "12",
   "metadata": {
    "editable": true,
    "slideshow": {
     "slide_type": ""
    },
    "tags": []
   },
   "outputs": [],
   "source": [
    "for state_id, particle in reaction_strong_EM.initial_state.items():\n",
    "    print(f\"ID {state_id}:\", particle.name)\n",
    "for state_id, particle in reaction_strong_EM.final_state.items():\n",
    "    print(f\"ID {state_id}:\", particle.name)"
   ]
  },
  {
   "cell_type": "code",
   "execution_count": null,
   "id": "13",
   "metadata": {
    "editable": true,
    "slideshow": {
     "slide_type": ""
    },
    "tags": []
   },
   "outputs": [],
   "source": [
    "src = qrules.io.asdot(reaction_strong_EM, collapse_graphs=True)\n",
    "graphviz.Source(src)"
   ]
  },
  {
   "cell_type": "markdown",
   "id": "14",
   "metadata": {
    "editable": true,
    "slideshow": {
     "slide_type": ""
    },
    "tags": []
   },
   "source": [
    "## Build Helicity Amplitude Models"
   ]
  },
  {
   "cell_type": "code",
   "execution_count": null,
   "id": "15",
   "metadata": {
    "editable": true,
    "slideshow": {
     "slide_type": ""
    },
    "tags": []
   },
   "outputs": [],
   "source": [
    "model_builder = ampform.get_builder(reaction_strong_EM)\n",
    "model_builder.config.scalar_initial_state_mass = True\n",
    "model_builder.config.stable_final_state_ids = 0, 1, 2\n",
    "\n",
    "bw_builder = RelativisticBreitWignerBuilder(\n",
    "    energy_dependent_width=False,\n",
    "    form_factor=False,\n",
    ")\n",
    "\n",
    "for name in reaction_strong_EM.get_intermediate_particles().names:\n",
    "    model_builder.dynamics.assign(name, bw_builder)\n",
    "model = model_builder.formulate()"
   ]
  },
  {
   "cell_type": "markdown",
   "id": "16",
   "metadata": {
    "editable": true,
    "slideshow": {
     "slide_type": ""
    },
    "tags": []
   },
   "source": [
    "The first component of the full amplitude is shown below.\n",
    "The other terms are in similar way of formualation and thus not showing explicitly here agin."
   ]
  },
  {
   "cell_type": "code",
   "execution_count": null,
   "id": "17",
   "metadata": {
    "editable": true,
    "slideshow": {
     "slide_type": ""
    },
    "tags": []
   },
   "outputs": [],
   "source": [
    "(symbol, expr), *_ = model.amplitudes.items()\n",
    "Math(aslatex({symbol: expr}, terms_per_line=1))"
   ]
  },
  {
   "cell_type": "markdown",
   "id": "18",
   "metadata": {
    "editable": true,
    "slideshow": {
     "slide_type": ""
    },
    "tags": []
   },
   "source": [
    "### Parameters and kinematics variables"
   ]
  },
  {
   "cell_type": "markdown",
   "id": "19",
   "metadata": {
    "editable": true,
    "slideshow": {
     "slide_type": ""
    },
    "tags": []
   },
   "source": [
    "The parameters of the helicity amplitude model::"
   ]
  },
  {
   "cell_type": "code",
   "execution_count": null,
   "id": "20",
   "metadata": {
    "editable": true,
    "slideshow": {
     "slide_type": ""
    },
    "tags": [
     "hide-input"
    ]
   },
   "outputs": [],
   "source": [
    "sorted_parameter_defaults = {\n",
    "    symbol: model.parameter_defaults[symbol]\n",
    "    for symbol in sorted(model.parameter_defaults, key=str)\n",
    "}\n",
    "\n",
    "src = aslatex(sorted_parameter_defaults)\n",
    "Math(src)"
   ]
  },
  {
   "cell_type": "code",
   "execution_count": null,
   "id": "21",
   "metadata": {
    "editable": true,
    "slideshow": {
     "slide_type": ""
    },
    "tags": []
   },
   "outputs": [],
   "source": [
    "Math(aslatex(model.kinematic_variables))"
   ]
  },
  {
   "cell_type": "markdown",
   "id": "22",
   "metadata": {
    "editable": true,
    "slideshow": {
     "slide_type": ""
    },
    "tags": []
   },
   "source": [
    "## Generate phase space sample"
   ]
  },
  {
   "cell_type": "code",
   "execution_count": null,
   "id": "23",
   "metadata": {
    "editable": true,
    "slideshow": {
     "slide_type": ""
    },
    "tags": []
   },
   "outputs": [],
   "source": [
    "phsp_event = 1_000_000\n",
    "rng = TFUniformRealNumberGenerator(seed=0)\n",
    "phsp_generator = TFPhaseSpaceGenerator(\n",
    "    initial_state_mass=reaction_strong_EM.initial_state[-1].mass,\n",
    "    final_state_masses={i: p.mass for i, p in reaction_strong_EM.final_state.items()},\n",
    ")\n",
    "phsp_momenta = phsp_generator.generate(phsp_event, rng)"
   ]
  },
  {
   "cell_type": "code",
   "execution_count": null,
   "id": "24",
   "metadata": {
    "editable": true,
    "slideshow": {
     "slide_type": ""
    },
    "tags": []
   },
   "outputs": [],
   "source": [
    "p = np.array(list(phsp_momenta.values()))\n",
    "p.shape"
   ]
  },
  {
   "cell_type": "code",
   "execution_count": null,
   "id": "25",
   "metadata": {
    "editable": true,
    "slideshow": {
     "slide_type": ""
    },
    "tags": [
     "hide-cell"
    ]
   },
   "outputs": [],
   "source": [
    "p.sum(axis=0).round(decimals=14)"
   ]
  },
  {
   "cell_type": "code",
   "execution_count": null,
   "id": "26",
   "metadata": {
    "editable": true,
    "jupyter": {
     "source_hidden": true
    },
    "slideshow": {
     "slide_type": ""
    },
    "tags": [
     "hide-cell"
    ]
   },
   "outputs": [],
   "source": [
    "E0 = p[0].T[0]\n",
    "px0 = p[0].T[1]\n",
    "py0 = p[0].T[2]\n",
    "pz0 = p[0].T[3]\n",
    "p0 = np.sqrt(px0**2 + py0**2 + pz0**2)\n",
    "\n",
    "E1 = p[1].T[0]\n",
    "px1 = p[1].T[1]\n",
    "py1 = p[1].T[2]\n",
    "pz1 = p[1].T[3]\n",
    "p1 = np.sqrt(px1**2 + py1**2 + pz1**2)\n",
    "\n",
    "E2 = p[2].T[0]\n",
    "px2 = p[2].T[1]\n",
    "py2 = p[2].T[2]\n",
    "pz2 = p[2].T[3]\n",
    "p2 = np.sqrt(px2**2 + py2**2 + pz2**2)"
   ]
  },
  {
   "cell_type": "code",
   "execution_count": null,
   "id": "27",
   "metadata": {
    "editable": true,
    "slideshow": {
     "slide_type": ""
    },
    "tags": []
   },
   "outputs": [],
   "source": [
    "phsp_momenta_frame = pd.DataFrame(\n",
    "    {\n",
    "        (k, label): np.transpose(v)[i]\n",
    "        for k, v in phsp_momenta.items()\n",
    "        for i, label in enumerate([\"E\", \"px\", \"py\", \"pz\"])\n",
    "    }\n",
    ")"
   ]
  },
  {
   "cell_type": "markdown",
   "id": "28",
   "metadata": {
    "editable": true,
    "slideshow": {
     "slide_type": ""
    },
    "tags": []
   },
   "source": [
    "## Visualization"
   ]
  },
  {
   "cell_type": "code",
   "execution_count": null,
   "id": "29",
   "metadata": {
    "editable": true,
    "slideshow": {
     "slide_type": ""
    },
    "tags": []
   },
   "outputs": [],
   "source": [
    "unfolded_expression = model.expression.doit()\n",
    "intensity_func = create_parametrized_function(\n",
    "    expression=unfolded_expression,\n",
    "    parameters=model.parameter_defaults,\n",
    "    backend=\"numpy\",\n",
    ")"
   ]
  },
  {
   "cell_type": "code",
   "execution_count": null,
   "id": "30",
   "metadata": {
    "editable": true,
    "slideshow": {
     "slide_type": ""
    },
    "tags": []
   },
   "outputs": [],
   "source": [
    "helicity_transformer = SympyDataTransformer.from_sympy(\n",
    "    model.kinematic_variables, backend=\"jax\"\n",
    ")"
   ]
  },
  {
   "cell_type": "code",
   "execution_count": null,
   "id": "31",
   "metadata": {
    "editable": true,
    "slideshow": {
     "slide_type": ""
    },
    "tags": []
   },
   "outputs": [],
   "source": [
    "phsp = helicity_transformer(phsp_momenta)\n",
    "list(phsp)"
   ]
  },
  {
   "cell_type": "code",
   "execution_count": null,
   "id": "32",
   "metadata": {
    "editable": true,
    "slideshow": {
     "slide_type": ""
    },
    "tags": []
   },
   "outputs": [],
   "source": [
    "phsp_frame = pd.DataFrame(phsp)"
   ]
  },
  {
   "cell_type": "code",
   "execution_count": null,
   "id": "33",
   "metadata": {
    "editable": true,
    "jupyter": {
     "source_hidden": true
    },
    "slideshow": {
     "slide_type": ""
    },
    "tags": [
     "hide-input"
    ]
   },
   "outputs": [],
   "source": [
    "# %config InlineBackend.figure_formats = ['svg']\n",
    "\n",
    "fig, ax = plt.subplots()\n",
    "hist = ax.hist2d(\n",
    "    phsp[\"m_01\"].real ** 2,\n",
    "    phsp[\"m_12\"].real ** 2,\n",
    "    bins=200,\n",
    "    cmin=1e-6,\n",
    "    density=True,\n",
    "    cmap=\"jet\",\n",
    "    vmax=0.15,\n",
    "    weights=intensity_func(phsp),\n",
    ")\n",
    "ax.set_title(\"Model-weighted Phase space Dalitz Plot\")\n",
    "ax.set_xlabel(R\"$m^2(\\eta \\pi^0)\\;\\left[\\mathrm{GeV}^2\\right]$\")\n",
    "ax.set_ylabel(R\"$m^2(\\pi^0 p)\\;\\left[\\mathrm{GeV}^2\\right]$\")\n",
    "cbar = fig.colorbar(hist[3], ax=ax)\n",
    "fig.tight_layout()\n",
    "plt.show()"
   ]
  },
  {
   "cell_type": "code",
   "execution_count": null,
   "id": "34",
   "metadata": {
    "editable": true,
    "jupyter": {
     "source_hidden": true
    },
    "slideshow": {
     "slide_type": ""
    },
    "tags": [
     "hide-input"
    ]
   },
   "outputs": [],
   "source": [
    "%config InlineBackend.figure_formats = ['svg']\n",
    "\n",
    "import matplotlib.pyplot as plt\n",
    "\n",
    "resonances = sorted(\n",
    "    reaction_strong_EM.get_intermediate_particles(),\n",
    "    key=lambda p: p.mass,\n",
    ")\n",
    "evenly_spaced_interval = np.linspace(0, 1, len(resonances))\n",
    "colors = [plt.cm.rainbow(x) for x in evenly_spaced_interval]\n",
    "fig, ax = plt.subplots(figsize=(10, 6))\n",
    "ax.hist(\n",
    "    np.real(phsp_frame[\"m_01\"]),\n",
    "    bins=100,\n",
    "    alpha=0.5,\n",
    "    density=True,\n",
    "    # color = \"orange\",\n",
    "    label=\"Weighted PHSP\",\n",
    "    weights=intensity_func(phsp),\n",
    ")\n",
    "ax.set_xlabel(R\"$m(\\eta \\pi^0)$ [GeV]\")\n",
    "ax.axvline(\n",
    "    x=resonances[1].mass, linestyle=\"dotted\", label=resonances[1].name, color=\"black\"\n",
    ")\n",
    "ax.legend()\n",
    "plt.show()"
   ]
  },
  {
   "cell_type": "code",
   "execution_count": null,
   "id": "35",
   "metadata": {
    "editable": true,
    "jupyter": {
     "source_hidden": true
    },
    "slideshow": {
     "slide_type": ""
    },
    "tags": [
     "hide-input"
    ]
   },
   "outputs": [],
   "source": [
    "%config InlineBackend.figure_formats = ['svg']\n",
    "\n",
    "import matplotlib.pyplot as plt\n",
    "\n",
    "resonances = sorted(\n",
    "    reaction_strong_EM.get_intermediate_particles(),\n",
    "    key=lambda p: p.mass,\n",
    ")\n",
    "evenly_spaced_interval = np.linspace(0, 1, len(resonances))\n",
    "colors = [plt.cm.rainbow(x) for x in evenly_spaced_interval]\n",
    "fig, ax = plt.subplots(figsize=(10, 6))\n",
    "\n",
    "ax.hist(\n",
    "    np.real(phsp_frame[\"m_12\"]),\n",
    "    bins=100,\n",
    "    alpha=0.5,\n",
    "    density=True,\n",
    "    # color = colors[0],\n",
    "    label=\"Weighted PHSP\",\n",
    "    weights=intensity_func(phsp),\n",
    ")\n",
    "\n",
    "ax.set_xlabel(R\"$m(\\pi^0 p)$ [GeV]\")\n",
    "ax.axvline(\n",
    "    x=resonances[0].mass, linestyle=\"dotted\", label=resonances[0].name, color=colors[0]\n",
    ")\n",
    "ax.axvline(\n",
    "    x=resonances[2].mass, linestyle=\"dotted\", label=resonances[2].name, color=colors[2]\n",
    ")\n",
    "ax.legend()\n",
    "plt.show()"
   ]
  },
  {
   "cell_type": "code",
   "execution_count": null,
   "id": "36",
   "metadata": {
    "editable": true,
    "jupyter": {
     "source_hidden": true
    },
    "slideshow": {
     "slide_type": ""
    },
    "tags": [
     "hide-input"
    ]
   },
   "outputs": [],
   "source": [
    "%config InlineBackend.figure_formats = ['svg']\n",
    "\n",
    "import matplotlib.pyplot as plt\n",
    "\n",
    "resonances = sorted(\n",
    "    reaction_strong_EM.get_intermediate_particles(),\n",
    "    key=lambda p: p.mass,\n",
    ")\n",
    "evenly_spaced_interval = np.linspace(0, 1, len(resonances))\n",
    "colors = [plt.cm.rainbow(x) for x in evenly_spaced_interval]\n",
    "fig, ax = plt.subplots(figsize=(10, 6))\n",
    "\n",
    "ax.hist(\n",
    "    np.real(phsp_frame[\"m_02\"]),\n",
    "    bins=100,\n",
    "    alpha=0.5,\n",
    "    density=True,\n",
    "    # color = colors[2],\n",
    "    label=\"Weighted PHSP\",\n",
    "    weights=intensity_func(phsp),\n",
    ")\n",
    "ax.set_xlabel(R\"$m(\\eta p)$ [GeV]\")\n",
    "ax.axvline(\n",
    "    x=resonances[2].mass, linestyle=\"dotted\", label=resonances[2].name, color=colors[2]\n",
    ")\n",
    "ax.legend()\n",
    "plt.show()"
   ]
  }
 ],
 "metadata": {
  "kernelspec": {
   "display_name": "Python 3 (ipykernel)",
   "language": "python",
   "name": "python3"
  },
  "language_info": {
   "codemirror_mode": {
    "name": "ipython",
    "version": 3
   },
   "file_extension": ".py",
   "mimetype": "text/x-python",
   "name": "python",
   "nbconvert_exporter": "python",
   "pygments_lexer": "ipython3",
   "version": "3.12.4"
  }
 },
 "nbformat": 4,
 "nbformat_minor": 5
}
