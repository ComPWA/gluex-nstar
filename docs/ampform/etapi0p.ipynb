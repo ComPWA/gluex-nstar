{
 "cells": [
  {
   "cell_type": "markdown",
   "metadata": {},
   "source": [
    "# pγ→ηπ⁰p amplitude model"
   ]
  },
  {
   "cell_type": "markdown",
   "metadata": {},
   "source": [
    "Formulate helicity amplitude model for $p \\gamma \\to \\eta \\pi^0 p$ symbolically using [AmpForm](https://ampform.rtfd.io)."
   ]
  },
  {
   "cell_type": "code",
   "execution_count": null,
   "metadata": {
    "jupyter": {
     "source_hidden": true
    },
    "mystnb": {
     "code_prompt_show": "Hide warnings"
    },
    "tags": [
     "hide-input"
    ]
   },
   "outputs": [],
   "source": [
    "from __future__ import annotations\n",
    "\n",
    "import logging\n",
    "import os\n",
    "import warnings\n",
    "\n",
    "os.environ[\"TF_CPP_MIN_LOG_LEVEL\"] = \"3\"\n",
    "logging.disable(logging.WARNING)\n",
    "warnings.filterwarnings(\"ignore\")"
   ]
  },
  {
   "cell_type": "code",
   "execution_count": null,
   "metadata": {
    "jupyter": {
     "source_hidden": true
    },
    "mystnb": {
     "code_prompt_show": "Import Python libraries"
    },
    "tags": [
     "hide-input"
    ]
   },
   "outputs": [],
   "source": [
    "from collections import defaultdict\n",
    "\n",
    "import ampform\n",
    "import graphviz\n",
    "import matplotlib.pyplot as plt\n",
    "import qrules\n",
    "from ampform.dynamics.builder import RelativisticBreitWignerBuilder\n",
    "from ampform.io import aslatex, improve_latex_rendering\n",
    "from IPython.display import Math\n",
    "from qrules.particle import Particle, Spin, create_particle, load_pdg\n",
    "from tensorwaves.data import (\n",
    "    SympyDataTransformer,\n",
    "    TFPhaseSpaceGenerator,\n",
    "    TFUniformRealNumberGenerator,\n",
    ")\n",
    "from tensorwaves.function.sympy import create_parametrized_function\n",
    "\n",
    "improve_latex_rendering()\n",
    "particle_db = load_pdg()"
   ]
  },
  {
   "cell_type": "markdown",
   "metadata": {},
   "source": [
    "## Generate transitions"
   ]
  },
  {
   "cell_type": "code",
   "execution_count": null,
   "metadata": {},
   "outputs": [],
   "source": [
    "pgamma1 = Particle(\n",
    "    name=\"pgamma1\",\n",
    "    latex=r\"p\\gamma (s1/2)\",\n",
    "    spin=0.5,\n",
    "    mass=4.101931071854584,\n",
    "    charge=1,\n",
    "    isospin=Spin(1 / 2, +1 / 2),\n",
    "    baryon_number=1,\n",
    "    parity=-1,\n",
    "    pid=99990,\n",
    ")\n",
    "pgamma2 = create_particle(\n",
    "    template_particle=pgamma1,\n",
    "    name=\"pgamma2\",\n",
    "    latex=R\"p\\gamma (s3/2)\",\n",
    "    spin=1.5,\n",
    "    pid=pgamma1.pid + 1,\n",
    ")\n",
    "particle_db.update([pgamma1, pgamma2])"
   ]
  },
  {
   "cell_type": "markdown",
   "metadata": {},
   "source": [
    "We keep the relevant information about branching fractions in the previous [Branching fraction](../branching-fraction.md) chapter.\n",
    "For simplicity, after the information about branching fraction, and under the current `qrules` results, we limit the intermediate resonances to be:\n",
    "\n",
    "- $a(2)$ for $\\eta \\pi^0$, \n",
    "- $\\Delta(1232)$ for $\\pi p$\",\n",
    "- and \"$N(1535)$\" for both $\\pi^0 p$ and $\\eta p$."
   ]
  },
  {
   "cell_type": "code",
   "execution_count": null,
   "metadata": {},
   "outputs": [],
   "source": [
    "reaction = qrules.generate_transitions(\n",
    "    initial_state=\"pgamma1\",\n",
    "    final_state=[\"eta\", \"pi0\", \"p\"],\n",
    "    allowed_intermediate_particles=[\"a(2)(1320)\", \"N(1535)\", \"Delta(1232)\"],\n",
    "    allowed_interaction_types=[\"strong\", \"EM\"],\n",
    "    particle_db=particle_db,\n",
    "    max_angular_momentum=3,\n",
    "    max_spin_magnitude=3,\n",
    "    mass_conservation_factor=0,\n",
    ")"
   ]
  },
  {
   "cell_type": "code",
   "execution_count": null,
   "metadata": {
    "jupyter": {
     "source_hidden": true
    },
    "tags": [
     "hide-input"
    ]
   },
   "outputs": [],
   "source": [
    "src = qrules.io.asdot(reaction, collapse_graphs=True)\n",
    "graphviz.Source(src)"
   ]
  },
  {
   "cell_type": "markdown",
   "metadata": {},
   "source": [
    "## Formulate model"
   ]
  },
  {
   "cell_type": "code",
   "execution_count": null,
   "metadata": {},
   "outputs": [],
   "source": [
    "model_builder = ampform.get_builder(reaction)\n",
    "model_builder.config.scalar_initial_state_mass = True\n",
    "model_builder.config.stable_final_state_ids = 0, 1, 2\n",
    "bw_builder = RelativisticBreitWignerBuilder(\n",
    "    energy_dependent_width=False,\n",
    "    form_factor=False,\n",
    ")\n",
    "for name in reaction.get_intermediate_particles().names:\n",
    "    model_builder.dynamics.assign(name, bw_builder)\n",
    "model = model_builder.formulate()"
   ]
  },
  {
   "cell_type": "markdown",
   "metadata": {},
   "source": [
    "The first component of the full amplitude is shown below.\n",
    "The other terms are in similar way of formualation and thus not showing explicitly here again."
   ]
  },
  {
   "cell_type": "code",
   "execution_count": null,
   "metadata": {
    "jupyter": {
     "source_hidden": true
    },
    "tags": [
     "hide-input",
     "full-width"
    ]
   },
   "outputs": [],
   "source": [
    "(symbol, expr), *_ = model.amplitudes.items()\n",
    "Math(aslatex({symbol: expr}, terms_per_line=1))"
   ]
  },
  {
   "cell_type": "code",
   "execution_count": null,
   "metadata": {
    "jupyter": {
     "source_hidden": true
    },
    "tags": [
     "hide-input"
    ]
   },
   "outputs": [],
   "source": [
    "sorted_parameter_defaults = {\n",
    "    symbol: model.parameter_defaults[symbol]\n",
    "    for symbol in sorted(model.parameter_defaults, key=str)\n",
    "}\n",
    "src = aslatex(sorted_parameter_defaults)\n",
    "Math(src)"
   ]
  },
  {
   "cell_type": "code",
   "execution_count": null,
   "metadata": {
    "jupyter": {
     "source_hidden": true
    },
    "tags": [
     "hide-input"
    ]
   },
   "outputs": [],
   "source": [
    "Math(aslatex(model.kinematic_variables))"
   ]
  },
  {
   "cell_type": "markdown",
   "metadata": {},
   "source": [
    "## Visualization"
   ]
  },
  {
   "cell_type": "code",
   "execution_count": null,
   "metadata": {},
   "outputs": [],
   "source": [
    "unfolded_expression = model.expression.doit()\n",
    "intensity_func = create_parametrized_function(\n",
    "    expression=unfolded_expression,\n",
    "    parameters=model.parameter_defaults,\n",
    "    backend=\"jax\",\n",
    ")"
   ]
  },
  {
   "cell_type": "code",
   "execution_count": null,
   "metadata": {
    "tags": [
     "hide-output"
    ]
   },
   "outputs": [],
   "source": [
    "phsp_event = 500_000\n",
    "rng = TFUniformRealNumberGenerator(seed=0)\n",
    "phsp_generator = TFPhaseSpaceGenerator(\n",
    "    initial_state_mass=reaction.initial_state[-1].mass,\n",
    "    final_state_masses={i: p.mass for i, p in reaction.final_state.items()},\n",
    ")\n",
    "phsp_momenta = phsp_generator.generate(phsp_event, rng)"
   ]
  },
  {
   "cell_type": "code",
   "execution_count": null,
   "metadata": {},
   "outputs": [],
   "source": [
    "helicity_transformer = SympyDataTransformer.from_sympy(\n",
    "    model.kinematic_variables,\n",
    "    backend=\"jax\",\n",
    ")\n",
    "phsp = helicity_transformer(phsp_momenta)"
   ]
  },
  {
   "cell_type": "code",
   "execution_count": null,
   "metadata": {
    "jupyter": {
     "source_hidden": true
    },
    "tags": [
     "hide-input",
     "scroll-input"
    ]
   },
   "outputs": [],
   "source": [
    "%config InlineBackend.figure_formats = ['png']\n",
    "\n",
    "fig, ax = plt.subplots(dpi=200)\n",
    "hist = ax.hist2d(\n",
    "    phsp[\"m_01\"].real ** 2,\n",
    "    phsp[\"m_12\"].real ** 2,\n",
    "    bins=200,\n",
    "    cmin=1e-6,\n",
    "    density=True,\n",
    "    cmap=\"jet\",\n",
    "    vmax=0.15,\n",
    "    weights=intensity_func(phsp),\n",
    ")\n",
    "ax.set_title(\"Model-weighted Phase space Dalitz Plot\")\n",
    "ax.set_xlabel(R\"$m^2(\\eta \\pi^0)\\;\\left[\\mathrm{GeV}^2\\right]$\")\n",
    "ax.set_ylabel(R\"$m^2(\\pi^0 p)\\;\\left[\\mathrm{GeV}^2\\right]$\")\n",
    "cbar = fig.colorbar(hist[3], ax=ax)\n",
    "fig.tight_layout()\n",
    "plt.show()"
   ]
  },
  {
   "cell_type": "code",
   "execution_count": null,
   "metadata": {
    "jupyter": {
     "source_hidden": true
    },
    "mystnb": {
     "code_prompt_show": "Collect resonances for each subsystem"
    },
    "tags": [
     "hide-input"
    ]
   },
   "outputs": [],
   "source": [
    "resonances = defaultdict(set)\n",
    "for transition in reaction.transitions:\n",
    "    topology = transition.topology\n",
    "    top_decay_products = topology.get_edge_ids_outgoing_from_node(0)\n",
    "    (resonance_id, resonance), *_ = transition.intermediate_states.items()\n",
    "    recoil_id, *_ = top_decay_products - {resonance_id}\n",
    "    resonances[recoil_id].add(resonance.particle)\n",
    "resonances = {k: sorted(v, key=lambda p: p.mass) for k, v in resonances.items()}\n",
    "{k: [p.name for p in v] for k, v in resonances.items()}"
   ]
  },
  {
   "cell_type": "code",
   "execution_count": null,
   "metadata": {
    "jupyter": {
     "source_hidden": true
    },
    "tags": [
     "full-width",
     "hide-input"
    ]
   },
   "outputs": [],
   "source": [
    "%config InlineBackend.figure_formats = ['svg']\n",
    "fig, axes = plt.subplots(figsize=(14, 4), ncols=3, sharey=True)\n",
    "ax1, ax2, ax3 = axes\n",
    "\n",
    "ax1.set_xlabel(R\"$m(\\pi^0 p)$ [GeV]\")\n",
    "ax2.set_xlabel(R\"$m(\\eta p)$ [GeV]\")\n",
    "ax3.set_xlabel(R\"$m(\\eta \\pi^0)$ [GeV]\")\n",
    "\n",
    "color_id = 0\n",
    "intensities = intensity_func(phsp)\n",
    "for recoil_id, ax in enumerate(axes):\n",
    "    decay_products = sorted({0, 1, 2} - {recoil_id})\n",
    "    key = f\"m_{''.join(str(i) for i in decay_products)}\"\n",
    "    ax.hist(\n",
    "        phsp[key].real,\n",
    "        alpha=0.5,\n",
    "        bins=100,\n",
    "        density=True,\n",
    "        weights=intensities,\n",
    "    )\n",
    "    for resonance in resonances[recoil_id]:\n",
    "        ax.axvline(\n",
    "            resonance.mass,\n",
    "            c=f\"C{color_id}\",\n",
    "            ls=\"dotted\",\n",
    "            label=resonance.name,\n",
    "        )\n",
    "        color_id += 1\n",
    "    ax.legend()\n",
    "\n",
    "fig.tight_layout()\n",
    "plt.show(fig)"
   ]
  }
 ],
 "metadata": {
  "kernelspec": {
   "display_name": "Python 3 (ipykernel)",
   "language": "python",
   "name": "python3"
  },
  "language_info": {
   "codemirror_mode": {
    "name": "ipython",
    "version": 3
   },
   "file_extension": ".py",
   "mimetype": "text/x-python",
   "name": "python",
   "nbconvert_exporter": "python",
   "pygments_lexer": "ipython3",
   "version": "3.12.4"
  }
 },
 "nbformat": 4,
 "nbformat_minor": 4
}
