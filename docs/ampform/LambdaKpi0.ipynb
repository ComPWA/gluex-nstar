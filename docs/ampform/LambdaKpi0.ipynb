{
 "cells": [
  {
   "cell_type": "markdown",
   "metadata": {},
   "source": [
    "# pγ → ΛK⁺π⁰ amplitude model"
   ]
  },
  {
   "cell_type": "markdown",
   "metadata": {},
   "source": [
    "PWA study on $p \\gamma \\to \\Lambda K^+ \\pi^0$.\n",
    "We formulate the helicity amplitude model symbolically using `AmpForm` here."
   ]
  },
  {
   "cell_type": "code",
   "execution_count": null,
   "metadata": {
    "jupyter": {
     "source_hidden": true
    },
    "mystnb": {
     "code_prompt_show": "Import Python libraries"
    },
    "tags": [
     "hide-input"
    ]
   },
   "outputs": [],
   "source": [
    "from __future__ import annotations\n",
    "\n",
    "import logging\n",
    "import os\n",
    "import warnings\n",
    "from collections import defaultdict\n",
    "from fractions import Fraction\n",
    "\n",
    "import ampform\n",
    "import graphviz\n",
    "import jax\n",
    "import matplotlib.pyplot as plt\n",
    "import numpy as np\n",
    "import pandas as pd\n",
    "import qrules\n",
    "from ampform.dynamics.builder import RelativisticBreitWignerBuilder\n",
    "from ampform.io import aslatex, improve_latex_rendering\n",
    "from IPython.display import Markdown, Math, display\n",
    "from qrules.particle import Particle, Spin, create_particle, load_pdg\n",
    "from tensorwaves.data import (\n",
    "    SympyDataTransformer,\n",
    "    TFPhaseSpaceGenerator,\n",
    "    TFUniformRealNumberGenerator,\n",
    ")\n",
    "from tensorwaves.function.sympy import create_parametrized_function\n",
    "\n",
    "os.environ[\"TF_CPP_MIN_LOG_LEVEL\"] = \"3\"\n",
    "logging.disable(logging.WARNING)\n",
    "warnings.filterwarnings(\"ignore\")\n",
    "\n",
    "improve_latex_rendering()\n",
    "particle_db = load_pdg()"
   ]
  },
  {
   "cell_type": "markdown",
   "metadata": {},
   "source": [
    "## Decay definition"
   ]
  },
  {
   "cell_type": "markdown",
   "metadata": {},
   "source": [
    "### Particle definitions"
   ]
  },
  {
   "cell_type": "code",
   "execution_count": null,
   "metadata": {
    "tags": [
     "hide-input"
    ]
   },
   "outputs": [],
   "source": [
    "particles = [\"Lambda\", \"K+\", \"pi0\", \"gamma\", \"p\"]\n",
    "latex_particle_names = {\n",
    "    \"Lambda\": r\"$\\Lambda$\",\n",
    "    \"K+\": r\"$K^+$\",\n",
    "    \"pi0\": r\"$\\pi^0$\",\n",
    "    \"gamma\": r\"$\\gamma$\",\n",
    "    \"p\": \"p\",\n",
    "}\n",
    "\n",
    "\n",
    "def format_parity(parity: int | None) -> str:\n",
    "    if parity is None:\n",
    "        return \"\"\n",
    "    if parity == -1:\n",
    "        return \"-\"\n",
    "    if parity == 1:\n",
    "        return \"+\"\n",
    "    return str(parity)\n",
    "\n",
    "\n",
    "def format_fraction(value: Fraction | None) -> str | None:\n",
    "    if value is None:\n",
    "        return None\n",
    "    if value.denominator == 1:\n",
    "        return str(value.numerator)\n",
    "    return rf\"\\frac{{{value.numerator}}}{{{value.denominator}}}\"\n",
    "\n",
    "\n",
    "def format_fraction_isospin3(value: Fraction | None) -> str | None:\n",
    "    if value is None:\n",
    "        return None\n",
    "    if value.denominator == 1:\n",
    "        return str(value.numerator)\n",
    "    return rf\"$\\frac{{{value.numerator}}}{{{value.denominator}}}$\"\n",
    "\n",
    "\n",
    "def particle_extract(name: str) -> dict:\n",
    "    particle = particle_db[name]\n",
    "\n",
    "    isospin_magnitude_value = (\n",
    "        Fraction(particle.isospin.magnitude) if particle.isospin is not None else None\n",
    "    )\n",
    "    isospin_magnitude_latex = (\n",
    "        format_fraction(isospin_magnitude_value)\n",
    "        if isospin_magnitude_value is not None\n",
    "        else \"0\"\n",
    "        if particle.isospin and particle.isospin.magnitude == 0\n",
    "        else \"None\"\n",
    "    )\n",
    "\n",
    "    isospin_projection_value = (\n",
    "        Fraction(particle.isospin.projection) if particle.isospin is not None else None\n",
    "    )\n",
    "    isospin_projection_latex = (\n",
    "        format_fraction_isospin3(isospin_projection_value)\n",
    "        if isospin_projection_value is not None\n",
    "        else \"0\"\n",
    "        if particle.isospin and particle.isospin.projection == 0\n",
    "        else \"None\"\n",
    "    )\n",
    "\n",
    "    spin_fraction_value = Fraction(particle.spin) if particle.spin is not None else None\n",
    "    spin_latex = (\n",
    "        format_fraction(spin_fraction_value)\n",
    "        if spin_fraction_value is not None\n",
    "        else \"0\"\n",
    "        if particle.spin == 0\n",
    "        else \"None\"\n",
    "    )\n",
    "\n",
    "    if particle.isospin is not None:\n",
    "        jpc_ig = rf\"${spin_latex}^{{{format_parity(particle.parity)}{format_parity(particle.c_parity)}}} \\ ({isospin_magnitude_latex}^{{{format_parity(particle.g_parity)}}})$\"\n",
    "    else:\n",
    "        jpc_ig = rf\"${spin_latex}^{{{format_parity(particle.parity)}{format_parity(particle.c_parity)}}}$\"\n",
    "\n",
    "    return {\n",
    "        \"Name\": particle.name,\n",
    "        \"Latex\": particle.latex,\n",
    "        \"PID\": str(particle.pid),\n",
    "        r\"$J^{PC} (I^G)$\": jpc_ig,\n",
    "        r\"$I_3$\": isospin_projection_latex,\n",
    "        r\"$M$\": str(particle.mass),\n",
    "        r\"$\\Gamma$\": str(particle.width),\n",
    "        r\"$Q$\": str(particle.charge),\n",
    "        r\"$S$\": str(particle.strangeness),\n",
    "        r\"$B$\": str(particle.baryon_number),\n",
    "    }\n",
    "\n",
    "\n",
    "info = [particle_extract(name) for name in particles]\n",
    "particle_dataframe = pd.DataFrame(info)\n",
    "\n",
    "particle_dataframe_transposed = particle_dataframe.transpose().reset_index()\n",
    "particle_dataframe_transposed.columns = [\"\", *particles]\n",
    "particle_dataframe_transposed.columns = [\n",
    "    \"\",\n",
    "    *[f\"${latex_particle_names.get(name, name)}$\" for name in particles],\n",
    "]\n",
    "\n",
    "particle_dataframe_transposed.style.hide(axis=\"index\")"
   ]
  },
  {
   "cell_type": "code",
   "execution_count": null,
   "metadata": {},
   "outputs": [],
   "source": [
    "def generate_markdown_table(particles):\n",
    "    headers = [\"Attribute\"] + [\n",
    "        latex_particle_names.get(name, name) for name in particles\n",
    "    ]\n",
    "    rows = [headers]\n",
    "\n",
    "    info = [particle_extract(name) for name in particles]\n",
    "    for key in info[0]:\n",
    "        row = [key] + [particle[key] for particle in info]\n",
    "        rows.append(row)\n",
    "\n",
    "    table_md = \"| \" + \" | \".join(headers) + \" |\\n\"\n",
    "    table_md += \"| \" + \" | \".join([\"---\"] * len(headers)) + \" |\\n\"\n",
    "    for row in rows[1:]:\n",
    "        table_md += \"| \" + \" | \".join(row) + \" |\\n\"\n",
    "\n",
    "    return table_md\n",
    "\n",
    "\n",
    "particles = [\"Lambda\", \"K+\", \"pi0\", \"gamma\", \"p\"]\n",
    "markdown_table = generate_markdown_table(particles)\n",
    "display(Markdown(markdown_table))"
   ]
  },
  {
   "cell_type": "code",
   "execution_count": null,
   "metadata": {},
   "outputs": [],
   "source": [
    "def generate_markdown_table(particles):\n",
    "    headers = [\"Particle\", *particle_extract(particles[0]).keys()]\n",
    "    rows = []\n",
    "\n",
    "    for name in particles:\n",
    "        row = [latex_particle_names.get(name, name), *particle_extract(name).values()]\n",
    "        rows.append(row)\n",
    "\n",
    "    table_md = \"| \" + \" | \".join(headers) + \" |\\n\"\n",
    "    table_md += \"| \" + \" | \".join([\"---\"] * len(headers)) + \" |\\n\"\n",
    "    for row in rows:\n",
    "        table_md += \"| \" + \" | \".join(row) + \" |\\n\"\n",
    "\n",
    "    return table_md\n",
    "\n",
    "\n",
    "particles = [\"Lambda\", \"K+\", \"pi0\", \"gamma\", \"p\"]\n",
    "markdown_table = generate_markdown_table(particles)\n",
    "display(Markdown(markdown_table))"
   ]
  },
  {
   "cell_type": "markdown",
   "metadata": {},
   "source": [
    "In the table above, PID is the PDG ID from PDG particle numbering scheme,\n",
    "$J$ is the spin, $P$ is the parity, $C$ is the C parity, $I$ is the isospin (magnitude), $G$ is the G parity.\n",
    "$I_3$ is the isospin projection (or the 3rd component),\n",
    "$M$ is the mass,\n",
    "$\\Gamma$ is the width,\n",
    "$Q$ is the charge,\n",
    "$S$ is the strangeness number,\n",
    "and $B$ is the baryon number."
   ]
  },
  {
   "cell_type": "markdown",
   "metadata": {},
   "source": [
    "### Initial state definition"
   ]
  },
  {
   "cell_type": "markdown",
   "metadata": {},
   "source": [
    "Mass for $p \\gamma$ system"
   ]
  },
  {
   "cell_type": "code",
   "execution_count": null,
   "metadata": {},
   "outputs": [],
   "source": [
    "E_lab_gamma = 8.5\n",
    "m_proton = 0.938\n",
    "m_0 = np.sqrt(2 * E_lab_gamma * m_proton + m_proton**2)\n",
    "m_eta = 0.548\n",
    "m_pi = 0.135\n",
    "m_0"
   ]
  },
  {
   "cell_type": "markdown",
   "metadata": {},
   "source": [
    "Add custom particle $p \\gamma$"
   ]
  },
  {
   "cell_type": "code",
   "execution_count": null,
   "metadata": {},
   "outputs": [],
   "source": [
    "pgamma1 = Particle(\n",
    "    name=\"pgamma1\",\n",
    "    latex=r\"p\\gamma (s1/2)\",\n",
    "    spin=0.5,\n",
    "    mass=m_0,\n",
    "    charge=1,\n",
    "    isospin=Spin(1 / 2, +1 / 2),\n",
    "    baryon_number=1,\n",
    "    parity=-1,\n",
    "    pid=99990,\n",
    ")\n",
    "pgamma2 = create_particle(\n",
    "    template_particle=pgamma1,\n",
    "    name=\"pgamma2\",\n",
    "    latex=R\"p\\gamma (s3/2)\",\n",
    "    spin=1.5,\n",
    "    pid=pgamma1.pid + 1,\n",
    ")\n",
    "particle_db.update([pgamma1, pgamma2])"
   ]
  },
  {
   "cell_type": "markdown",
   "metadata": {},
   "source": [
    "### Generate transitions"
   ]
  },
  {
   "cell_type": "markdown",
   "metadata": {},
   "source": [
    "For simplicity, we use the initial state $p \\gamma$ (with spin-$\\frac{1}{2}$), \n",
    "and set the allowed interaction type to be strong only,\n",
    "the formalism is selected to be helicity formalism instead of canonical."
   ]
  },
  {
   "cell_type": "markdown",
   "metadata": {},
   "source": [
    ":::{seealso}\n",
    "[Helicity versus canonical](https://ampform.readthedocs.io/stable/usage/helicity/formalism.html)\n",
    ":::"
   ]
  },
  {
   "cell_type": "code",
   "execution_count": null,
   "metadata": {},
   "outputs": [],
   "source": [
    "reaction = qrules.generate_transitions(\n",
    "    initial_state=(\"pgamma1\"),\n",
    "    final_state=[\"Lambda\", \"K+\", \"pi0\"],\n",
    "    allowed_interaction_types=[\"strong\"],\n",
    "    formalism=\"helicity\",\n",
    "    particle_db=particle_db,\n",
    "    max_angular_momentum=4,\n",
    "    max_spin_magnitude=4,\n",
    "    mass_conservation_factor=0,\n",
    ")"
   ]
  },
  {
   "cell_type": "code",
   "execution_count": null,
   "metadata": {
    "jupyter": {
     "source_hidden": true
    },
    "tags": [
     "hide-input"
    ]
   },
   "outputs": [],
   "source": [
    "dot = qrules.io.asdot(reaction, collapse_graphs=True)\n",
    "graphviz.Source(dot)"
   ]
  },
  {
   "cell_type": "markdown",
   "metadata": {},
   "source": [
    "## Formulate amplitude model"
   ]
  },
  {
   "cell_type": "code",
   "execution_count": null,
   "metadata": {},
   "outputs": [],
   "source": [
    "model_builder = ampform.get_builder(reaction)\n",
    "model_builder.config.scalar_initial_state_mass = True\n",
    "model_builder.config.stable_final_state_ids = 0, 1, 2\n",
    "bw_builder = RelativisticBreitWignerBuilder(\n",
    "    energy_dependent_width=False,\n",
    "    form_factor=False,\n",
    ")\n",
    "for name in reaction.get_intermediate_particles().names:\n",
    "    model_builder.dynamics.assign(name, bw_builder)\n",
    "model = model_builder.formulate()"
   ]
  },
  {
   "cell_type": "code",
   "execution_count": null,
   "metadata": {},
   "outputs": [],
   "source": [
    "model.intensity"
   ]
  },
  {
   "cell_type": "markdown",
   "metadata": {},
   "source": [
    "The first term in the amplitude model:"
   ]
  },
  {
   "cell_type": "code",
   "execution_count": null,
   "metadata": {
    "jupyter": {
     "source_hidden": true
    },
    "tags": [
     "hide-input",
     "scroll-output"
    ]
   },
   "outputs": [],
   "source": [
    "(symbol, expr), *_ = model.amplitudes.items()\n",
    "Math(aslatex({symbol: expr}, terms_per_line=1))"
   ]
  },
  {
   "cell_type": "code",
   "execution_count": null,
   "metadata": {
    "mystnb": {
     "code_prompt_show": "Model parameters"
    },
    "tags": [
     "scroll-output",
     "hide-input"
    ]
   },
   "outputs": [],
   "source": [
    "Math(aslatex(model.parameter_defaults))"
   ]
  },
  {
   "cell_type": "code",
   "execution_count": null,
   "metadata": {
    "mystnb": {
     "code_prompt_show": "Kinematic variable definitions"
    },
    "tags": [
     "hide-input",
     "scroll-output"
    ]
   },
   "outputs": [],
   "source": [
    "Math(aslatex(model.kinematic_variables))"
   ]
  },
  {
   "cell_type": "markdown",
   "metadata": {},
   "source": [
    "## Visualization"
   ]
  },
  {
   "cell_type": "code",
   "execution_count": null,
   "metadata": {},
   "outputs": [],
   "source": [
    "unfolded_expression = model.expression.doit()\n",
    "intensity_func = create_parametrized_function(\n",
    "    expression=unfolded_expression,\n",
    "    parameters=model.parameter_defaults,\n",
    "    backend=\"jax\",\n",
    ")"
   ]
  },
  {
   "cell_type": "code",
   "execution_count": null,
   "metadata": {
    "tags": [
     "remove-output"
    ]
   },
   "outputs": [],
   "source": [
    "phsp_event = 500_000\n",
    "rng = TFUniformRealNumberGenerator(seed=0)\n",
    "phsp_generator = TFPhaseSpaceGenerator(\n",
    "    initial_state_mass=reaction.initial_state[-1].mass,\n",
    "    final_state_masses={i: p.mass for i, p in reaction.final_state.items()},\n",
    ")\n",
    "phsp_momenta = phsp_generator.generate(phsp_event, rng)"
   ]
  },
  {
   "cell_type": "code",
   "execution_count": null,
   "metadata": {},
   "outputs": [],
   "source": [
    "helicity_transformer = SympyDataTransformer.from_sympy(\n",
    "    model.kinematic_variables,\n",
    "    backend=\"jax\",\n",
    ")\n",
    "phsp = helicity_transformer(phsp_momenta)"
   ]
  },
  {
   "cell_type": "code",
   "execution_count": null,
   "metadata": {
    "jupyter": {
     "source_hidden": true
    },
    "tags": [
     "hide-input"
    ]
   },
   "outputs": [],
   "source": [
    "%config InlineBackend.figure_formats = ['png']\n",
    "fig, ax = plt.subplots(dpi=200)\n",
    "hist = ax.hist2d(\n",
    "    phsp[\"m_01\"].real ** 2,\n",
    "    phsp[\"m_12\"].real ** 2,\n",
    "    bins=200,\n",
    "    cmin=1e-6,\n",
    "    density=True,\n",
    "    cmap=\"jet\",\n",
    "    vmax=0.15,\n",
    "    weights=intensity_func(phsp),\n",
    ")\n",
    "ax.set_title(\"Model-weighted Phase space Dalitz Plot\")\n",
    "ax.set_xlabel(R\"$m^2(\\Lambda K^+)\\;\\left[\\mathrm{GeV}^2\\right]$\")\n",
    "ax.set_ylabel(R\"$m^2(K^+ \\pi^0)\\;\\left[\\mathrm{GeV}^2\\right]$\")\n",
    "cbar = fig.colorbar(hist[3], ax=ax)\n",
    "fig.tight_layout()\n",
    "plt.show()"
   ]
  },
  {
   "cell_type": "code",
   "execution_count": null,
   "metadata": {
    "jupyter": {
     "source_hidden": true
    },
    "tags": [
     "hide-output",
     "hide-input"
    ]
   },
   "outputs": [],
   "source": [
    "resonances = defaultdict(set)\n",
    "for transition in reaction.transitions:\n",
    "    topology = transition.topology\n",
    "    top_decay_products = topology.get_edge_ids_outgoing_from_node(0)\n",
    "    (resonance_id, resonance), *_ = transition.intermediate_states.items()\n",
    "    recoil_id, *_ = top_decay_products - {resonance_id}\n",
    "    resonances[recoil_id].add(resonance.particle)\n",
    "resonances = {k: sorted(v, key=lambda p: p.mass) for k, v in resonances.items()}\n",
    "{k: [p.name for p in v] for k, v in resonances.items()}"
   ]
  },
  {
   "cell_type": "code",
   "execution_count": null,
   "metadata": {
    "jupyter": {
     "source_hidden": true
    },
    "tags": [
     "hide-input",
     "full-width"
    ]
   },
   "outputs": [],
   "source": [
    "%config InlineBackend.figure_formats = ['svg']\n",
    "fig, axes = plt.subplots(figsize=(14, 4), ncols=3, sharey=True)\n",
    "ax1, ax2, ax3 = axes\n",
    "\n",
    "max_value = 0\n",
    "color_id = 0\n",
    "intensities = intensity_func(phsp)\n",
    "for recoil_id, ax in enumerate(axes):\n",
    "    decay_products = sorted({0, 1, 2} - {recoil_id})\n",
    "    key = f\"m_{''.join(str(i) for i in decay_products)}\"\n",
    "    bin_values, bin_edges = jax.numpy.histogram(\n",
    "        phsp[key].real,\n",
    "        bins=100,\n",
    "        density=True,\n",
    "        weights=intensities,\n",
    "    )\n",
    "    max_value = max(max_value, bin_values.max())\n",
    "    ax.fill_between(\n",
    "        bin_edges[:-1],\n",
    "        bin_values,\n",
    "        alpha=0.5,\n",
    "        step=\"pre\",\n",
    "    )\n",
    "    ax.set_ylim(0, None)\n",
    "    for resonance in resonances[recoil_id]:\n",
    "        ax.axvline(\n",
    "            resonance.mass,\n",
    "            c=f\"C{color_id}\",\n",
    "            ls=\"dotted\",\n",
    "            label=resonance.name,\n",
    "        )\n",
    "        color_id += 1\n",
    "\n",
    "        product_latex = \" \".join(\n",
    "            [reaction.final_state[i].latex for i in decay_products],\n",
    "        )\n",
    "        ax.set_xlabel(f\"$m({product_latex})$ [GeV]\")\n",
    "\n",
    "        if recoil_id == 0:\n",
    "            ax.legend(fontsize=\"small\", loc=\"upper right\")\n",
    "        elif recoil_id == 1:\n",
    "            ax.legend(fontsize=\"small\", loc=\"upper center\", bbox_to_anchor=(0.6, 1.0))\n",
    "        else:\n",
    "            ax.legend(fontsize=\"small\", loc=\"upper center\")\n",
    "for ax in axes:\n",
    "    ax.set_ylim(0, max_value * 1.1)\n",
    "\n",
    "fig.tight_layout()\n",
    "plt.show(fig)"
   ]
  }
 ],
 "metadata": {
  "kernelspec": {
   "display_name": "Python 3 (ipykernel)",
   "language": "python",
   "name": "python3"
  },
  "language_info": {
   "codemirror_mode": {
    "name": "ipython",
    "version": 3
   },
   "file_extension": ".py",
   "mimetype": "text/x-python",
   "name": "python",
   "nbconvert_exporter": "python",
   "pygments_lexer": "ipython3",
   "version": "3.12.4"
  }
 },
 "nbformat": 4,
 "nbformat_minor": 4
}
