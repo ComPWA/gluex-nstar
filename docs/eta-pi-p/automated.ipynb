{
 "cells": [
  {
   "cell_type": "markdown",
   "metadata": {},
   "source": [
    "# Amplitude model with `ampform`"
   ]
  },
  {
   "cell_type": "markdown",
   "metadata": {},
   "source": [
    "Formulate helicity amplitude model for $p \\gamma \\to \\eta \\pi^0 p$ symbolically using [AmpForm](https://ampform.rtfd.io)."
   ]
  },
  {
   "cell_type": "code",
   "execution_count": null,
   "metadata": {
    "jupyter": {
     "source_hidden": true
    },
    "mystnb": {
     "code_prompt_show": "Import Python libraries"
    },
    "tags": [
     "hide-input"
    ]
   },
   "outputs": [],
   "source": [
    "from __future__ import annotations\n",
    "\n",
    "import logging\n",
    "import os\n",
    "import warnings\n",
    "from collections import defaultdict\n",
    "\n",
    "import ampform\n",
    "import graphviz\n",
    "import ipywidgets as w\n",
    "import jax\n",
    "import jax.numpy as jnp\n",
    "import matplotlib.pyplot as plt\n",
    "import numpy as np\n",
    "import qrules\n",
    "import sympy as sp\n",
    "from ampform.dynamics.builder import RelativisticBreitWignerBuilder\n",
    "from ampform.io import aslatex, improve_latex_rendering\n",
    "from IPython.display import SVG, Image, Math, display\n",
    "from qrules.particle import Particle, Spin, create_particle, load_pdg\n",
    "from tensorwaves.data import (\n",
    "    SympyDataTransformer,\n",
    "    TFPhaseSpaceGenerator,\n",
    "    TFUniformRealNumberGenerator,\n",
    ")\n",
    "from tensorwaves.function.sympy import create_parametrized_function\n",
    "\n",
    "STATIC_PAGE = \"EXECUTE_NB\" in os.environ\n",
    "\n",
    "os.environ[\"TF_CPP_MIN_LOG_LEVEL\"] = \"3\"\n",
    "logging.disable(logging.WARNING)\n",
    "warnings.filterwarnings(\"ignore\")\n",
    "\n",
    "improve_latex_rendering()\n",
    "particle_db = load_pdg()"
   ]
  },
  {
   "cell_type": "markdown",
   "metadata": {},
   "source": [
    "## Generate transitions"
   ]
  },
  {
   "cell_type": "code",
   "execution_count": null,
   "metadata": {},
   "outputs": [],
   "source": [
    "pgamma1 = Particle(\n",
    "    name=\"pgamma1\",\n",
    "    latex=r\"p\\gamma (s1/2)\",\n",
    "    spin=0.5,\n",
    "    mass=4.101931071854584,\n",
    "    charge=1,\n",
    "    isospin=Spin(1 / 2, +1 / 2),\n",
    "    baryon_number=1,\n",
    "    parity=-1,\n",
    "    pid=99990,\n",
    ")\n",
    "pgamma2 = create_particle(\n",
    "    template_particle=pgamma1,\n",
    "    name=\"pgamma2\",\n",
    "    latex=R\"p\\gamma (s3/2)\",\n",
    "    spin=1.5,\n",
    "    pid=pgamma1.pid + 1,\n",
    ")\n",
    "particle_db.update([pgamma1, pgamma2])"
   ]
  },
  {
   "cell_type": "markdown",
   "metadata": {},
   "source": [
    "We keep the relevant information about branching fractions in the previous [Branching fraction](../branching-fraction.md) chapter.\n",
    "For simplicity, after the information about branching fraction, and under the current `qrules` results, we limit the intermediate resonances to be:\n",
    "\n",
    "- $a(2)$ for $\\eta \\pi^0$, \n",
    "- $\\Delta(1232)$ for $\\pi p$\",\n",
    "- and \"$N(1535)$\" for both $\\pi^0 p$ and $\\eta p$."
   ]
  },
  {
   "cell_type": "code",
   "execution_count": null,
   "metadata": {},
   "outputs": [],
   "source": [
    "reaction = qrules.generate_transitions(\n",
    "    initial_state=\"pgamma1\",\n",
    "    final_state=[\"eta\", \"pi0\", \"p\"],\n",
    "    allowed_intermediate_particles=[\"a(2)(1320)\", \"N(1535)\", \"Delta(1232)\"],\n",
    "    allowed_interaction_types=[\"strong\", \"EM\"],\n",
    "    particle_db=particle_db,\n",
    "    max_angular_momentum=3,\n",
    "    max_spin_magnitude=3,\n",
    "    mass_conservation_factor=0,\n",
    ")"
   ]
  },
  {
   "cell_type": "code",
   "execution_count": null,
   "metadata": {
    "jupyter": {
     "source_hidden": true
    },
    "tags": [
     "hide-input"
    ]
   },
   "outputs": [],
   "source": [
    "src = qrules.io.asdot(reaction, collapse_graphs=True)\n",
    "graphviz.Source(src)"
   ]
  },
  {
   "cell_type": "markdown",
   "metadata": {},
   "source": [
    "## Formulate model"
   ]
  },
  {
   "cell_type": "code",
   "execution_count": null,
   "metadata": {},
   "outputs": [],
   "source": [
    "model_builder = ampform.get_builder(reaction)\n",
    "model_builder.config.scalar_initial_state_mass = True\n",
    "model_builder.config.stable_final_state_ids = 0, 1, 2\n",
    "bw_builder = RelativisticBreitWignerBuilder(\n",
    "    energy_dependent_width=False,\n",
    "    form_factor=False,\n",
    ")\n",
    "for name in reaction.get_intermediate_particles().names:\n",
    "    model_builder.dynamics.assign(name, bw_builder)\n",
    "model = model_builder.formulate()"
   ]
  },
  {
   "cell_type": "markdown",
   "metadata": {},
   "source": [
    "The first component of the full amplitude is shown below.\n",
    "The other terms are in similar way of formualation and thus not showing explicitly here again."
   ]
  },
  {
   "cell_type": "code",
   "execution_count": null,
   "metadata": {
    "jupyter": {
     "source_hidden": true
    },
    "tags": [
     "hide-input",
     "full-width"
    ]
   },
   "outputs": [],
   "source": [
    "(symbol, expr), *_ = model.amplitudes.items()\n",
    "Math(aslatex({symbol: expr}, terms_per_line=1))"
   ]
  },
  {
   "cell_type": "code",
   "execution_count": null,
   "metadata": {
    "jupyter": {
     "source_hidden": true
    },
    "tags": [
     "hide-input"
    ]
   },
   "outputs": [],
   "source": [
    "sorted_parameter_defaults = {\n",
    "    symbol: model.parameter_defaults[symbol]\n",
    "    for symbol in sorted(model.parameter_defaults, key=str)\n",
    "}\n",
    "src = aslatex(sorted_parameter_defaults)\n",
    "Math(src)"
   ]
  },
  {
   "cell_type": "code",
   "execution_count": null,
   "metadata": {
    "jupyter": {
     "source_hidden": true
    },
    "tags": [
     "hide-input"
    ]
   },
   "outputs": [],
   "source": [
    "Math(aslatex(model.kinematic_variables))"
   ]
  },
  {
   "cell_type": "markdown",
   "metadata": {},
   "source": [
    "## Visualization"
   ]
  },
  {
   "cell_type": "code",
   "execution_count": null,
   "metadata": {},
   "outputs": [],
   "source": [
    "unfolded_expression = model.expression.doit()\n",
    "intensity_func = create_parametrized_function(\n",
    "    expression=unfolded_expression,\n",
    "    parameters=model.parameter_defaults,\n",
    "    backend=\"jax\",\n",
    ")"
   ]
  },
  {
   "cell_type": "code",
   "execution_count": null,
   "metadata": {
    "tags": [
     "hide-output"
    ]
   },
   "outputs": [],
   "source": [
    "phsp_event = 500_000\n",
    "rng = TFUniformRealNumberGenerator(seed=0)\n",
    "phsp_generator = TFPhaseSpaceGenerator(\n",
    "    initial_state_mass=reaction.initial_state[-1].mass,\n",
    "    final_state_masses={i: p.mass for i, p in reaction.final_state.items()},\n",
    ")\n",
    "phsp_momenta = phsp_generator.generate(phsp_event, rng)"
   ]
  },
  {
   "cell_type": "code",
   "execution_count": null,
   "metadata": {},
   "outputs": [],
   "source": [
    "helicity_transformer = SympyDataTransformer.from_sympy(\n",
    "    model.kinematic_variables,\n",
    "    backend=\"jax\",\n",
    ")\n",
    "phsp = helicity_transformer(phsp_momenta)"
   ]
  },
  {
   "cell_type": "code",
   "execution_count": null,
   "metadata": {
    "jupyter": {
     "source_hidden": true
    },
    "mystnb": {
     "code_prompt_show": "Collect resonances for each subsystem"
    },
    "tags": [
     "hide-input"
    ]
   },
   "outputs": [],
   "source": [
    "resonances = defaultdict(set)\n",
    "for transition in reaction.transitions:\n",
    "    topology = transition.topology\n",
    "    top_decay_products = topology.get_edge_ids_outgoing_from_node(0)\n",
    "    (resonance_id, resonance), *_ = transition.intermediate_states.items()\n",
    "    recoil_id, *_ = top_decay_products - {resonance_id}\n",
    "    resonances[recoil_id].add(resonance.particle)\n",
    "resonances = {k: sorted(v, key=lambda p: p.mass) for k, v in resonances.items()}\n",
    "{k: [p.name for p in v] for k, v in resonances.items()}"
   ]
  },
  {
   "cell_type": "code",
   "execution_count": null,
   "metadata": {
    "jupyter": {
     "source_hidden": true
    },
    "mystnb": {
     "code_prompt_show": "Design slider UI"
    },
    "tags": [
     "hide-input"
    ]
   },
   "outputs": [],
   "source": [
    "sliders = {}\n",
    "categorized_sliders_m = defaultdict(list)\n",
    "categorized_sliders_gamma = defaultdict(list)\n",
    "categorized_cphi_pair = defaultdict(list)\n",
    "\n",
    "for symbol, value in model.parameter_defaults.items():\n",
    "    if symbol.name.startswith(R\"\\Gamma_{\"):\n",
    "        slider = w.FloatSlider(\n",
    "            description=Rf\"\\({sp.latex(symbol)}\\)\",\n",
    "            min=0.0,\n",
    "            max=1.0,\n",
    "            step=0.01,\n",
    "            value=value,\n",
    "            continuous_update=False,\n",
    "        )\n",
    "        sliders[symbol.name] = slider\n",
    "        if symbol.name.startswith(R\"\\Gamma_{N\"):\n",
    "            categorized_sliders_gamma[0].append(slider)\n",
    "        elif symbol.name.startswith(R\"\\Gamma_{\\D\"):\n",
    "            categorized_sliders_gamma[1].append(slider)\n",
    "        elif symbol.name.startswith(R\"\\Gamma_{a\"):\n",
    "            categorized_sliders_gamma[2].append(slider)\n",
    "\n",
    "    if symbol.name.startswith(\"m_{\"):\n",
    "        slider = w.FloatSlider(\n",
    "            description=Rf\"\\({sp.latex(symbol)}\\)\",\n",
    "            min=0.63,\n",
    "            max=4,\n",
    "            step=0.01,\n",
    "            value=value,\n",
    "            continuous_update=False,\n",
    "        )\n",
    "        sliders[symbol.name] = slider\n",
    "        if symbol.name.startswith(\"m_{N\"):\n",
    "            categorized_sliders_m[0].append(slider)\n",
    "        elif symbol.name.startswith(R\"m_{\\D\"):\n",
    "            categorized_sliders_m[1].append(slider)\n",
    "        elif symbol.name.startswith(\"m_{a\"):\n",
    "            categorized_sliders_m[2].append(slider)\n",
    "\n",
    "    if symbol.name.startswith(\"C_{\"):\n",
    "        c_latex = sp.latex(symbol)\n",
    "        phi_latex = c_latex.replace(\"C\", R\"\\phi\", 1)\n",
    "\n",
    "        slider_c = w.FloatSlider(\n",
    "            description=Rf\"\\({c_latex}\\)\",\n",
    "            min=0,\n",
    "            max=10,\n",
    "            step=0.01,\n",
    "            value=abs(value),\n",
    "            continuous_update=False,\n",
    "        )\n",
    "        slider_phi = w.FloatSlider(\n",
    "            description=Rf\"\\({phi_latex}\\)\",\n",
    "            min=-np.pi,\n",
    "            max=+np.pi,\n",
    "            step=0.01,\n",
    "            value=np.angle(value),\n",
    "            continuous_update=False,\n",
    "        )\n",
    "\n",
    "        sliders[symbol.name] = slider_c\n",
    "        sliders[symbol.name.replace(\"C\", \"phi\", 1)] = slider_phi\n",
    "\n",
    "        cphi_hbox = w.HBox([slider_c, slider_phi])\n",
    "        if R\"\\D\" in symbol.name:\n",
    "            categorized_cphi_pair[1].append(cphi_hbox)\n",
    "        elif \"N\" in symbol.name:\n",
    "            categorized_cphi_pair[0].append(cphi_hbox)\n",
    "        elif \"a\" in symbol.name:\n",
    "            categorized_cphi_pair[2].append(cphi_hbox)\n",
    "\n",
    "tab_contents = []\n",
    "resonances_name = [\"N*\", \"Δ*\", \"a₂*\"]\n",
    "for i in range(len(resonances_name)):\n",
    "    tab_content = w.VBox([\n",
    "        w.HBox(categorized_sliders_m[i] + categorized_sliders_gamma[i]),\n",
    "        w.VBox(categorized_cphi_pair[i]),\n",
    "    ])\n",
    "    tab_contents.append(tab_content)\n",
    "UI = w.Tab(tab_contents, titles=resonances_name)"
   ]
  },
  {
   "cell_type": "code",
   "execution_count": null,
   "metadata": {
    "tags": [
     "hide-input"
    ]
   },
   "outputs": [],
   "source": [
    "def insert_phi(parameters: dict) -> dict:\n",
    "    updated_parameters = {}\n",
    "    for key, value in parameters.items():\n",
    "        if key.startswith(\"phi_\"):\n",
    "            continue\n",
    "        if key.startswith(\"C_\"):\n",
    "            phi_key = key.replace(\"C_\", \"phi_\")\n",
    "            if phi_key in parameters:\n",
    "                phi = parameters[phi_key]\n",
    "                value *= np.exp(1j * phi)  # noqa:PLW2901\n",
    "        updated_parameters[key] = value\n",
    "    return updated_parameters"
   ]
  },
  {
   "cell_type": "code",
   "execution_count": null,
   "metadata": {
    "jupyter": {
     "source_hidden": true
    },
    "tags": [
     "hide-input",
     "full-width"
    ]
   },
   "outputs": [],
   "source": [
    "%matplotlib widget\n",
    "%config InlineBackend.figure_formats = ['png']\n",
    "fig_2d, ax_2d = plt.subplots(dpi=200)\n",
    "ax_2d.set_title(\"Model-weighted Phase space Dalitz Plot\")\n",
    "ax_2d.set_xlabel(R\"$m^2(\\eta \\pi^0)\\;\\left[\\mathrm{GeV}^2\\right]$\")\n",
    "ax_2d.set_ylabel(R\"$m^2(\\pi^0 p)\\;\\left[\\mathrm{GeV}^2\\right]$\")\n",
    "\n",
    "mesh = None\n",
    "\n",
    "\n",
    "def update_histogram(**parameters):\n",
    "    global mesh\n",
    "    parameters = insert_phi(parameters)\n",
    "    intensity_func.update_parameters(parameters)\n",
    "    intensity_weights = intensity_func(phsp)\n",
    "    bin_values, xedges, yedges = jnp.histogram2d(\n",
    "        phsp[\"m_01\"].real ** 2,\n",
    "        phsp[\"m_12\"].real ** 2,\n",
    "        bins=200,\n",
    "        weights=intensity_weights,\n",
    "        density=True,\n",
    "    )\n",
    "    bin_values = jnp.where(bin_values < 1e-6, jnp.nan, bin_values)\n",
    "    x, y = jnp.meshgrid(xedges[:-1], yedges[:-1])\n",
    "    if mesh is None:\n",
    "        mesh = ax_2d.pcolormesh(x, y, bin_values.T, cmap=\"jet\", vmax=0.15)\n",
    "    else:\n",
    "        mesh.set_array(bin_values.T)\n",
    "    fig_2d.canvas.draw_idle()\n",
    "\n",
    "\n",
    "interactive_plot = w.interactive_output(update_histogram, sliders)\n",
    "fig_2d.tight_layout()\n",
    "fig_2d.colorbar(mesh, ax=ax_2d)\n",
    "\n",
    "if STATIC_PAGE:\n",
    "    filename = \"dalitz-plot-auto.png\"\n",
    "    fig_2d.savefig(filename)\n",
    "    plt.close(fig_2d)\n",
    "    display(UI, Image(filename))\n",
    "else:\n",
    "    display(UI, interactive_plot)"
   ]
  },
  {
   "cell_type": "code",
   "execution_count": null,
   "metadata": {
    "jupyter": {
     "source_hidden": true
    },
    "tags": [
     "hide-input",
     "full-width",
     "scroll-input"
    ]
   },
   "outputs": [],
   "source": [
    "%matplotlib widget\n",
    "%config InlineBackend.figure_formats = ['svg']\n",
    "\n",
    "fig, axes = plt.subplots(figsize=(11, 3.5), ncols=3, sharey=True)\n",
    "fig.canvas.toolbar_visible = False\n",
    "fig.canvas.header_visible = False\n",
    "fig.canvas.footer_visible = False\n",
    "ax1, ax2, ax3 = axes\n",
    "\n",
    "for recoil_id, ax in enumerate(axes):\n",
    "    decay_products = sorted({0, 1, 2} - {recoil_id})\n",
    "    product_latex = \" \".join([reaction.final_state[i].latex for i in decay_products])\n",
    "    ax.set_xlabel(f\"$m({product_latex})$ [GeV]\")\n",
    "\n",
    "LINES = 3 * [None]\n",
    "RESONANCE_LINES = defaultdict(dict)\n",
    "\n",
    "\n",
    "def update_plot(**parameters):\n",
    "    parameters = insert_phi(parameters)\n",
    "    intensity_func.update_parameters(parameters)\n",
    "    intensities = intensity_func(phsp)\n",
    "    max_value = 0\n",
    "    resonance_colors: dict[Particle, int] = {}\n",
    "    color_id = 0\n",
    "    for recoil_id, ax in enumerate(axes):\n",
    "        decay_products = sorted({0, 1, 2} - {recoil_id})\n",
    "        key = f\"m_{\"\".join(str(i) for i in decay_products)}\"\n",
    "        bin_values, bin_edges = jax.numpy.histogram(\n",
    "            phsp[key].real,\n",
    "            bins=120,\n",
    "            density=True,\n",
    "            weights=intensities,\n",
    "        )\n",
    "        max_value = max(max_value, bin_values.max())\n",
    "\n",
    "        if LINES[recoil_id] is None:\n",
    "            LINES[recoil_id] = ax.step(bin_edges[:-1], bin_values, alpha=0.5)[0]\n",
    "        else:\n",
    "            LINES[recoil_id].set_ydata(bin_values)\n",
    "\n",
    "        for resonance in resonances[recoil_id]:\n",
    "            key = f\"m_{{{resonance.latex}}}\"\n",
    "            val = parameters.get(key, resonance.mass)\n",
    "            resonance_line = RESONANCE_LINES[recoil_id].get(resonance.name)\n",
    "            if resonance_line is None:\n",
    "                RESONANCE_LINES[recoil_id][resonance.name] = ax.axvline(\n",
    "                    val,\n",
    "                    c=f\"C{resonance_colors.get(resonance, color_id)}\",\n",
    "                    ls=\"dotted\",\n",
    "                    label=resonance.name,\n",
    "                )\n",
    "            else:\n",
    "                resonance_line.set_xdata([val, val])\n",
    "            if resonance not in resonance_colors:\n",
    "                resonance_colors[resonance] = color_id\n",
    "                color_id += 1\n",
    "\n",
    "    for ax in axes:\n",
    "        ax.set_ylim(0, max_value * 1.1)\n",
    "\n",
    "\n",
    "interactive_plot = w.interactive_output(update_plot, sliders)\n",
    "for ax in axes:\n",
    "    ax.legend(fontsize=\"small\")\n",
    "fig.tight_layout()\n",
    "\n",
    "if STATIC_PAGE:\n",
    "    filename = \"1d-histograms-auto.svg\"\n",
    "    fig.savefig(filename)\n",
    "    plt.close(fig)\n",
    "    display(UI, SVG(filename))\n",
    "else:\n",
    "    display(UI, interactive_plot)"
   ]
  }
 ],
 "metadata": {
  "kernelspec": {
   "display_name": "Python 3 (ipykernel)",
   "language": "python",
   "name": "python3"
  },
  "language_info": {
   "codemirror_mode": {
    "name": "ipython",
    "version": 3
   },
   "file_extension": ".py",
   "mimetype": "text/x-python",
   "name": "python",
   "nbconvert_exporter": "python",
   "pygments_lexer": "ipython3",
   "version": "3.12.5"
  }
 },
 "nbformat": 4,
 "nbformat_minor": 4
}
