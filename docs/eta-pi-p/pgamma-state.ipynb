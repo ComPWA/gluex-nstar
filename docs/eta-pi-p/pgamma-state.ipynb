{
 "cells": [
  {
   "cell_type": "markdown",
   "metadata": {},
   "source": [
    "# Reaction via `qrules`"
   ]
  },
  {
   "cell_type": "markdown",
   "metadata": {},
   "source": [
    "Address to issue ✅&nbsp;[ComPWA/gluex-nstar#5](https://github.com/ComPWA/gluex-nstar/issues/5), this section is an investigation of creating a virtual particle that represents the state $p \\gamma$ in `QRules`"
   ]
  },
  {
   "cell_type": "markdown",
   "metadata": {},
   "source": [
    "As an example of side note, create a virtual particle that represents state $e^+ e^-$ can be seen [here](https://qrules.readthedocs.io/0.10.x/usage/particle/#adding-custom-particle-definitions-through-python)."
   ]
  },
  {
   "cell_type": "markdown",
   "metadata": {},
   "source": [
    "## Finding particles"
   ]
  },
  {
   "cell_type": "markdown",
   "metadata": {},
   "source": [
    "Our reaction is $p + \\gamma \\to \\eta + \\pi^0 + p$, so we can look for each of the reaction and decay particles"
   ]
  },
  {
   "cell_type": "code",
   "execution_count": null,
   "metadata": {
    "tags": [
     "hide-cell"
    ]
   },
   "outputs": [],
   "source": [
    "from __future__ import annotations\n",
    "\n",
    "import graphviz\n",
    "import qrules\n",
    "from ampform.io import improve_latex_rendering\n",
    "from IPython.display import Math\n",
    "from qrules import InteractionType, StateTransitionManager, io\n",
    "from qrules.particle import Particle, Spin, load_pdg\n",
    "\n",
    "improve_latex_rendering()\n",
    "particle_db = load_pdg()"
   ]
  },
  {
   "cell_type": "markdown",
   "metadata": {},
   "source": [
    "The [`ParticleCollection`](https://qrules.readthedocs.io/0.10.x/api/qrules.particle/#qrules.particle.ParticleCollection) class offers some methods to search for particles by name or by PID, name, or other properties."
   ]
  },
  {
   "cell_type": "markdown",
   "metadata": {},
   "source": [
    "### Proton"
   ]
  },
  {
   "cell_type": "markdown",
   "metadata": {},
   "source": [
    "Search by Particle ID (PID) for proton:"
   ]
  },
  {
   "cell_type": "code",
   "execution_count": null,
   "metadata": {},
   "outputs": [],
   "source": [
    "particle_db.find(2212)"
   ]
  },
  {
   "cell_type": "markdown",
   "metadata": {},
   "source": [
    "Search by Particle name for proton:"
   ]
  },
  {
   "cell_type": "code",
   "execution_count": null,
   "metadata": {},
   "outputs": [],
   "source": [
    "particle_db.find(\"p\")\n",
    "proton = particle_db[\"p\"]"
   ]
  },
  {
   "cell_type": "code",
   "execution_count": null,
   "metadata": {},
   "outputs": [],
   "source": [
    "Math(proton.latex)"
   ]
  },
  {
   "cell_type": "markdown",
   "metadata": {},
   "source": [
    "### $\\gamma$"
   ]
  },
  {
   "cell_type": "markdown",
   "metadata": {},
   "source": [
    "similarly for $\\gamma$:"
   ]
  },
  {
   "cell_type": "code",
   "execution_count": null,
   "metadata": {},
   "outputs": [],
   "source": [
    "particle_db.find(\"gamma\")"
   ]
  },
  {
   "cell_type": "code",
   "execution_count": null,
   "metadata": {},
   "outputs": [],
   "source": [
    "gamma = particle_db[\"gamma\"]\n",
    "Math(gamma.latex)"
   ]
  },
  {
   "cell_type": "markdown",
   "metadata": {},
   "source": [
    "### $\\eta$"
   ]
  },
  {
   "cell_type": "code",
   "execution_count": null,
   "metadata": {},
   "outputs": [],
   "source": [
    "particle_db.find(\"eta\")"
   ]
  },
  {
   "cell_type": "code",
   "execution_count": null,
   "metadata": {},
   "outputs": [],
   "source": [
    "eta = particle_db[\"eta\"]\n",
    "Math(gamma.latex)"
   ]
  },
  {
   "cell_type": "markdown",
   "metadata": {},
   "source": [
    "### $\\pi^0$"
   ]
  },
  {
   "cell_type": "code",
   "execution_count": null,
   "metadata": {},
   "outputs": [],
   "source": [
    "particle_db.find(\"pi0\")"
   ]
  },
  {
   "cell_type": "code",
   "execution_count": null,
   "metadata": {},
   "outputs": [],
   "source": [
    "pi0 = particle_db[\"pi0\"]\n",
    "Math(pi0.latex)"
   ]
  },
  {
   "cell_type": "markdown",
   "metadata": {},
   "source": [
    "# Virtual particle that represents the state pγ "
   ]
  },
  {
   "cell_type": "markdown",
   "metadata": {},
   "source": [
    "## Adding custom particle"
   ]
  },
  {
   "cell_type": "markdown",
   "metadata": {},
   "source": [
    "We add the virtual particle $p\\gamma$ to represent the state of $p-\\gamma$ system in the photoproduction reaction.\n",
    "See PWA101 (temporary [here](https://compwa--217.org.readthedocs.build/report/999.html)), the value of the mass of the system $m_{p\\gamma}$ in CM frame is about 4.102 GeV in this analysis.\n",
    "\n",
    "\n",
    "We use `Particle` from `QRules` for adding custom particle, so that some quantum numbers we need to determine for the $p\\gamma$ virtual state particle:\n",
    "\n",
    "* (Total) Spin\n",
    "    * $J_{p\\gamma} = \\frac{1}{2}$ or $\\frac{3}{2}$\n",
    "      \n",
    "      because $J_{p\\gamma}$ = from $|s_p-s_{\\gamma}|$ to $s_p + s_{\\gamma}$ = from $|\\frac{1}{2}-1|$ to $\\frac{1}{2} + 1$\n",
    "      \n",
    "* Mass\n",
    "    * $m_{p\\gamma} = E_{p\\gamma} \\approx 4.102$\n",
    "    \n",
    "* Charge\n",
    "    * $Q_{p\\gamma} = Q_p + Q_{\\gamma} = 1 $\n",
    "      \n",
    "* Isospin and $3^{rd}$ component of isospin\n",
    "    * $I_{p\\gamma} = I_p = \\frac{1}{2}$\n",
    "    * $I_{3_{p\\gamma}} = I_{3_p} = +\\frac{1}{2}$\n",
    "  \n",
    "* Baryon Number\n",
    "    * $B_{p\\gamma} = B_p  = 1$\n",
    "\n",
    "* Parity\n",
    "    * $P_{p\\gamma} = P_p \\times P_{\\gamma} = +1 \\times (-1) = -1$"
   ]
  },
  {
   "cell_type": "markdown",
   "metadata": {},
   "source": [
    "These quantum numbers provide a complete and accurate description of the virtual particle representing the p−γ system with a mass of 4.102 GeV.\n",
    "The pγ virtual particle has two possibilities for the total spin, while the other quantum numbers are fixed."
   ]
  },
  {
   "cell_type": "markdown",
   "metadata": {},
   "source": [
    "We add the spin-$\\frac{1}{2}$ $p\\gamma$ virtual particle via `QRules` and named it $p\\gamma$ with a make-up pid number 99990"
   ]
  },
  {
   "cell_type": "code",
   "execution_count": null,
   "metadata": {},
   "outputs": [],
   "source": [
    "pgamma = Particle(\n",
    "    name=\"pgamma\",\n",
    "    latex=r\"p\\gamma (s1/2)\",\n",
    "    spin=0.5,\n",
    "    mass=4.101931071854584,\n",
    "    charge=1,\n",
    "    isospin=Spin(1 / 2, +1 / 2),\n",
    "    baryon_number=1,\n",
    "    parity=-1,\n",
    "    pid=99990,\n",
    ")\n",
    "pgamma"
   ]
  },
  {
   "cell_type": "markdown",
   "metadata": {},
   "source": [
    "We add the spin-$\\frac{3}{2}$ $p\\gamma$ virtual particle via `QRules` and named it $p\\gamma (s3/2)$ with a make-up pid number 99991"
   ]
  },
  {
   "cell_type": "code",
   "execution_count": null,
   "metadata": {},
   "outputs": [],
   "source": [
    "pgamma2 = Particle(\n",
    "    name=\"pgamma2\",\n",
    "    latex=R\"p\\gamma (s3/2)\",\n",
    "    spin=1.5,\n",
    "    mass=4.101931071854584,\n",
    "    charge=1,\n",
    "    isospin=Spin(1 / 2, +1 / 2),\n",
    "    baryon_number=1,\n",
    "    parity=-1,\n",
    "    pid=99991,\n",
    ")\n",
    "pgamma2"
   ]
  },
  {
   "cell_type": "code",
   "execution_count": null,
   "metadata": {},
   "outputs": [],
   "source": [
    "Math(pgamma.latex)"
   ]
  },
  {
   "cell_type": "code",
   "execution_count": null,
   "metadata": {},
   "outputs": [],
   "source": [
    "Math(pgamma2.latex)"
   ]
  },
  {
   "cell_type": "code",
   "execution_count": null,
   "metadata": {},
   "outputs": [],
   "source": [
    "particle_db.add(pgamma)"
   ]
  },
  {
   "cell_type": "code",
   "execution_count": null,
   "metadata": {},
   "outputs": [],
   "source": [
    "particle_db.add(pgamma2)"
   ]
  },
  {
   "cell_type": "markdown",
   "metadata": {},
   "source": [
    "The $`p\\gamma`$ virtual states generated via `QRules` will be used in later stages, both possible spin states $(J= \\frac{1}{2}$ and $\\frac{3}{2})$ should be taken into account if possible, otherwise simplified if necessary."
   ]
  },
  {
   "cell_type": "markdown",
   "metadata": {},
   "source": [
    ":::{important}\n",
    "It is possible to add any kind of custom Particle, as long as its quantum numbers comply with the [gellmann_nishijima()](https://qrules.readthedocs.io/0.10.x/api/qrules.conservation_rules/#qrules.conservation_rules.gellmann_nishijima) rule:\n",
    ":::\n"
   ]
  },
  {
   "cell_type": "markdown",
   "metadata": {},
   "source": [
    ":::{note}\n",
    "[Gell-Mann-Nishijima formula](https://en.wikipedia.org/wiki/Gell-Mann–Nishijima_formula):\n",
    "$Q = I_3 + \\frac{1}{2}(B+S+C+B'+T)$\n",
    "\n",
    "where \n",
    "Q is charge, \n",
    "$I_3$ is Spin projection of isospin, \n",
    " B is baryon number, \n",
    " S is strangeness, \n",
    " C is charmness, \n",
    " B' is bottomness, and \n",
    " T is topness.\n",
    ":::\n"
   ]
  },
  {
   "cell_type": "code",
   "execution_count": null,
   "metadata": {},
   "outputs": [],
   "source": [
    "reaction1_all = qrules.generate_transitions(\n",
    "    initial_state=(\"pgamma\"),\n",
    "    final_state=[\"eta\", \"pi0\", \"p\"],\n",
    "    allowed_interaction_types=[\"strong\", \"EM\", \"weak\"],\n",
    "    formalism=\"canonical-helicity\",\n",
    "    particle_db=particle_db,\n",
    ")"
   ]
  },
  {
   "cell_type": "code",
   "execution_count": null,
   "metadata": {},
   "outputs": [],
   "source": [
    "dot_all = qrules.io.asdot(reaction1_all, collapse_graphs=True)\n",
    "graphviz.Source(dot_all)"
   ]
  },
  {
   "cell_type": "code",
   "execution_count": null,
   "metadata": {},
   "outputs": [],
   "source": [
    "reaction1_strong_em = qrules.generate_transitions(\n",
    "    initial_state=(\"pgamma\"),\n",
    "    final_state=[\"eta\", \"pi0\", \"p\"],\n",
    "    allowed_interaction_types=[\"strong\", \"EM\"],\n",
    "    formalism=\"canonical-helicity\",\n",
    "    particle_db=particle_db,\n",
    ")"
   ]
  },
  {
   "cell_type": "code",
   "execution_count": null,
   "metadata": {},
   "outputs": [],
   "source": [
    "dot_se = qrules.io.asdot(reaction1_strong_em, collapse_graphs=True)\n",
    "graphviz.Source(dot_se)"
   ]
  },
  {
   "cell_type": "code",
   "execution_count": null,
   "metadata": {},
   "outputs": [],
   "source": [
    "reaction1_strong = qrules.generate_transitions(\n",
    "    initial_state=(\"pgamma\"),\n",
    "    final_state=[\"eta\", \"pi0\", \"p\"],\n",
    "    allowed_interaction_types=[\"strong\"],\n",
    "    formalism=\"canonical-helicity\",\n",
    "    particle_db=particle_db,\n",
    ")"
   ]
  },
  {
   "cell_type": "code",
   "execution_count": null,
   "metadata": {},
   "outputs": [],
   "source": [
    "dot_s = qrules.io.asdot(reaction1_strong, collapse_graphs=True)\n",
    "graphviz.Source(dot_s)"
   ]
  },
  {
   "cell_type": "code",
   "execution_count": null,
   "metadata": {},
   "outputs": [],
   "source": [
    "stm = StateTransitionManager(\n",
    "    initial_state=[\"pgamma\"],\n",
    "    final_state=[\"eta\", \"pi0\", \"p\"],\n",
    "    formalism=\"canonical-helicity\",\n",
    "    particle_db=particle_db,\n",
    ")"
   ]
  },
  {
   "cell_type": "code",
   "execution_count": null,
   "metadata": {},
   "outputs": [],
   "source": [
    "problem_sets = stm.create_problem_sets()\n",
    "sorted(problem_sets, reverse=True)"
   ]
  },
  {
   "cell_type": "code",
   "execution_count": null,
   "metadata": {},
   "outputs": [],
   "source": [
    "some_problem_set = problem_sets[60.0][0]\n",
    "dot = io.asdot(some_problem_set, render_node=True)\n",
    "graphviz.Source(dot)"
   ]
  },
  {
   "cell_type": "code",
   "execution_count": null,
   "metadata": {},
   "outputs": [],
   "source": [
    "some_problem_set = problem_sets[1][0]\n",
    "dot = io.asdot(some_problem_set, render_node=True)\n",
    "graphviz.Source(dot)"
   ]
  },
  {
   "cell_type": "code",
   "execution_count": null,
   "metadata": {},
   "outputs": [],
   "source": [
    "some_problem_set = problem_sets[0.0001][1]\n",
    "dot = io.asdot(some_problem_set, render_node=True)\n",
    "graphviz.Source(dot)"
   ]
  },
  {
   "cell_type": "code",
   "execution_count": null,
   "metadata": {},
   "outputs": [],
   "source": [
    "reaction = stm.find_solutions(problem_sets)"
   ]
  },
  {
   "cell_type": "code",
   "execution_count": null,
   "metadata": {},
   "outputs": [],
   "source": [
    "print(\"found\", len(reaction.transitions), \"solutions!\")\n",
    "reaction.get_intermediate_particles().names"
   ]
  },
  {
   "cell_type": "code",
   "execution_count": null,
   "metadata": {},
   "outputs": [],
   "source": [
    "stm.set_allowed_interaction_types([InteractionType.STRONG])\n",
    "problem_sets = stm.create_problem_sets()\n",
    "reaction = stm.find_solutions(problem_sets)\n",
    "\n",
    "print(\"found\", len(reaction.transitions), \"solutions!\")\n",
    "reaction.get_intermediate_particles().names"
   ]
  },
  {
   "cell_type": "code",
   "execution_count": null,
   "metadata": {},
   "outputs": [],
   "source": [
    "stm.set_allowed_interaction_types([InteractionType.STRONG, InteractionType.EM])\n",
    "problem_sets = stm.create_problem_sets()\n",
    "reaction = stm.find_solutions(problem_sets)\n",
    "\n",
    "print(\"found\", len(reaction.transitions), \"solutions!\")\n",
    "reaction.get_intermediate_particles().names"
   ]
  }
 ],
 "metadata": {
  "kernelspec": {
   "display_name": "Python 3 (ipykernel)",
   "language": "python",
   "name": "python3"
  },
  "language_info": {
   "codemirror_mode": {
    "name": "ipython",
    "version": 3
   },
   "file_extension": ".py",
   "mimetype": "text/x-python",
   "name": "python",
   "nbconvert_exporter": "python",
   "pygments_lexer": "ipython3"
  }
 },
 "nbformat": 4,
 "nbformat_minor": 4
}
