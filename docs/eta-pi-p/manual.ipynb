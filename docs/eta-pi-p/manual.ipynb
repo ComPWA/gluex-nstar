{
 "cells": [
  {
   "cell_type": "markdown",
   "metadata": {},
   "source": [
    "# Amplitude model with `sympy`"
   ]
  },
  {
   "cell_type": "markdown",
   "metadata": {},
   "source": [
    "This section is a follow-up of previous chapter:[Reaction and Models](reaction-model.md), to formulate the amplitude model for the $\\gamma p \\to \\eta\\pi^0 p$ channel example symbolically. See **[TR&#8209;033](https://compwa.github.io/report/033)** for a purely numerical tutorial.\n",
    "\n",
    "The model we want to implement is"
   ]
  },
  {
   "cell_type": "markdown",
   "metadata": {},
   "source": [
    "$$\n",
    "\\begin{array}{rcl}\n",
    "I &=& \\left|A^{12} + A^{23} + A^{31}\\right|^2 \\\\\n",
    "A^{12} &=& \\frac{\\sum a_m Y_2^m (\\Omega_1)}{s_{12}-m^2_{a_2}+im_{a_2} \\Gamma_{a_2}} \\\\\n",
    "A^{23} &=& \\frac{\\sum b_m Y_1^m (\\Omega_2)}{s_{23}-m^2_{\\Delta^+}+im_{\\Delta^+} \\Gamma_{\\Delta^+}} \\\\\n",
    "A^{31} &=& \\frac{c_0}{s_{31}-m^2_{N^*}+im_{N^*} \\Gamma_{N^*}} \\,,\n",
    "\\end{array}\n",
    "$$"
   ]
  },
  {
   "cell_type": "markdown",
   "metadata": {},
   "source": [
    "where $1=\\eta$, $2=\\pi^0$, and $3=p$."
   ]
  },
  {
   "cell_type": "code",
   "execution_count": null,
   "metadata": {
    "jupyter": {
     "source_hidden": true
    },
    "mystnb": {
     "code_prompt_show": "Import Python libraries"
    }
   },
   "outputs": [],
   "source": [
    "from __future__ import annotations\n",
    "\n",
    "import logging\n",
    "import os\n",
    "import warnings\n",
    "from collections import defaultdict\n",
    "\n",
    "import ipywidgets as w\n",
    "import jax.numpy as jnp\n",
    "import matplotlib.pyplot as plt\n",
    "import numpy as np\n",
    "import sympy as sp\n",
    "from ampform.io import aslatex\n",
    "from ampform.kinematics.angles import Phi, Theta\n",
    "from ampform.kinematics.lorentz import (\n",
    "    ArrayMultiplication,\n",
    "    ArraySize,\n",
    "    BoostZMatrix,\n",
    "    Energy,\n",
    "    EuclideanNorm,\n",
    "    FourMomentumSymbol,\n",
    "    RotationYMatrix,\n",
    "    RotationZMatrix,\n",
    "    ThreeMomentum,\n",
    "    three_momentum_norm,\n",
    ")\n",
    "from ampform.sympy import unevaluated\n",
    "from ampform.sympy._array_expressions import ArraySum\n",
    "from IPython.display import Image, Latex, display\n",
    "from tensorwaves.data import (\n",
    "    SympyDataTransformer,\n",
    "    TFPhaseSpaceGenerator,\n",
    "    TFUniformRealNumberGenerator,\n",
    ")\n",
    "from tensorwaves.function.sympy import create_parametrized_function\n",
    "\n",
    "STATIC_PAGE = \"EXECUTE_NB\" in os.environ\n",
    "\n",
    "os.environ[\"TF_CPP_MIN_LOG_LEVEL\"] = \"3\"\n",
    "logging.disable(logging.WARNING)\n",
    "warnings.filterwarnings(\"ignore\")"
   ]
  },
  {
   "cell_type": "markdown",
   "metadata": {},
   "source": [
    "## Model implementation"
   ]
  },
  {
   "cell_type": "markdown",
   "metadata": {},
   "source": [
    "### $A^{12}$"
   ]
  },
  {
   "cell_type": "code",
   "execution_count": null,
   "metadata": {},
   "outputs": [],
   "source": [
    "s12, m_a2, gamma_a2 = sp.symbols(r\"s_{12} m_{a_2} \\Gamma_{a_2}\")\n",
    "theta1, phi1 = sp.symbols(\"theta_1 phi_1\")\n",
    "a = sp.IndexedBase(\"a\")\n",
    "m = sp.symbols(\"m\", cls=sp.Idx)\n",
    "A12 = sp.Sum(a[m] * sp.Ynm(2, m, theta1, phi1), (m, -2, 2)) / (\n",
    "    s12 - m_a2**2 + sp.I * m_a2 * gamma_a2\n",
    ")\n",
    "A12"
   ]
  },
  {
   "cell_type": "code",
   "execution_count": null,
   "metadata": {
    "tags": [
     "hide-cell"
    ]
   },
   "outputs": [],
   "source": [
    "sp.Ynm(2, 1, 1, 1).expand(func=False)"
   ]
  },
  {
   "cell_type": "code",
   "execution_count": null,
   "metadata": {
    "tags": [
     "hide-cell"
    ]
   },
   "outputs": [],
   "source": [
    "sp.Ynm(2, 1, 1, 1).expand(func=True)"
   ]
  },
  {
   "cell_type": "code",
   "execution_count": null,
   "metadata": {},
   "outputs": [],
   "source": [
    "A12.free_symbols"
   ]
  },
  {
   "cell_type": "code",
   "execution_count": null,
   "metadata": {},
   "outputs": [],
   "source": [
    "A12_func = sp.lambdify(\n",
    "    [s12, a[-2], a[-1], a[0], a[1], a[2], m_a2, gamma_a2, theta1, phi1],\n",
    "    A12.doit().expand(func=True),\n",
    ")\n",
    "A12_func"
   ]
  },
  {
   "cell_type": "markdown",
   "metadata": {},
   "source": [
    "### $A^{23}$"
   ]
  },
  {
   "cell_type": "code",
   "execution_count": null,
   "metadata": {},
   "outputs": [],
   "source": [
    "s23, m_delta, gamma_delta = sp.symbols(r\"s_{23} m_{\\Delta^+} \\Gamma_{\\Delta^+}\")\n",
    "b = sp.IndexedBase(\"b\")\n",
    "m = sp.symbols(\"m\", cls=sp.Idx)\n",
    "theta2, phi2 = sp.symbols(\"theta_2 phi_2\")\n",
    "A23 = sp.Sum(b[m] * sp.Ynm(1, m, theta2, phi2), (m, -1, 1)) / (\n",
    "    s23 - m_delta**2 + sp.I * m_delta * gamma_delta\n",
    ")\n",
    "A23"
   ]
  },
  {
   "cell_type": "code",
   "execution_count": null,
   "metadata": {},
   "outputs": [],
   "source": [
    "A23_func = sp.lambdify(\n",
    "    [s23, b[-1], b[0], b[1], m_delta, gamma_delta, theta2, phi2],\n",
    "    A23.doit().expand(func=True),\n",
    ")"
   ]
  },
  {
   "cell_type": "markdown",
   "metadata": {},
   "source": [
    "### $A^{31}$"
   ]
  },
  {
   "cell_type": "code",
   "execution_count": null,
   "metadata": {},
   "outputs": [],
   "source": [
    "s31, m_nstar, gamma_nstar = sp.symbols(r\"s_{31} m_{N^*} \\Gamma_{N^*}\")\n",
    "c = sp.IndexedBase(\"c\")\n",
    "A31 = c[0] / (s31 - m_nstar**2 + sp.I * m_nstar * gamma_nstar)\n",
    "A31"
   ]
  },
  {
   "cell_type": "markdown",
   "metadata": {},
   "source": [
    ":::{tip}\n",
    "The expression above is originally deduced from $Y_l^m (\\Omega_3)$ when $l=0$ as shown below, so that the numerator is absorbed and becomes $c_0$.\n",
    ":::"
   ]
  },
  {
   "cell_type": "code",
   "execution_count": null,
   "metadata": {
    "tags": [
     "hide-input"
    ]
   },
   "outputs": [],
   "source": [
    "theta3, phi3 = sp.symbols(\"theta_3 phi_3\")\n",
    "sp.Sum(c[m] * sp.Ynm(0, m, theta3, phi3), (m, 0, 0)) / (\n",
    "    s31 - m_nstar**2 + sp.I * m_nstar * gamma_nstar\n",
    ")"
   ]
  },
  {
   "cell_type": "code",
   "execution_count": null,
   "metadata": {},
   "outputs": [],
   "source": [
    "A31_func = sp.lambdify([s31, c[0], m_nstar, gamma_nstar], A31)"
   ]
  },
  {
   "cell_type": "markdown",
   "metadata": {},
   "source": [
    "### $I = |A|^2 = |A^{12}+A^{23}+A^{31}|^2$"
   ]
  },
  {
   "cell_type": "code",
   "execution_count": null,
   "metadata": {},
   "outputs": [],
   "source": [
    "intensity_expr = sp.Abs(A12 + A23 + A31) ** 2\n",
    "intensity_expr"
   ]
  },
  {
   "cell_type": "markdown",
   "metadata": {},
   "source": [
    "### Phase Space Generation"
   ]
  },
  {
   "cell_type": "markdown",
   "metadata": {},
   "source": [
    "Mass for $p\\gamma$ system"
   ]
  },
  {
   "cell_type": "code",
   "execution_count": null,
   "metadata": {},
   "outputs": [],
   "source": [
    "E_lab_gamma = 8.5\n",
    "m_proton = 0.938\n",
    "m_0 = np.sqrt(2 * E_lab_gamma * m_proton + m_proton**2)\n",
    "m_eta = 0.548\n",
    "m_pi = 0.135\n",
    "m_0"
   ]
  },
  {
   "cell_type": "code",
   "execution_count": null,
   "metadata": {
    "tags": [
     "hide-output"
    ]
   },
   "outputs": [],
   "source": [
    "rng = TFUniformRealNumberGenerator(seed=0)\n",
    "phsp_generator = TFPhaseSpaceGenerator(\n",
    "    initial_state_mass=m_0,\n",
    "    final_state_masses={1: m_eta, 2: m_pi, 3: m_proton},\n",
    ")\n",
    "phsp_momenta = phsp_generator.generate(500_000, rng)"
   ]
  },
  {
   "cell_type": "markdown",
   "metadata": {},
   "source": [
    "### Kinematic variables"
   ]
  },
  {
   "cell_type": "code",
   "execution_count": null,
   "metadata": {
    "jupyter": {
     "source_hidden": true
    },
    "tags": [
     "hide-cell"
    ]
   },
   "outputs": [],
   "source": [
    "@unevaluated\n",
    "class SquaredInvariantMass(sp.Expr):\n",
    "    momentum: sp.Basic\n",
    "    _latex_repr_ = \"m_{{{momentum}}}^2\"\n",
    "\n",
    "    def evaluate(self) -> sp.Expr:\n",
    "        p = self.momentum\n",
    "        p_xyz = ThreeMomentum(p)\n",
    "        return Energy(p) ** 2 - EuclideanNorm(p_xyz) ** 2\n",
    "\n",
    "\n",
    "def formulate_helicity_angles(\n",
    "    pi: FourMomentumSymbol, pj: FourMomentumSymbol\n",
    ") -> tuple[Theta, Phi]:\n",
    "    pij = ArraySum(pi, pj)\n",
    "    beta = three_momentum_norm(pij) / Energy(pij)\n",
    "    Rz = RotationZMatrix(-Phi(pij), n_events=ArraySize(Phi(pij)))\n",
    "    Ry = RotationYMatrix(-Theta(pij), n_events=ArraySize(Theta(pij)))\n",
    "    Bz = BoostZMatrix(beta, n_events=ArraySize(beta))\n",
    "    pi_boosted = ArrayMultiplication(Bz, Ry, Rz, pi)\n",
    "    return Theta(pi_boosted), Phi(pi_boosted)"
   ]
  },
  {
   "cell_type": "code",
   "execution_count": null,
   "metadata": {},
   "outputs": [],
   "source": [
    "p1 = FourMomentumSymbol(\"p1\", shape=[])\n",
    "p2 = FourMomentumSymbol(\"p2\", shape=[])\n",
    "p3 = FourMomentumSymbol(\"p3\", shape=[])\n",
    "p12 = ArraySum(p1, p2)\n",
    "p23 = ArraySum(p2, p3)\n",
    "p31 = ArraySum(p3, p1)\n",
    "\n",
    "theta1_expr, phi1_expr = formulate_helicity_angles(p1, p2)\n",
    "theta2_expr, phi2_expr = formulate_helicity_angles(p2, p3)\n",
    "theta3_expr, phi3_expr = formulate_helicity_angles(p3, p1)\n",
    "\n",
    "s12_expr = SquaredInvariantMass(p12)\n",
    "s23_expr = SquaredInvariantMass(p23)\n",
    "s31_expr = SquaredInvariantMass(p31)"
   ]
  },
  {
   "cell_type": "code",
   "execution_count": null,
   "metadata": {
    "tags": [
     "hide-input"
    ]
   },
   "outputs": [],
   "source": [
    "kinematic_variables = {\n",
    "    theta1: theta1_expr,\n",
    "    theta2: theta2_expr,\n",
    "    theta3: theta3_expr,\n",
    "    phi1: phi1_expr,\n",
    "    phi2: phi2_expr,\n",
    "    phi3: phi3_expr,\n",
    "    s12: s12_expr,\n",
    "    s23: s23_expr,\n",
    "    s31: s31_expr,\n",
    "}\n",
    "\n",
    "Latex(aslatex(kinematic_variables))"
   ]
  },
  {
   "cell_type": "code",
   "execution_count": null,
   "metadata": {},
   "outputs": [],
   "source": [
    "helicity_transformer = SympyDataTransformer.from_sympy(\n",
    "    kinematic_variables, backend=\"jax\"\n",
    ")"
   ]
  },
  {
   "cell_type": "code",
   "execution_count": null,
   "metadata": {},
   "outputs": [],
   "source": [
    "phsp = helicity_transformer(phsp_momenta)\n",
    "list(phsp)"
   ]
  },
  {
   "cell_type": "markdown",
   "metadata": {},
   "source": [
    "### Parameters"
   ]
  },
  {
   "cell_type": "code",
   "execution_count": null,
   "metadata": {
    "tags": [
     "hide-input"
    ]
   },
   "outputs": [],
   "source": [
    "a_vals = [0, 0.5, 3.5, 4, 2.5]\n",
    "b_vals = [-1.5, 4, 0.5]\n",
    "c0_val = 2.5\n",
    "m_a2_val = 1.32\n",
    "m_delta_val = 1.54\n",
    "m_nstar_val = 1.87\n",
    "gamma_a2_val = 0.1\n",
    "gamma_delta_val = 0.1\n",
    "gamma_nstar_val = 0.1\n",
    "\n",
    "parameters_default = {\n",
    "    a[-2]: a_vals[0],\n",
    "    a[-1]: a_vals[1],\n",
    "    a[0]: a_vals[2],\n",
    "    a[1]: a_vals[3],\n",
    "    a[2]: a_vals[4],\n",
    "    b[-1]: b_vals[0],\n",
    "    b[0]: b_vals[1],\n",
    "    b[1]: b_vals[2],\n",
    "    c[0]: c0_val,\n",
    "    m_a2: m_a2_val,\n",
    "    m_delta: m_delta_val,\n",
    "    m_nstar: m_nstar_val,\n",
    "    gamma_a2: gamma_a2_val,\n",
    "    gamma_delta: gamma_delta_val,\n",
    "    gamma_nstar: gamma_nstar_val,\n",
    "}\n",
    "\n",
    "Latex(aslatex(parameters_default))"
   ]
  },
  {
   "cell_type": "markdown",
   "metadata": {},
   "source": [
    ":::{note}\n",
    "The mass and width of resonances are customsed to make the resonance bands in a better visible form.\n",
    ":::"
   ]
  },
  {
   "cell_type": "code",
   "execution_count": null,
   "metadata": {
    "tags": [
     "remove-cell"
    ]
   },
   "outputs": [],
   "source": [
    "isinstance(a[-2], sp.Indexed)"
   ]
  },
  {
   "cell_type": "code",
   "execution_count": null,
   "metadata": {
    "tags": [
     "remove-cell"
    ]
   },
   "outputs": [],
   "source": [
    "isinstance(m_a2, sp.Indexed)"
   ]
  },
  {
   "cell_type": "code",
   "execution_count": null,
   "metadata": {
    "tags": [
     "remove-cell"
    ]
   },
   "outputs": [],
   "source": [
    "type(m_a2).__mro__"
   ]
  },
  {
   "cell_type": "code",
   "execution_count": null,
   "metadata": {
    "tags": [
     "remove-cell"
    ]
   },
   "outputs": [],
   "source": [
    "type(a[-2]).__mro__"
   ]
  },
  {
   "cell_type": "markdown",
   "metadata": {},
   "source": [
    "## Visualization"
   ]
  },
  {
   "cell_type": "markdown",
   "metadata": {},
   "source": [
    "### Model components"
   ]
  },
  {
   "cell_type": "code",
   "execution_count": null,
   "metadata": {},
   "outputs": [],
   "source": [
    "phi = np.pi / 4\n",
    "theta = np.pi / 4\n",
    "s_values = np.linspace(0, 5, num=500)\n",
    "A12_values = A12_func(s_values, *a_vals, m_a2_val, gamma_a2_val, theta, phi)\n",
    "A23_values = A23_func(s_values, *b_vals, m_delta_val, gamma_delta_val, theta, phi)\n",
    "A31_values = A31_func(s_values, c0_val, m_nstar_val, gamma_nstar_val)"
   ]
  },
  {
   "cell_type": "code",
   "execution_count": null,
   "metadata": {
    "tags": [
     "remove-input"
    ]
   },
   "outputs": [],
   "source": [
    "%config InlineBackend.figure_formats = ['svg']"
   ]
  },
  {
   "cell_type": "code",
   "execution_count": null,
   "metadata": {
    "jupyter": {
     "source_hidden": true
    },
    "tags": [
     "hide-input",
     "scroll-input",
     "full-width"
    ]
   },
   "outputs": [],
   "source": [
    "fig, axes = plt.subplots(figsize=(10, 9), nrows=3)\n",
    "angle_projection_text = R\"$\\phi=\\frac{\\pi}{4},\\theta=\\frac{\\pi}{4}$\"\n",
    "for i, A_values in enumerate([A12_values, A23_values, A31_values]):\n",
    "    ax = axes[i]\n",
    "    recoil_id = i + 1\n",
    "    decay_products = sorted({1, 2, 3} - {recoil_id})\n",
    "    subsystem = \"\".join(map(str, decay_products))\n",
    "    ax.plot(s_values, A_values.imag, label=\"Imaginary Part\", c=\"blue\", ls=\"-\")\n",
    "    ax.plot(s_values, A_values.real, label=\"Real Part\", c=\"red\", ls=\"--\")\n",
    "    ax.plot(\n",
    "        s_values,\n",
    "        np.abs(A_values) ** 2,\n",
    "        label=f\"Intensity $I^{{{subsystem}}}=|A^{{{subsystem}}}|^2$\",\n",
    "        c=\"g\",\n",
    "        ls=\"-.\",\n",
    "    )\n",
    "    ax.plot(\n",
    "        s_values,\n",
    "        np.angle(A_values),\n",
    "        label=\"Phase (angle)\",\n",
    "        c=\"m\",\n",
    "        ls=\":\",\n",
    "    )\n",
    "    ax.set_title(Rf\"Components of $A^{{{subsystem}}}$ vs s ({angle_projection_text})\")\n",
    "    ax.set_xlabel(f\"$s_{{{subsystem}}}$\")\n",
    "    ax.set_ylabel(Rf\"$A^{{{subsystem}}}$ components\")\n",
    "    ax.legend()\n",
    "fig.tight_layout()\n",
    "plt.show()"
   ]
  },
  {
   "cell_type": "markdown",
   "metadata": {},
   "source": [
    "Unitarity is preserved in each of the subsystems (assuming fixed $\\phi,\\theta$), because we assume there is only one resonance in the subsystem."
   ]
  },
  {
   "cell_type": "code",
   "execution_count": null,
   "metadata": {
    "jupyter": {
     "source_hidden": true
    },
    "tags": [
     "hide-input",
     "full-width"
    ]
   },
   "outputs": [],
   "source": [
    "fig, axes = plt.subplots(figsize=(12, 4), ncols=3)\n",
    "for i, A_values in enumerate([A12_values, A23_values, A31_values]):\n",
    "    ax = axes[i]\n",
    "    recoil_id = i + 1\n",
    "    decay_products = sorted({1, 2, 3} - {recoil_id})\n",
    "    subsystem = \"\".join(map(str, decay_products))\n",
    "    ax.set_xlabel(Rf\"$\\mathrm{{Re}}\\,A^{{{subsystem}}}$\")\n",
    "    ax.set_ylabel(Rf\"$\\mathrm{{Im}}\\,A^{{{subsystem}}}$\")\n",
    "    ax.set_title(Rf\"$A^{{{subsystem}}}$ ({angle_projection_text})\")\n",
    "    ax.plot(A_values.real, A_values.imag)\n",
    "fig.suptitle(\"Argand diagrams\")\n",
    "fig.tight_layout()\n",
    "plt.show(fig)"
   ]
  },
  {
   "cell_type": "markdown",
   "metadata": {},
   "source": [
    "### Dalitz Plot"
   ]
  },
  {
   "cell_type": "code",
   "execution_count": null,
   "metadata": {
    "jupyter": {
     "source_hidden": true
    }
   },
   "outputs": [],
   "source": [
    "sliders = {}\n",
    "categorized_sliders_m = defaultdict(list)\n",
    "categorized_sliders_gamma = defaultdict(list)\n",
    "categorized_cphi_pair = defaultdict(list)\n",
    "\n",
    "for symbol, value in parameters_default.items():\n",
    "    if symbol.name.startswith(R\"\\Gamma_{\"):\n",
    "        slider = w.FloatSlider(\n",
    "            description=Rf\"\\({sp.latex(symbol)}\\)\",\n",
    "            min=0.0,\n",
    "            max=1.0,\n",
    "            step=0.01,\n",
    "            value=value,\n",
    "            continuous_update=False,\n",
    "        )\n",
    "        sliders[symbol.name] = slider\n",
    "        if symbol.name.startswith(R\"\\Gamma_{N\"):\n",
    "            categorized_sliders_gamma[0].append(slider)\n",
    "        elif symbol.name.startswith(R\"\\Gamma_{\\D\"):\n",
    "            categorized_sliders_gamma[1].append(slider)\n",
    "        elif symbol.name.startswith(R\"\\Gamma_{a\"):\n",
    "            categorized_sliders_gamma[2].append(slider)\n",
    "\n",
    "    elif symbol.name.startswith(\"m_{\"):\n",
    "        slider = w.FloatSlider(\n",
    "            description=Rf\"\\({sp.latex(symbol)}\\)\",\n",
    "            min=0.63,\n",
    "            max=4,\n",
    "            step=0.01,\n",
    "            value=value,\n",
    "            continuous_update=False,\n",
    "        )\n",
    "        sliders[symbol.name] = slider\n",
    "        if symbol.name.startswith(\"m_{N\"):\n",
    "            categorized_sliders_m[0].append(slider)\n",
    "        elif symbol.name.startswith(R\"m_{\\D\"):\n",
    "            categorized_sliders_m[1].append(slider)\n",
    "        elif symbol.name.startswith(\"m_{a\"):\n",
    "            categorized_sliders_m[2].append(slider)\n",
    "\n",
    "    else:\n",
    "        c_latex = sp.latex(symbol)\n",
    "        phi_latex = Rf\"\\phi_{{{c_latex}}}\"\n",
    "        slider_c = w.FloatSlider(\n",
    "            description=Rf\"\\({c_latex}\\)\",\n",
    "            min=0,\n",
    "            max=10,\n",
    "            step=0.01,\n",
    "            value=abs(value),\n",
    "            continuous_update=False,\n",
    "        )\n",
    "        slider_phi = w.FloatSlider(\n",
    "            description=Rf\"\\({phi_latex}\\)\",\n",
    "            min=-np.pi,\n",
    "            max=+np.pi,\n",
    "            step=0.01,\n",
    "            value=np.angle(value),\n",
    "            continuous_update=False,\n",
    "        )\n",
    "\n",
    "        sliders[symbol.name] = slider_c\n",
    "        sliders[f\"phi_{symbol.name}\"] = slider_phi\n",
    "        cphi_hbox = w.HBox([slider_c, slider_phi])\n",
    "        if symbol.base is a:\n",
    "            categorized_cphi_pair[2].append(cphi_hbox)\n",
    "        elif symbol.base is b:\n",
    "            categorized_cphi_pair[1].append(cphi_hbox)\n",
    "        elif symbol.base is c:\n",
    "            categorized_cphi_pair[0].append(cphi_hbox)\n",
    "        else:\n",
    "            raise NotImplementedError(symbol.name)\n",
    "\n",
    "tab_contents = []\n",
    "resonances_name = [\"N*\", \"Δ*\", \"a₂*\"]\n",
    "for i in range(len(resonances_name)):\n",
    "    tab_content = w.VBox([\n",
    "        w.HBox(categorized_sliders_m[i] + categorized_sliders_gamma[i]),\n",
    "        w.VBox(categorized_cphi_pair[i]),\n",
    "    ])\n",
    "    tab_contents.append(tab_content)\n",
    "UI = w.Tab(tab_contents, titles=resonances_name)\n",
    "UI"
   ]
  },
  {
   "cell_type": "code",
   "execution_count": null,
   "metadata": {},
   "outputs": [],
   "source": [
    "unfolded_expression = intensity_expr.doit().expand(func=True)\n",
    "intensity_func = create_parametrized_function(\n",
    "    expression=unfolded_expression,\n",
    "    parameters=parameters_default,\n",
    "    backend=\"jax\",\n",
    ")"
   ]
  },
  {
   "cell_type": "code",
   "execution_count": null,
   "metadata": {},
   "outputs": [],
   "source": [
    "intensities = intensity_func(phsp)"
   ]
  },
  {
   "cell_type": "code",
   "execution_count": null,
   "metadata": {
    "jupyter": {
     "source_hidden": true
    },
    "tags": [
     "hide-input"
    ]
   },
   "outputs": [],
   "source": [
    "def insert_phi(parameters: dict) -> dict:\n",
    "    updated_parameters = {}\n",
    "    for key, value in parameters.items():\n",
    "        if key.startswith(\"phi_\"):\n",
    "            continue\n",
    "        if key.startswith((\"a\", \"b\", \"c\")):\n",
    "            phi_key = f\"phi_{key}\"\n",
    "            if phi_key in parameters:\n",
    "                phi = parameters[phi_key]\n",
    "                value *= np.exp(1j * phi)  # noqa:PLW2901\n",
    "        updated_parameters[key] = value\n",
    "\n",
    "    return updated_parameters"
   ]
  },
  {
   "cell_type": "code",
   "execution_count": null,
   "metadata": {
    "jupyter": {
     "source_hidden": true
    },
    "tags": [
     "hide-input",
     "full-width"
    ]
   },
   "outputs": [],
   "source": [
    "%matplotlib widget\n",
    "%config InlineBackend.figure_formats = ['png']\n",
    "fig_2d, ax_2d = plt.subplots(dpi=200)\n",
    "ax_2d.set_title(\"Model-weighted Phase space Dalitz Plot\")\n",
    "ax_2d.set_xlabel(R\"$m^2(\\eta \\pi^0)\\;\\left[\\mathrm{GeV}^2\\right]$\")\n",
    "ax_2d.set_ylabel(R\"$m^2(\\pi^0 p)\\;\\left[\\mathrm{GeV}^2\\right]$\")\n",
    "\n",
    "mesh = None\n",
    "\n",
    "\n",
    "def update_histogram(**parameters):\n",
    "    global mesh\n",
    "    parameters = insert_phi(parameters)\n",
    "    intensity_func.update_parameters(parameters)\n",
    "    intensity_weights = intensity_func(phsp)\n",
    "    bin_values, xedges, yedges = jnp.histogram2d(\n",
    "        phsp[\"s_{12}\"],\n",
    "        phsp[\"s_{23}\"],\n",
    "        bins=200,\n",
    "        weights=intensity_weights,\n",
    "        density=True,\n",
    "    )\n",
    "    bin_values = jnp.where(bin_values < 1e-6, jnp.nan, bin_values)\n",
    "    x, y = jnp.meshgrid(xedges[:-1], yedges[:-1])\n",
    "    if mesh is None:\n",
    "        mesh = ax_2d.pcolormesh(x, y, bin_values.T, cmap=\"jet\", vmax=0.15)\n",
    "    else:\n",
    "        mesh.set_array(bin_values.T)\n",
    "    fig_2d.canvas.draw_idle()\n",
    "\n",
    "\n",
    "interactive_plot = w.interactive_output(update_histogram, sliders)\n",
    "fig_2d.tight_layout()\n",
    "fig_2d.colorbar(mesh, ax=ax_2d)\n",
    "\n",
    "if STATIC_PAGE:\n",
    "    filename = \"dalitz-plot.png\"\n",
    "    fig_2d.savefig(filename)\n",
    "    plt.close(fig_2d)\n",
    "    display(UI, Image(filename))\n",
    "else:\n",
    "    display(UI, interactive_plot)"
   ]
  },
  {
   "cell_type": "markdown",
   "metadata": {},
   "source": [
    "### Projection"
   ]
  },
  {
   "cell_type": "code",
   "execution_count": null,
   "metadata": {
    "jupyter": {
     "source_hidden": true
    },
    "tags": [
     "full-width",
     "hide-input"
    ]
   },
   "outputs": [],
   "source": [
    "%config InlineBackend.figure_formats = ['svg']\n",
    "\n",
    "theta_subtitles = [\n",
    "    R\"$\\cos (\\theta_{1}^{{12}}) \\equiv \\cos (\\theta_{\\eta}^{{\\eta \\pi^0}})$\",\n",
    "    R\"$\\cos (\\theta_{2}^{{23}}) \\equiv \\cos (\\theta_{\\pi^0}^{{\\pi^0 p}})$\",\n",
    "    R\"$\\cos (\\theta_{3}^{{31}}) \\equiv \\cos (\\theta_{p}^{{p \\eta}})$\",\n",
    "]\n",
    "phi_subtitles = [\n",
    "    R\"$\\phi_1^{12} \\equiv \\phi_{\\eta}^{{\\eta \\pi^0}}$\",\n",
    "    R\"$\\phi_2^{23} \\equiv \\phi_{\\pi^0}^{{\\pi^0 p}}$\",\n",
    "    R\"$\\phi_3^{31} \\equiv \\phi_{p}^{{p \\eta}}$\",\n",
    "]\n",
    "mass_subtitles = [\n",
    "    R\"$m_{12} \\equiv m_{\\eta \\pi^0}$\",\n",
    "    R\"$m_{23} \\equiv m_{\\pi^0 p}$\",\n",
    "    R\"$m_{31} \\equiv m_{p \\eta}$\",\n",
    "]\n",
    "\n",
    "fig, (theta_ax, phi_ax, mass_ax) = plt.subplots(figsize=(12, 8), ncols=3, nrows=3)\n",
    "for i, ax1 in enumerate(theta_ax, 1):\n",
    "    ax1.set_title(theta_subtitles[i - 1])\n",
    "    ax1.set_xticks([-1, 0, 1])\n",
    "\n",
    "for i, ax2 in enumerate(phi_ax, 1):\n",
    "    ax2.set_title(phi_subtitles[i - 1])\n",
    "    ax2.set_xticks([-np.pi, 0, np.pi])\n",
    "    ax2.set_xticklabels([R\"-$\\pi$\", 0, R\"$\\pi$\"])\n",
    "\n",
    "for i, ax3 in enumerate(mass_ax, 1):\n",
    "    ax3.set_title(mass_subtitles[i - 1])\n",
    "\n",
    "plot_style = dict(bins=100, weights=intensities, density=True)\n",
    "\n",
    "theta_ax[0].hist(np.cos(phsp[\"theta_1\"]), **plot_style)\n",
    "theta_ax[1].hist(np.cos(phsp[\"theta_2\"]), **plot_style)\n",
    "theta_ax[2].hist(np.cos(phsp[\"theta_3\"]), **plot_style)\n",
    "phi_ax[0].hist(phsp[\"phi_1\"], **plot_style)\n",
    "phi_ax[1].hist(phsp[\"phi_2\"], **plot_style)\n",
    "phi_ax[2].hist(phsp[\"phi_3\"], **plot_style)\n",
    "mass_ax[0].hist(np.sqrt(phsp[\"s_{12}\"]), **plot_style)\n",
    "mass_ax[1].hist(np.sqrt(phsp[\"s_{23}\"]), **plot_style)\n",
    "mass_ax[2].hist(np.sqrt(phsp[\"s_{31}\"]), **plot_style)\n",
    "\n",
    "fig.tight_layout()\n",
    "plt.show()"
   ]
  }
 ],
 "metadata": {
  "kernelspec": {
   "display_name": "Python 3 (ipykernel)",
   "language": "python",
   "name": "python3"
  },
  "language_info": {
   "codemirror_mode": {
    "name": "ipython",
    "version": 3
   },
   "file_extension": ".py",
   "mimetype": "text/x-python",
   "name": "python",
   "nbconvert_exporter": "python",
   "pygments_lexer": "ipython3",
   "version": "3.12.5"
  }
 },
 "nbformat": 4,
 "nbformat_minor": 4
}
