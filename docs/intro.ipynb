{
 "cells": [
  {
   "cell_type": "markdown",
   "id": "0",
   "metadata": {
    "editable": true,
    "slideshow": {
     "slide_type": ""
    },
    "tags": []
   },
   "source": [
    "::::{margin}\n",
    ":::{card} Amplitude models for photoproduction reaction\n",
    "PWA101(v2.0): Introduction\n",
    "^^^\n",
    "This document is a follow-up of PWA101 (v1.0) (temporarily see [here](https://compwa--217.org.readthedocs.build/report/999.html)),\n",
    "as an introduction to Amplitude Analysis / Partial Wave Analysis (PWA) by demonstrating its application to a specific reaction channel and amplitude model.\n",
    "Now the focus is the use of symbolic expressions (computations) with `sympy` and the use of [ComPWA packages](https://compwa.github.io/) in general to illustrate the general process in PWA. This tutorial aims to equip readers with deeper understanding of PWA methodologies and full workflow in the context of hadron physics through a practical, hands-on example with symbolic expressions via [ComPWA](https://compwa.github.io/).\n",
    "+++\n",
    "✅&nbsp;[ComPWA/gluex-nstar#1](https://github.com/ComPWA/gluex-nstar/issues/1)\n",
    ":::\n",
    "::::"
   ]
  },
  {
   "cell_type": "markdown",
   "id": "1",
   "metadata": {
    "editable": true,
    "slideshow": {
     "slide_type": ""
    },
    "tags": []
   },
   "source": [
    "# # Amplitude Analysis 101 (v2.0)"
   ]
  },
  {
   "cell_type": "markdown",
   "id": "2",
   "metadata": {
    "editable": true,
    "slideshow": {
     "slide_type": ""
    },
    "tags": []
   },
   "source": [
    "Address to the issue [ComPWA/gluex-nstar#1](https://github.com/ComPWA/gluex-nstar/issues/1), this document is PWA101(v2.0), which shows PWA methodologies and full workflow in the context of hadron physics with symbolic expressions via [ComPWA](https://compwa.github.io/)."
   ]
  },
  {
   "cell_type": "markdown",
   "id": "3",
   "metadata": {
    "editable": true,
    "slideshow": {
     "slide_type": ""
    },
    "tags": []
   },
   "source": [
    "<!-- cspell:ignore Mathieu -->\n",
    "This amplitude model is adapted from the [Lecture 11 in STRONG2020 HaSP School](https://indico.ific.uv.es/event/6803/contributions/21223/) by Vincent Mathieu.\n",
    "\n",
    "The (photo-production) reaction is $ \\gamma p \\to \\eta \\pi^0 p$, it is described by a amplitude model with three possible resonances: $a_2$, $\\Delta^+$, and $N^*$. "
   ]
  },
  {
   "cell_type": "markdown",
   "id": "4",
   "metadata": {
    "editable": true,
    "slideshow": {
     "slide_type": ""
    },
    "tags": []
   },
   "source": [
    "```{image} https://github.com/ComPWA/compwa-org/assets/17490173/ec6bf191-bd5f-43b0-a6cb-da470b071630\n",
    ":width: 100%\n",
    "```"
   ]
  },
  {
   "cell_type": "markdown",
   "id": "5",
   "metadata": {
    "editable": true,
    "slideshow": {
     "slide_type": ""
    },
    "tags": []
   },
   "source": [
    "The amplitude model is adapted from the [Lecture 11 in STRONG2020 HaSP School](https://indico.ific.uv.es/event/6803/contributions/21223/), only the Breit-Wigner and Spherical harmonics terms are kept for doing PWA eventually, as shown in equation {eq}`BW_SH_label`."
   ]
  },
  {
   "cell_type": "markdown",
   "id": "6",
   "metadata": {
    "editable": true,
    "slideshow": {
     "slide_type": ""
    },
    "tags": []
   },
   "source": [
    "$$\n",
    "\\begin{eqnarray}\n",
    "A^{12} &=& \\frac{\\sum a_m Y_2^m (\\Omega_1)}{s-m^2_{a_2}+im_{a_2} \\Gamma_{a_2}} \\\\\n",
    "A^{23} &=& \\frac{\\sum b_m Y_1^m (\\Omega_2)}{s-m^2_{\\Delta}+im_{\\Delta} \\Gamma_{\\Delta}}  \\\\\n",
    "\\\n",
    "A^{31} &=& \\frac{c_0}{s-m^2_{N^*}+im_{N^*} \\Gamma_{N^*}} \n",
    "\\end{eqnarray}\n",
    "$$ (BW_SH_label)"
   ]
  },
  {
   "cell_type": "markdown",
   "id": "7",
   "metadata": {
    "editable": true,
    "slideshow": {
     "slide_type": ""
    },
    "tags": []
   },
   "source": [
    "where s is the Mandelstam variable, m is the mass, $\\Gamma$ is the width, Y is the spherical harmonics, $\\Omega$ is the decay angles (a pair of Euler angles), and a, b, and c are coefficients"
   ]
  },
  {
   "cell_type": "markdown",
   "id": "8",
   "metadata": {
    "editable": true,
    "slideshow": {
     "slide_type": ""
    },
    "tags": []
   },
   "source": [
    ":::{note}\n",
    "Mandelstam variables $s_{ij}=(p_i+p_j)^2$, $t_i=(p_a-p_i)^2$, and $u_i=(p_b-p_i)^2$.\n",
    ":::\n",
    "\n"
   ]
  },
  {
   "cell_type": "markdown",
   "id": "9",
   "metadata": {
    "editable": true,
    "slideshow": {
     "slide_type": ""
    },
    "tags": []
   },
   "source": [
    "with  intensity $I$ and amplitude $A$:\n",
    "\n",
    "$$\n",
    "\\begin{eqnarray}\n",
    "I &=& |A|^2 \\nonumber \\\\\n",
    "A &=& A^{12} + A^{23} + A^{31}  \\\\\n",
    "\\end{eqnarray}\n",
    "$$ (123_label)\n",
    "\n",
    "where $\\quad 1 \\equiv \\eta ; \\quad  2 \\equiv \\pi^0 ; \\quad 3 \\equiv p$"
   ]
  },
  {
   "cell_type": "markdown",
   "id": "10",
   "metadata": {
    "editable": true,
    "slideshow": {
     "slide_type": ""
    },
    "tags": []
   },
   "source": [
    ":::{note}\n",
    "The choice of the amplitude model (equations (1) and (2)) for PWA in this tutorial consists of three resonances, and each of them are formed by two terms: Breit-Wigner with Spherical harmonics ($l = 2, 1, 0$).\n",
    ":::"
   ]
  },
  {
   "cell_type": "markdown",
   "id": "11",
   "metadata": {
    "editable": true,
    "slideshow": {
     "slide_type": ""
    },
    "tags": []
   },
   "source": [
    ":::{important}\n",
    "The spin of $\\eta$ meson and $\\pi^0$ meson are all 0. But the spin of proton is not 0, it is spin-$\\frac{1}{2}$.\n",
    "\n",
    "In this amplitude model **spin** of baryon is simplified (not realistic):\n",
    "$\\eta$, $\\pi^0$ and $p$ are all treated as spin-0 particles.\n",
    "\n",
    "This means that total intrinsic spin $s$ is ignored in this model,\n",
    "the total angular momentum \n",
    "$J$ of the system or any subsystems within this model will solely depend on the orbital angular momentum \n",
    "$L$, characterized by quantum number $l$.\n",
    "And this simplifies the use of spherical harmonics $Y_l^m(\\theta,\\phi)$,\n",
    "since only the orbital angular momentum component is involved, and thus the combination of contribution is not considered (e.g. Clebsch-Gordan Coefficients).\n",
    "\n",
    "In our case: \n",
    "- $A^{12}$ amplitude represents a d-wave interaction, as indicated by $l=2$.\n",
    "    - The possible $m$ values are $−2,−1,0,1,2$. Each of these values corresponds to different orientations of the d-wave. The wave type is solely determined by $l$ and all these $m$ values still describe d-wave characteristics.\n",
    "- $A^{23}$ amplitude represents a p-wave interaction, as indicated by $l=1$.\n",
    "    - The possible $m$ values are $−1,0,1$. Each of these values corresponds to different orientations of the p-wave. Similarly, these values are all p-wave orientations.\n",
    "- $A^{31}$ amplitude represents a s-wave interaction, as indicated by $l=0$.\n",
    "    - The only possible $m$ value is 0, which is consistent with the spherical symmetry of s-waves.\n",
    ":::"
   ]
  },
  {
   "cell_type": "code",
   "execution_count": null,
   "id": "12",
   "metadata": {
    "editable": true,
    "slideshow": {
     "slide_type": ""
    },
    "tags": []
   },
   "outputs": [],
   "source": []
  }
 ],
 "metadata": {
  "kernelspec": {
   "display_name": "Python 3 (ipykernel)",
   "language": "python",
   "name": "python3"
  },
  "language_info": {
   "codemirror_mode": {
    "name": "ipython",
    "version": 3
   },
   "file_extension": ".py",
   "mimetype": "text/x-python",
   "name": "python",
   "nbconvert_exporter": "python",
   "pygments_lexer": "ipython3",
   "version": "3.12.3"
  }
 },
 "nbformat": 4,
 "nbformat_minor": 5
}
