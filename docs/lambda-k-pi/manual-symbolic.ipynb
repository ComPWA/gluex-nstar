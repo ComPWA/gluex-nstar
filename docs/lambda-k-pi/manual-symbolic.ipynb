{
 "cells": [
  {
   "cell_type": "markdown",
   "metadata": {},
   "source": [
    "# Amplitude model with `sympy`"
   ]
  },
  {
   "cell_type": "markdown",
   "metadata": {},
   "source": [
    "In this notebook, we formulate the amplitude model for the $\\gamma p \\to K^+ \\pi^0 \\Lambda $ symbolically by adapting the model originally for the $\\gamma p \\to \\eta\\pi^0 p$ channel example as described in [Reaction and Models](reaction-model.md).\n",
    "\n",
    "The model we want to implement is"
   ]
  },
  {
   "cell_type": "markdown",
   "metadata": {},
   "source": [
    "$$\n",
    "\\begin{array}{rcl}\n",
    "I &=& \\left|A^{12} + A^{23} + A^{31}\\right|^2 \\\\\n",
    "A^{12} &=& \\frac{\\sum a_m Y_2^m (\\Omega_1)}{s_{12}-m^2_{K^{*+}_2}+im_{K^{*+}_2} \\Gamma_{K^{*+}_2}} \\\\\n",
    "A^{23} &=& \\frac{\\sum b_m Y_1^m (\\Omega_2)}{s_{23}-m^2_{\\Sigma^*}+im_{\\Sigma^*} \\Gamma_{\\Sigma^*}} \\\\\n",
    "A^{31} &=& \\frac{c_0}{s_{31}-m^2_{N^{*+}}+im_{N^{*+}} \\Gamma_{N^{*+}}} \\,,\n",
    "\\end{array}\n",
    "$$\n",
    "\n",
    "where $1=K^+$, $2=\\pi^0$, and $3=\\Lambda$."
   ]
  },
  {
   "cell_type": "code",
   "execution_count": null,
   "metadata": {
    "jupyter": {
     "source_hidden": true
    },
    "tags": [
     "hide-cell"
    ]
   },
   "outputs": [],
   "source": [
    "from __future__ import annotations\n",
    "\n",
    "import logging\n",
    "import os\n",
    "import warnings\n",
    "\n",
    "import numpy as np\n",
    "import sympy as sp\n",
    "from ampform.io import aslatex\n",
    "from ampform.kinematics.angles import Phi, Theta\n",
    "from ampform.kinematics.lorentz import (\n",
    "    ArrayMultiplication,\n",
    "    ArraySize,\n",
    "    BoostZMatrix,\n",
    "    Energy,\n",
    "    EuclideanNorm,\n",
    "    FourMomentumSymbol,\n",
    "    RotationYMatrix,\n",
    "    RotationZMatrix,\n",
    "    ThreeMomentum,\n",
    "    three_momentum_norm,\n",
    ")\n",
    "from ampform.sympy import unevaluated\n",
    "from ampform.sympy._array_expressions import ArraySum\n",
    "from IPython.display import Latex\n",
    "from tensorwaves.data import (\n",
    "    SympyDataTransformer,\n",
    "    TFPhaseSpaceGenerator,\n",
    "    TFUniformRealNumberGenerator,\n",
    ")\n",
    "\n",
    "STATIC_PAGE = \"EXECUTE_NB\" in os.environ\n",
    "\n",
    "os.environ[\"TF_CPP_MIN_LOG_LEVEL\"] = \"3\"\n",
    "logging.disable(logging.WARNING)\n",
    "warnings.filterwarnings(\"ignore\")"
   ]
  },
  {
   "cell_type": "markdown",
   "metadata": {},
   "source": [
    "## Model implementation"
   ]
  },
  {
   "cell_type": "code",
   "execution_count": null,
   "metadata": {},
   "outputs": [],
   "source": [
    "l_max = 2"
   ]
  },
  {
   "cell_type": "markdown",
   "metadata": {},
   "source": [
    "### $A^{12}$"
   ]
  },
  {
   "cell_type": "code",
   "execution_count": null,
   "metadata": {},
   "outputs": [],
   "source": [
    "s12, m_Kstar2, Gamma_Kstar2, l12 = sp.symbols(r\"s_{12} m_{K^*_2} \\Gamma_{K^*_2} l_{12}\")\n",
    "theta1, phi1 = sp.symbols(\"theta_1 phi_1\")\n",
    "a = sp.IndexedBase(\"a\")\n",
    "m = sp.symbols(\"m\", cls=sp.Idx)\n",
    "A12 = sp.Sum(a[m] * sp.Ynm(l12, m, theta1, phi1), (m, -l12, l12)) / (\n",
    "    s12 - m_Kstar2**2 + sp.I * m_Kstar2 * Gamma_Kstar2\n",
    ")\n",
    "A12"
   ]
  },
  {
   "cell_type": "code",
   "execution_count": null,
   "metadata": {},
   "outputs": [],
   "source": [
    "A12_funcs = [\n",
    "    sp.lambdify(\n",
    "        [\n",
    "            s12,\n",
    "            *(a[j] for j in range(-l_max, l_max + 1)),\n",
    "            m_Kstar2,\n",
    "            Gamma_Kstar2,\n",
    "            theta1,\n",
    "            phi1,\n",
    "        ],\n",
    "        expr=A12.subs(l12, i).doit().expand(func=True),\n",
    "    )\n",
    "    for i in range(l_max + 1)\n",
    "]\n",
    "A12_funcs"
   ]
  },
  {
   "cell_type": "markdown",
   "metadata": {},
   "source": [
    "### $A^{23}$"
   ]
  },
  {
   "cell_type": "code",
   "execution_count": null,
   "metadata": {},
   "outputs": [],
   "source": [
    "s23, m_Sigma, Gamma_Sigma, l23 = sp.symbols(\n",
    "    r\"s_{23} m_{\\Sigma^{*+}} \\Gamma_{\\Sigma^{*+}} l_{23}\"\n",
    ")\n",
    "b = sp.IndexedBase(\"b\")\n",
    "m = sp.symbols(\"m\", cls=sp.Idx)\n",
    "theta2, phi2 = sp.symbols(\"theta_2 phi_2\")\n",
    "A23 = sp.Sum(b[m] * sp.Ynm(l23, m, theta2, phi2), (m, -l23, l23)) / (\n",
    "    s23 - m_Sigma**2 + sp.I * m_Sigma * Gamma_Sigma\n",
    ")\n",
    "A23"
   ]
  },
  {
   "cell_type": "code",
   "execution_count": null,
   "metadata": {},
   "outputs": [],
   "source": [
    "A23_funcs = [\n",
    "    sp.lambdify(\n",
    "        [\n",
    "            s23,\n",
    "            *(b[j] for j in range(-l_max, l_max + 1)),\n",
    "            m_Sigma,\n",
    "            Gamma_Sigma,\n",
    "            theta2,\n",
    "            phi2,\n",
    "        ],\n",
    "        A23.subs(l23, i).doit().expand(func=True),\n",
    "    )\n",
    "    for i in range(l_max + 1)\n",
    "]\n",
    "A23_funcs"
   ]
  },
  {
   "cell_type": "markdown",
   "metadata": {},
   "source": [
    "### $A^{31}$"
   ]
  },
  {
   "cell_type": "code",
   "execution_count": null,
   "metadata": {},
   "outputs": [],
   "source": [
    "s31, m_Nstar, Gamma_Nstar = sp.symbols(r\"s_{31} m_{N^*} \\Gamma_{N^*}\")\n",
    "c = sp.IndexedBase(\"c\")\n",
    "theta3, phi3, l31 = sp.symbols(\"theta_3 phi_3 l_{31}\")\n",
    "A31 = sp.Sum(c[m] * sp.Ynm(l31, m, theta3, phi3), (m, -l31, l31)) / (\n",
    "    s31 - m_Nstar**2 + sp.I * m_Nstar * Gamma_Nstar\n",
    ")\n",
    "A31"
   ]
  },
  {
   "cell_type": "code",
   "execution_count": null,
   "metadata": {},
   "outputs": [],
   "source": [
    "A31_funcs = [\n",
    "    sp.lambdify(\n",
    "        [\n",
    "            s31,\n",
    "            *(c[j] for j in range(-l_max, l_max + 1)),\n",
    "            m_Nstar,\n",
    "            Gamma_Nstar,\n",
    "            theta3,\n",
    "            phi3,\n",
    "        ],\n",
    "        A31.subs(l31, i).doit().expand(func=True),\n",
    "    )\n",
    "    for i in range(l_max + 1)\n",
    "]\n",
    "A31_funcs"
   ]
  },
  {
   "cell_type": "markdown",
   "metadata": {},
   "source": [
    "### $I = |A|^2 = |A^{12}+A^{23}+A^{31}|^2$"
   ]
  },
  {
   "cell_type": "code",
   "execution_count": null,
   "metadata": {},
   "outputs": [],
   "source": [
    "intensity_expr = sp.Abs(A12 + A23 + A31) ** 2\n",
    "intensity_expr"
   ]
  },
  {
   "cell_type": "markdown",
   "metadata": {},
   "source": [
    "### Phase Space Generation"
   ]
  },
  {
   "cell_type": "markdown",
   "metadata": {},
   "source": [
    "Mass for $p\\gamma$ system"
   ]
  },
  {
   "cell_type": "code",
   "execution_count": null,
   "metadata": {},
   "outputs": [],
   "source": [
    "E_lab_gamma = 8.5\n",
    "m_proton = 0.938\n",
    "m_0 = np.sqrt(2 * E_lab_gamma * m_proton + m_proton**2)\n",
    "m_lambda = 1.12\n",
    "m_k = 0.494\n",
    "m_pi = 0.135\n",
    "m_0"
   ]
  },
  {
   "cell_type": "code",
   "execution_count": null,
   "metadata": {},
   "outputs": [],
   "source": [
    "rng = TFUniformRealNumberGenerator(seed=0)\n",
    "phsp_generator = TFPhaseSpaceGenerator(\n",
    "    initial_state_mass=m_0,\n",
    "    final_state_masses={1: m_k, 2: m_pi, 3: m_lambda},\n",
    ")\n",
    "phsp_momenta = phsp_generator.generate(500_000, rng)"
   ]
  },
  {
   "cell_type": "markdown",
   "metadata": {},
   "source": [
    "### Kinematic variables"
   ]
  },
  {
   "cell_type": "code",
   "execution_count": null,
   "metadata": {
    "tags": [
     "hide-input"
    ]
   },
   "outputs": [],
   "source": [
    "@unevaluated\n",
    "class SquaredInvariantMass(sp.Expr):\n",
    "    momentum: sp.Basic\n",
    "    _latex_repr_ = \"m_{{{momentum}}}^2\"\n",
    "\n",
    "    def evaluate(self) -> sp.Expr:\n",
    "        p = self.momentum\n",
    "        p_xyz = ThreeMomentum(p)\n",
    "        return Energy(p) ** 2 - EuclideanNorm(p_xyz) ** 2\n",
    "\n",
    "\n",
    "def formulate_helicity_angles(\n",
    "    pi: FourMomentumSymbol, pj: FourMomentumSymbol\n",
    ") -> tuple[Theta, Phi]:\n",
    "    pij = ArraySum(pi, pj)\n",
    "    beta = three_momentum_norm(pij) / Energy(pij)\n",
    "    Rz = RotationZMatrix(-Phi(pij), n_events=ArraySize(Phi(pij)))\n",
    "    Ry = RotationYMatrix(-Theta(pij), n_events=ArraySize(Theta(pij)))\n",
    "    Bz = BoostZMatrix(beta, n_events=ArraySize(beta))\n",
    "    pi_boosted = ArrayMultiplication(Bz, Ry, Rz, pi)\n",
    "    return Theta(pi_boosted), Phi(pi_boosted)"
   ]
  },
  {
   "cell_type": "code",
   "execution_count": null,
   "metadata": {},
   "outputs": [],
   "source": [
    "p1 = FourMomentumSymbol(\"p1\", shape=[])\n",
    "p2 = FourMomentumSymbol(\"p2\", shape=[])\n",
    "p3 = FourMomentumSymbol(\"p3\", shape=[])\n",
    "p12 = ArraySum(p1, p2)\n",
    "p23 = ArraySum(p2, p3)\n",
    "p31 = ArraySum(p3, p1)\n",
    "\n",
    "theta1_expr, phi1_expr = formulate_helicity_angles(p1, p2)\n",
    "theta2_expr, phi2_expr = formulate_helicity_angles(p2, p3)\n",
    "theta3_expr, phi3_expr = formulate_helicity_angles(p3, p1)\n",
    "\n",
    "s12_expr = SquaredInvariantMass(p12)\n",
    "s23_expr = SquaredInvariantMass(p23)\n",
    "s31_expr = SquaredInvariantMass(p31)"
   ]
  },
  {
   "cell_type": "code",
   "execution_count": null,
   "metadata": {},
   "outputs": [],
   "source": [
    "kinematic_variables = {\n",
    "    theta1: theta1_expr,\n",
    "    theta2: theta2_expr,\n",
    "    theta3: theta3_expr,\n",
    "    phi1: phi1_expr,\n",
    "    phi2: phi2_expr,\n",
    "    phi3: phi3_expr,\n",
    "    s12: s12_expr,\n",
    "    s23: s23_expr,\n",
    "    s31: s31_expr,\n",
    "}\n",
    "\n",
    "Latex(aslatex(kinematic_variables))"
   ]
  },
  {
   "cell_type": "code",
   "execution_count": null,
   "metadata": {},
   "outputs": [],
   "source": [
    "helicity_transformer = SympyDataTransformer.from_sympy(\n",
    "    kinematic_variables, backend=\"jax\"\n",
    ")"
   ]
  },
  {
   "cell_type": "code",
   "execution_count": null,
   "metadata": {},
   "outputs": [],
   "source": [
    "phsp = helicity_transformer(phsp_momenta)\n",
    "list(phsp)"
   ]
  },
  {
   "cell_type": "markdown",
   "metadata": {},
   "source": [
    "### Parameters"
   ]
  },
  {
   "cell_type": "code",
   "execution_count": null,
   "metadata": {
    "jupyter": {
     "source_hidden": true
    },
    "tags": [
     "hide-input",
     "scroll-input"
    ]
   },
   "outputs": [],
   "source": [
    "a_vals = [0, 1.0, 3.0, 3.5, 2.0]  # Slight adjustment to emphasize higher waves\n",
    "b_vals = [0, -1.0, 3.5, 0.5, 0]  # Adjust for new final state coupling\n",
    "c_vals = [0, 0, 3.0, 0, 0]  # Adjust if more s-wave or p-wave is expected\n",
    "\n",
    "m_Kstar2_val = 1.43\n",
    "m_Sigma_val = 1.385\n",
    "m_Nstar_val = 1.71\n",
    "\n",
    "Gamma_Kstar2_val = 0.62\n",
    "Gamma_Sigma_val = 0.2\n",
    "Gamma_Nstar_val = 0.27\n",
    "\n",
    "l12_val = 2  # I still use 2 assuming K^*_2\n",
    "l23_val = 1\n",
    "l31_val = 0\n",
    "\n",
    "parameters_default = {\n",
    "    m_Kstar2: m_Kstar2_val,\n",
    "    m_Sigma: m_Sigma_val,\n",
    "    m_Nstar: m_Nstar_val,\n",
    "    Gamma_Kstar2: Gamma_Kstar2_val,\n",
    "    Gamma_Sigma: Gamma_Sigma_val,\n",
    "    Gamma_Nstar: Gamma_Nstar_val,\n",
    "    l12: l12_val,\n",
    "    l23: l23_val,\n",
    "    l31: l31_val,\n",
    "}\n",
    "\n",
    "a_dict = {a[i]: a_vals[i + l_max] for i in range(-l_max, l_max + 1)}\n",
    "b_dict = {b[i]: b_vals[i + l_max] for i in range(-l_max, l_max + 1)}\n",
    "c_dict = {c[i]: c_vals[i + l_max] for i in range(-l_max, l_max + 1)}\n",
    "parameters_default.update(a_dict)\n",
    "parameters_default.update(b_dict)\n",
    "parameters_default.update(c_dict)\n",
    "\n",
    "Latex(aslatex(parameters_default))"
   ]
  }
 ],
 "metadata": {
  "kernelspec": {
   "display_name": "Python 3 (ipykernel)",
   "language": "python",
   "name": "python3"
  },
  "language_info": {
   "codemirror_mode": {
    "name": "ipython",
    "version": 3
   },
   "file_extension": ".py",
   "mimetype": "text/x-python",
   "name": "python",
   "nbconvert_exporter": "python",
   "pygments_lexer": "ipython3",
   "version": "3.12.5"
  }
 },
 "nbformat": 4,
 "nbformat_minor": 4
}
