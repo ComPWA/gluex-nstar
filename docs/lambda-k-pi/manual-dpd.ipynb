{
 "cells": [
  {
   "cell_type": "markdown",
   "metadata": {},
   "source": [
    "# Manually modelling helicity amplitudes"
   ]
  },
  {
   "cell_type": "markdown",
   "metadata": {},
   "source": [
    "The goal in this notebook is to formulate helicity amplitude model manually and reproduce the result in [Amplitude model with `ampform-dpd` notebook](ampform-dpd.ipynb)."
   ]
  },
  {
   "cell_type": "code",
   "execution_count": null,
   "metadata": {
    "jupyter": {
     "source_hidden": true
    },
    "tags": [
     "hide-cell"
    ]
   },
   "outputs": [],
   "source": [
    "from __future__ import annotations\n",
    "\n",
    "import logging\n",
    "import os\n",
    "import warnings\n",
    "\n",
    "import graphviz\n",
    "import numpy as np\n",
    "import qrules\n",
    "import sympy as sp\n",
    "from ampform.io import aslatex\n",
    "from ampform_dpd.adapter.qrules import normalize_state_ids, to_three_body_decay\n",
    "from IPython.display import Math\n",
    "from qrules.particle import Particle, Spin, create_particle, load_pdg\n",
    "\n",
    "STATIC_PAGE = \"EXECUTE_NB\" in os.environ\n",
    "\n",
    "os.environ[\"TF_CPP_MIN_LOG_LEVEL\"] = \"3\"\n",
    "logging.disable(logging.WARNING)\n",
    "warnings.filterwarnings(\"ignore\")\n",
    "\n",
    "particle_db = load_pdg()"
   ]
  },
  {
   "cell_type": "markdown",
   "metadata": {},
   "source": [
    "# Reaction "
   ]
  },
  {
   "cell_type": "markdown",
   "metadata": {},
   "source": [
    "Firstly, we check the decay topology in strong reaction as a reminder."
   ]
  },
  {
   "cell_type": "code",
   "execution_count": null,
   "metadata": {},
   "outputs": [],
   "source": [
    "E_lab_gamma = 8.5\n",
    "m_proton = 0.938\n",
    "m_0 = np.sqrt(2 * E_lab_gamma * m_proton + m_proton**2)\n",
    "m_eta = 0.548\n",
    "m_pi = 0.135\n",
    "m_0"
   ]
  },
  {
   "cell_type": "code",
   "execution_count": null,
   "metadata": {
    "jupyter": {
     "source_hidden": true
    }
   },
   "outputs": [],
   "source": [
    "pgamma1 = Particle(\n",
    "    name=\"pgamma1\",\n",
    "    latex=r\"p\\gamma (s1/2)\",\n",
    "    spin=0.5,\n",
    "    mass=m_0,\n",
    "    charge=1,\n",
    "    isospin=Spin(1 / 2, +1 / 2),\n",
    "    baryon_number=1,\n",
    "    parity=-1,\n",
    "    pid=99990,\n",
    ")\n",
    "pgamma2 = create_particle(\n",
    "    template_particle=pgamma1,\n",
    "    name=\"pgamma2\",\n",
    "    latex=R\"p\\gamma (s3/2)\",\n",
    "    spin=1.5,\n",
    "    pid=pgamma1.pid + 1,\n",
    ")\n",
    "particle_db.update([pgamma1, pgamma2])"
   ]
  },
  {
   "cell_type": "code",
   "execution_count": null,
   "metadata": {},
   "outputs": [],
   "source": [
    "reaction = qrules.generate_transitions(\n",
    "    initial_state=(\"pgamma1\"),\n",
    "    final_state=[\"Lambda\", \"K+\", \"pi0\"],\n",
    "    allowed_interaction_types=[\"strong\"],\n",
    "    formalism=\"helicity\",\n",
    "    particle_db=particle_db,\n",
    "    max_angular_momentum=4,\n",
    "    max_spin_magnitude=4,\n",
    "    mass_conservation_factor=0,\n",
    ")\n",
    "reaction = normalize_state_ids(reaction)"
   ]
  },
  {
   "cell_type": "code",
   "execution_count": null,
   "metadata": {},
   "outputs": [],
   "source": [
    "dot = qrules.io.asdot(reaction, collapse_graphs=True)\n",
    "graphviz.Source(dot)"
   ]
  },
  {
   "cell_type": "code",
   "execution_count": null,
   "metadata": {
    "jupyter": {
     "source_hidden": true
    }
   },
   "outputs": [],
   "source": [
    "decay = to_three_body_decay(reaction.transitions)\n",
    "Math(aslatex(decay, with_jp=True))"
   ]
  },
  {
   "cell_type": "markdown",
   "metadata": {},
   "source": [
    "## Model implementation"
   ]
  },
  {
   "cell_type": "markdown",
   "metadata": {},
   "source": [
    "Final states: \n",
    "\n",
    "$1: \\Lambda, $\n",
    "\n",
    "$2:K^+, $\n",
    "\n",
    "$3:\\pi^0$\n",
    "\n",
    "Resonances:\n",
    "\n",
    "Final states 23 -> \n",
    "\n",
    "$1: K^*$\n",
    "\n",
    "Final states 31 -> \n",
    "\n",
    "$2: \\Sigma^*$\n",
    "\n",
    "Final states 12 -> \n",
    "\n",
    "$3: N^*$"
   ]
  },
  {
   "cell_type": "markdown",
   "metadata": {},
   "source": [
    "### $A^1 \\equiv A^{K^*}$"
   ]
  },
  {
   "cell_type": "code",
   "execution_count": null,
   "metadata": {},
   "outputs": [],
   "source": [
    "s23, m_k, gamma_k, c_k = sp.symbols(r\"s_{12} m_{K^*} \\Gamma_{K^*} C_{K^*}\")\n",
    "theta23, phi23, delta = sp.symbols(r\"theta_23 phi_23 \\delta_{\\lambda_K^*1/2}\")\n",
    "d_k = sp.Function(r\"d_{\\lambda_K^*1/2}^{1/2}\")\n",
    "\n",
    "A1 = gamma_k * m_k * delta * c_k * d_k(theta23) / (-sp.I * gamma_k * m_k + m_k**2 - s23)\n",
    "A1"
   ]
  },
  {
   "cell_type": "code",
   "execution_count": null,
   "metadata": {},
   "outputs": [],
   "source": [
    "s12, m_a2, gamma_a2 = sp.symbols(r\"s_{12} m_{a_2} \\Gamma_{a_2}\")\n",
    "theta1, phi1 = sp.symbols(\"theta_1 phi_1\")\n",
    "a = sp.IndexedBase(\"a\")\n",
    "m = sp.symbols(\"m\", cls=sp.Idx)\n",
    "A12 = sp.Sum(a[m] * sp.Ynm(2, m, theta1, phi1), (m, -2, 2)) / (\n",
    "    s12 - m_a2**2 + sp.I * m_a2 * gamma_a2\n",
    ")\n",
    "A12"
   ]
  },
  {
   "cell_type": "code",
   "execution_count": null,
   "metadata": {},
   "outputs": [],
   "source": [
    "A12_func = sp.lambdify(\n",
    "    [s12, a[-2], a[-1], a[0], a[1], a[2], m_a2, gamma_a2, theta1, phi1],\n",
    "    A12.doit().expand(func=True),\n",
    ")\n",
    "A12_func"
   ]
  },
  {
   "cell_type": "code",
   "execution_count": null,
   "metadata": {},
   "outputs": [],
   "source": [
    "intensity_expr = sp.Abs(A12) ** 2\n",
    "intensity_expr"
   ]
  },
  {
   "cell_type": "markdown",
   "metadata": {},
   "source": [
    "### $A^2 \\equiv A^{\\Sigma^*}$"
   ]
  },
  {
   "cell_type": "code",
   "execution_count": null,
   "metadata": {},
   "outputs": [],
   "source": [
    "s31, m_sigma, gamma_sigma, c_sigma = sp.symbols(\n",
    "    r\"s_{31} m_{\\Sigma^*} \\Gamma_{\\Sigma^*} C_{\\Sigma^*}\"\n",
    ")\n",
    "theta31, phi31, delta = sp.symbols(r\"theta_31 phi_31 \\delta_{\\lambda_\\Sigma^*1/2}\")\n",
    "d_s = sp.Function(r\"d_{\\lambda_\\Sigma^*1/2}^{1/2}\")\n",
    "\n",
    "A2 = (\n",
    "    gamma_sigma\n",
    "    * m_sigma\n",
    "    * delta\n",
    "    * c_sigma\n",
    "    * d_s(theta31)\n",
    "    / (-sp.I * gamma_sigma * m_sigma + m_sigma**2 - s31)\n",
    ")\n",
    "A2"
   ]
  },
  {
   "cell_type": "markdown",
   "metadata": {},
   "source": [
    "### $A^3 \\equiv A^{N^*}$"
   ]
  },
  {
   "cell_type": "code",
   "execution_count": null,
   "metadata": {},
   "outputs": [],
   "source": [
    "s12, m_n, gamma_n, c_n = sp.symbols(r\"s_{12} m_{N^*} \\Gamma_{N^*} C_{N^*}\")\n",
    "theta12, phi12, delta = sp.symbols(r\"theta_12 phi_12 \\delta_{\\lambda_N^*1/2}\")\n",
    "d_n = sp.Function(r\"d_{\\lambda_N^*1/2}^{1/2}\")\n",
    "\n",
    "A3 = gamma_n * m_n * delta * c_n * d_n(theta12) / (-sp.I * gamma_n * m_n + m_n**2 - s12)\n",
    "A3"
   ]
  }
 ],
 "metadata": {
  "kernelspec": {
   "display_name": "Python 3 (ipykernel)",
   "language": "python",
   "name": "python3"
  },
  "language_info": {
   "codemirror_mode": {
    "name": "ipython",
    "version": 3
   },
   "file_extension": ".py",
   "mimetype": "text/x-python",
   "name": "python",
   "nbconvert_exporter": "python",
   "pygments_lexer": "ipython3",
   "version": "3.12.5"
  }
 },
 "nbformat": 4,
 "nbformat_minor": 4
}
