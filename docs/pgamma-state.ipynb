{
 "cells": [
  {
   "cell_type": "markdown",
   "id": "0",
   "metadata": {
    "editable": true,
    "slideshow": {
     "slide_type": ""
    },
    "tags": []
   },
   "source": [
    "# Virtual particle that represents the state pγ "
   ]
  },
  {
   "cell_type": "markdown",
   "id": "1",
   "metadata": {
    "editable": true,
    "slideshow": {
     "slide_type": ""
    },
    "tags": []
   },
   "source": [
    "Address to issue ✅&nbsp;[ComPWA/gluex-nstar#5](https://github.com/ComPWA/gluex-nstar/issues/5), this section is an investigation of creating a virtual particle that represents the state $p \\gamma$ in `QRules`"
   ]
  },
  {
   "cell_type": "markdown",
   "id": "2",
   "metadata": {
    "editable": true,
    "slideshow": {
     "slide_type": ""
    },
    "tags": []
   },
   "source": [
    "As an example of side note, create a virtual particle that represents state $e^+ e^-$ can be seen [here](https://qrules.readthedocs.io/0.10.x/usage/particle/#adding-custom-particle-definitions-through-python)."
   ]
  },
  {
   "cell_type": "markdown",
   "id": "3",
   "metadata": {},
   "source": [
    "## Finding particles"
   ]
  },
  {
   "cell_type": "markdown",
   "id": "4",
   "metadata": {},
   "source": [
    "Our reaction is $p + \\gamma \\to \\eta + \\pi^0 + p$, so we can look for each of the reaction and decay particles"
   ]
  },
  {
   "cell_type": "code",
   "execution_count": null,
   "id": "5",
   "metadata": {
    "editable": true,
    "slideshow": {
     "slide_type": ""
    },
    "tags": []
   },
   "outputs": [],
   "source": [
    "from IPython.display import Math\n",
    "from qrules.particle import load_pdg\n",
    "from ampform.io import aslatex, improve_latex_rendering\n",
    "\n",
    "improve_latex_rendering()\n",
    "particle_db = load_pdg()\n",
    "print(\"Number of loaded particles:\", len(particle_db))"
   ]
  },
  {
   "cell_type": "markdown",
   "id": "6",
   "metadata": {},
   "source": [
    "The [`ParticleCollection`](https://qrules.readthedocs.io/0.10.x/api/qrules.particle/#qrules.particle.ParticleCollection) class offers some methods to search for particles by name or by PID, name, or other properties."
   ]
  },
  {
   "cell_type": "markdown",
   "id": "7",
   "metadata": {},
   "source": [
    "### Proton"
   ]
  },
  {
   "cell_type": "markdown",
   "id": "8",
   "metadata": {},
   "source": [
    "Search by Particle ID (PID) for proton:"
   ]
  },
  {
   "cell_type": "code",
   "execution_count": null,
   "id": "9",
   "metadata": {
    "editable": true,
    "slideshow": {
     "slide_type": ""
    },
    "tags": []
   },
   "outputs": [],
   "source": [
    "particle_db.find(2212)"
   ]
  },
  {
   "cell_type": "markdown",
   "id": "10",
   "metadata": {},
   "source": [
    "Search by Particle name for proton:"
   ]
  },
  {
   "cell_type": "code",
   "execution_count": null,
   "id": "11",
   "metadata": {},
   "outputs": [],
   "source": [
    "particle_db.find(\"p\")\n",
    "proton = particle_db[\"p\"]"
   ]
  },
  {
   "cell_type": "code",
   "execution_count": null,
   "id": "12",
   "metadata": {},
   "outputs": [],
   "source": [
    "from IPython.display import Math\n",
    "\n",
    "Math(proton.latex)"
   ]
  },
  {
   "cell_type": "markdown",
   "id": "13",
   "metadata": {},
   "source": [
    "### $\\gamma$"
   ]
  },
  {
   "cell_type": "markdown",
   "id": "14",
   "metadata": {},
   "source": [
    "similarly for $\\gamma$:"
   ]
  },
  {
   "cell_type": "code",
   "execution_count": null,
   "id": "15",
   "metadata": {},
   "outputs": [],
   "source": [
    "particle_db.find(\"gamma\")"
   ]
  },
  {
   "cell_type": "code",
   "execution_count": null,
   "id": "16",
   "metadata": {},
   "outputs": [],
   "source": [
    "gamma = particle_db[\"gamma\"]\n",
    "Math(gamma.latex)"
   ]
  },
  {
   "cell_type": "markdown",
   "id": "17",
   "metadata": {},
   "source": [
    "### $\\eta$"
   ]
  },
  {
   "cell_type": "code",
   "execution_count": null,
   "id": "18",
   "metadata": {},
   "outputs": [],
   "source": [
    "particle_db.find(\"eta\")"
   ]
  },
  {
   "cell_type": "code",
   "execution_count": null,
   "id": "19",
   "metadata": {},
   "outputs": [],
   "source": [
    "eta = particle_db[\"eta\"]\n",
    "Math(gamma.latex)"
   ]
  },
  {
   "cell_type": "markdown",
   "id": "20",
   "metadata": {},
   "source": [
    "### $\\pi^0$"
   ]
  },
  {
   "cell_type": "code",
   "execution_count": null,
   "id": "21",
   "metadata": {},
   "outputs": [],
   "source": [
    "particle_db.find(\"pi0\")"
   ]
  },
  {
   "cell_type": "code",
   "execution_count": null,
   "id": "22",
   "metadata": {},
   "outputs": [],
   "source": [
    "pi0 = particle_db[\"pi0\"]\n",
    "Math(pi0.latex)"
   ]
  },
  {
   "cell_type": "markdown",
   "id": "23",
   "metadata": {},
   "source": [
    "# Adding custom particle"
   ]
  },
  {
   "cell_type": "markdown",
   "id": "24",
   "metadata": {},
   "source": [
    "We add the virtual particle $p\\gamma$ to represent the state of $p-\\gamma$ system in the photoproduction reaction.\n",
    "See PWA101 (temporary [here](https://compwa--217.org.readthedocs.build/report/999.html)), the value of the mass of the system $m_{p\\gamma}$ in CM frame is about 4.102 GeV in this analysis.\n",
    "\n",
    "\n",
    "We use `Particle` from `QRules` for adding custom particle, so that some quantum numbers we need to determine for the $p\\gamma$ virtual state particle:\n",
    "\n",
    "* (Total) Spin\n",
    "    * $J_{p\\gamma} = \\frac{1}{2}$ or $\\frac{3}{2}$\n",
    "      \n",
    "      because $J_{p\\gamma}$ = from $|s_p-s_{\\gamma}|$ to $s_p + s_{\\gamma}$ = from $|\\frac{1}{2}-1|$ to $\\frac{1}{2} + 1$\n",
    "      \n",
    "* Mass\n",
    "    * $m_{p\\gamma} = E_{p\\gamma} \\approx 4.102$\n",
    "    \n",
    "* Charge\n",
    "    * $Q_{p\\gamma} = Q_p + Q_{\\gamma} = 1 $\n",
    "      \n",
    "* Isospin and $3^{rd}$ component of isospin\n",
    "    * $I_{p\\gamma} = I_p = \\frac{1}{2}$\n",
    "    * $I_{3_{p\\gamma}} = I_{3_p} = +\\frac{1}{2}$\n",
    "  \n",
    "* Baryon Number\n",
    "    * $B_{p\\gamma} = B_p  = 1$\n",
    "\n",
    "* Parity\n",
    "    * $P_{p\\gamma} = P_p \\times P_{\\gamma} = +1 \\times (-1) = -1$"
   ]
  },
  {
   "cell_type": "markdown",
   "id": "25",
   "metadata": {},
   "source": [
    "These quantum numbers provide a complete and accurate description of the virtual particle representing the p−γ system with a mass of 4.102 GeV.\n",
    "The pγ virtual particle has two possibilities for the total spin, while the other quantum numbers are fixed."
   ]
  },
  {
   "cell_type": "markdown",
   "id": "26",
   "metadata": {},
   "source": [
    "We add the spin-$\\frac{1}{2}$ $p\\gamma$ virtual particle via `QRules` and named it $p\\gamma$ with a make-up pid number 99990"
   ]
  },
  {
   "cell_type": "code",
   "execution_count": null,
   "id": "27",
   "metadata": {
    "editable": true,
    "slideshow": {
     "slide_type": ""
    },
    "tags": []
   },
   "outputs": [],
   "source": [
    "from qrules.particle import Particle, Spin\n",
    "\n",
    "pgamma = Particle(\n",
    "    name=\"pgamma\",\n",
    "    latex=r\"p\\gamma (s1/2)\",\n",
    "    spin=0.5,\n",
    "    mass=4.101931071854584,\n",
    "    charge=1,\n",
    "    isospin=Spin(1 / 2, +1 / 2),\n",
    "    baryon_number=1,\n",
    "    parity=-1,\n",
    "    pid=99990,\n",
    ")\n",
    "pgamma"
   ]
  },
  {
   "cell_type": "markdown",
   "id": "28",
   "metadata": {},
   "source": [
    "We add the spin-$\\frac{3}{2}$ $p\\gamma$ virtual particle via `QRules` and named it $p\\gamma (s3/2)$ with a make-up pid number 99991"
   ]
  },
  {
   "cell_type": "code",
   "execution_count": null,
   "id": "29",
   "metadata": {
    "editable": true,
    "slideshow": {
     "slide_type": ""
    },
    "tags": []
   },
   "outputs": [],
   "source": [
    "pgamma2 = Particle(\n",
    "    name=\"pgamma2\",\n",
    "    latex=R\"p\\gamma (s3/2)\",\n",
    "    spin=1.5,\n",
    "    mass=4.101931071854584,\n",
    "    charge=1,\n",
    "    isospin=Spin(1 / 2, +1 / 2),\n",
    "    baryon_number=1,\n",
    "    parity=-1,\n",
    "    pid=99991,\n",
    ")\n",
    "pgamma2"
   ]
  },
  {
   "cell_type": "code",
   "execution_count": null,
   "id": "30",
   "metadata": {
    "editable": true,
    "slideshow": {
     "slide_type": ""
    },
    "tags": []
   },
   "outputs": [],
   "source": [
    "Math(pgamma.latex)"
   ]
  },
  {
   "cell_type": "code",
   "execution_count": null,
   "id": "31",
   "metadata": {
    "editable": true,
    "slideshow": {
     "slide_type": ""
    },
    "tags": []
   },
   "outputs": [],
   "source": [
    "Math(pgamma2.latex)"
   ]
  },
  {
   "cell_type": "code",
   "execution_count": null,
   "id": "32",
   "metadata": {
    "editable": true,
    "slideshow": {
     "slide_type": ""
    },
    "tags": []
   },
   "outputs": [],
   "source": [
    "particle_db.add(pgamma)"
   ]
  },
  {
   "cell_type": "code",
   "execution_count": null,
   "id": "33",
   "metadata": {},
   "outputs": [],
   "source": [
    "particle_db.add(pgamma2)"
   ]
  },
  {
   "cell_type": "markdown",
   "id": "34",
   "metadata": {
    "editable": true,
    "slideshow": {
     "slide_type": ""
    },
    "tags": []
   },
   "source": [
    "The $`p\\gamma`$ virtual states generated via `QRules` will be used in later stages, both possible spin states $(J= \\frac{1}{2}$ and $\\frac{3}{2})$ should be taken into account if possible, otherwise simplified if necessary."
   ]
  },
  {
   "cell_type": "markdown",
   "id": "35",
   "metadata": {},
   "source": [
    ":::{important}\n",
    "It is possible to add any kind of custom Particle, as long as its quantum numbers comply with the [gellmann_nishijima()](https://qrules.readthedocs.io/0.10.x/api/qrules.conservation_rules/#qrules.conservation_rules.gellmann_nishijima) rule:\n",
    ":::\n"
   ]
  },
  {
   "cell_type": "markdown",
   "id": "36",
   "metadata": {
    "editable": true,
    "slideshow": {
     "slide_type": ""
    },
    "tags": []
   },
   "source": [
    ":::{note}\n",
    "[Gell-Mann-Nishijima formula](https://en.wikipedia.org/wiki/Gell-Mann–Nishijima_formula):\n",
    "$Q = I_3 + \\frac{1}{2}(B+S+C+B'+T)$\n",
    "\n",
    "where \n",
    "Q is charge, \n",
    "$I_3$ is Spin projection of isospin, \n",
    " B is baryon number, \n",
    " S is strangeness, \n",
    " C is charmness, \n",
    " B' is bottomness, and \n",
    " T is topness.\n",
    ":::\n"
   ]
  },
  {
   "cell_type": "code",
   "execution_count": null,
   "id": "37",
   "metadata": {
    "editable": true,
    "slideshow": {
     "slide_type": ""
    },
    "tags": []
   },
   "outputs": [],
   "source": [
    "import qrules\n",
    "import graphviz\n",
    "\n",
    "reaction1_all = qrules.generate_transitions(\n",
    "    initial_state=(\"pgamma\"),\n",
    "    final_state=[\"eta\", \"pi0\", \"p\"],\n",
    "    # allowed_intermediate_particles=[\"a(2)\", \"Delta\", \"N\"],\n",
    "    allowed_interaction_types=[\"strong\", \"EM\", \"weak\"],\n",
    "    formalism=\"canonical-helicity\",\n",
    "    particle_db=particle_db,\n",
    ")"
   ]
  },
  {
   "cell_type": "code",
   "execution_count": null,
   "id": "38",
   "metadata": {
    "editable": true,
    "slideshow": {
     "slide_type": ""
    },
    "tags": []
   },
   "outputs": [],
   "source": [
    "dot = qrules.io.asdot(reaction1_all, collapse_graphs=True)\n",
    "graphviz.Source(dot)"
   ]
  },
  {
   "cell_type": "code",
   "execution_count": null,
   "id": "39",
   "metadata": {},
   "outputs": [],
   "source": [
    "reaction1_strong_EM = qrules.generate_transitions(\n",
    "    initial_state=(\"pgamma\"),\n",
    "    final_state=[\"eta\", \"pi0\", \"p\"],\n",
    "    # allowed_intermediate_particles=[\"a(2)\", \"Delta\", \"N\"],\n",
    "    allowed_interaction_types=[\"strong\", \"EM\"],\n",
    "    formalism=\"canonical-helicity\",\n",
    "    particle_db=particle_db,\n",
    ")"
   ]
  },
  {
   "cell_type": "code",
   "execution_count": null,
   "id": "40",
   "metadata": {},
   "outputs": [],
   "source": [
    "dot1 = qrules.io.asdot(reaction1_strong_EM, collapse_graphs=True)\n",
    "graphviz.Source(dot1)"
   ]
  },
  {
   "cell_type": "code",
   "execution_count": null,
   "id": "41",
   "metadata": {},
   "outputs": [],
   "source": [
    "reaction1_strong = qrules.generate_transitions(\n",
    "    initial_state=(\"pgamma\"),\n",
    "    final_state=[\"eta\", \"pi0\", \"p\"],\n",
    "    # allowed_intermediate_particles=[\"a(2)\", \"Delta\", \"N\"],\n",
    "    allowed_interaction_types=[\"strong\"],\n",
    "    formalism=\"canonical-helicity\",\n",
    "    particle_db=particle_db,\n",
    ")"
   ]
  },
  {
   "cell_type": "code",
   "execution_count": null,
   "id": "42",
   "metadata": {},
   "outputs": [],
   "source": [
    "dot1 = qrules.io.asdot(reaction1_strong, collapse_graphs=True)\n",
    "graphviz.Source(dot1)"
   ]
  },
  {
   "cell_type": "code",
   "execution_count": null,
   "id": "43",
   "metadata": {},
   "outputs": [],
   "source": []
  }
 ],
 "metadata": {
  "kernelspec": {
   "display_name": "Python 3 (ipykernel)",
   "language": "python",
   "name": "python3"
  },
  "language_info": {
   "codemirror_mode": {
    "name": "ipython",
    "version": 3
   },
   "file_extension": ".py",
   "mimetype": "text/x-python",
   "name": "python",
   "nbconvert_exporter": "python",
   "pygments_lexer": "ipython3",
   "version": "3.12.3"
  }
 },
 "nbformat": 4,
 "nbformat_minor": 5
}
