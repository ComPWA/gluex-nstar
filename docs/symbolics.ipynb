{
 "cells": [
  {
   "cell_type": "markdown",
   "id": "0",
   "metadata": {},
   "source": [
    "# Symbolic expression for the amplitude model"
   ]
  },
  {
   "cell_type": "markdown",
   "id": "1",
   "metadata": {
    "editable": true,
    "slideshow": {
     "slide_type": ""
    },
    "tags": []
   },
   "source": [
    "$$\n",
    "\\begin{eqnarray}\n",
    "A^{12} &=& \\frac{\\sum a_m Y_2^m (\\Omega_1)}{s_{12}-m^2_{a_2}+im_{a_2} \\Gamma_{a_2}} \\\\\n",
    "A^{23} &=& \\frac{\\sum b_m Y_1^m (\\Omega_2)}{s_{23}-m^2_{\\Delta}+im_{\\Delta} \\Gamma_{\\Delta}}  \\\\\n",
    "\\\n",
    "A^{31} &=& \\frac{c_0}{s_{31}-m^2_{N^*}+im_{N^*} \\Gamma_{N^*}}\n",
    "\\end{eqnarray}\n",
    "$$ (BW_SH_label)"
   ]
  },
  {
   "cell_type": "code",
   "execution_count": null,
   "id": "2",
   "metadata": {
    "editable": true,
    "slideshow": {
     "slide_type": ""
    },
    "tags": [
     "hide-cell"
    ]
   },
   "outputs": [],
   "source": [
    "import numpy as np\n",
    "import graphviz\n",
    "import sympy as sp\n",
    "from sympy import (\n",
    "    re,\n",
    "    im,\n",
    "    I,\n",
    "    E,\n",
    "    symbols,\n",
    "    Sum,\n",
    "    IndexedBase,\n",
    "    Function,\n",
    "    Ynm,\n",
    "    Symbol,\n",
    "    simplify,\n",
    ")\n",
    "from IPython.display import display, Latex"
   ]
  },
  {
   "cell_type": "markdown",
   "id": "3",
   "metadata": {
    "editable": true,
    "slideshow": {
     "slide_type": ""
    },
    "tags": []
   },
   "source": [
    "# $A^{12}$"
   ]
  },
  {
   "cell_type": "code",
   "execution_count": null,
   "id": "4",
   "metadata": {
    "editable": true,
    "slideshow": {
     "slide_type": ""
    },
    "tags": []
   },
   "outputs": [],
   "source": [
    "s12, m_a2, Gamma_a2 = symbols(r\"s_{12} m_{a_2} \\Gamma_{a_2}\")\n",
    "l, m, theta1, phi1 = symbols(\"l m theta_1 phi_1\")\n",
    "# Ynm(l, m, theta, phi)\n",
    "a_m = IndexedBase(\"a_m\")\n",
    "Y2_m = Function(\"Y_2^m\")(\"Omega_1\")\n",
    "m = symbols(\"m\", cls=sp.Idx)\n",
    "Omega1 = symbols(\"Omega_1\")\n",
    "\n",
    "A12 = sp.Sum(a_m * Ynm(2, m, theta1, phi1), (m, -2, 2)) / (\n",
    "    s12 - m_a2**2 + I * m_a2 * Gamma_a2\n",
    ")\n",
    "A12"
   ]
  },
  {
   "cell_type": "code",
   "execution_count": null,
   "id": "5",
   "metadata": {
    "editable": true,
    "slideshow": {
     "slide_type": ""
    },
    "tags": []
   },
   "outputs": [],
   "source": [
    "A12.free_symbols"
   ]
  },
  {
   "cell_type": "code",
   "execution_count": null,
   "id": "6",
   "metadata": {
    "editable": true,
    "slideshow": {
     "slide_type": ""
    },
    "tags": []
   },
   "outputs": [],
   "source": [
    "A12_func = sp.lambdify([s12, a_m, m_a2, Gamma_a2, theta1, phi1], A12)\n",
    "sp.lambdify([s12, a_m, m_a2, Gamma_a2, theta1, phi1], A12)"
   ]
  },
  {
   "cell_type": "markdown",
   "id": "7",
   "metadata": {
    "editable": true,
    "slideshow": {
     "slide_type": ""
    },
    "tags": []
   },
   "source": [
    "# $A^{23}$"
   ]
  },
  {
   "cell_type": "code",
   "execution_count": null,
   "id": "8",
   "metadata": {
    "editable": true,
    "slideshow": {
     "slide_type": ""
    },
    "tags": []
   },
   "outputs": [],
   "source": [
    "s23, m_Delta, Gamma_Delta = symbols(\"s_{23} m_Delta Gamma_Delta\")\n",
    "b_m = IndexedBase(\"b_m\")\n",
    "Y1_m = Function(\"Y_1^m\")(\"Omega_2\")\n",
    "theta2, phi2 = symbols(\"theta_2 phi_2\")\n",
    "A23 = Sum(b_m * Ynm(1, m, theta2, phi2), (m, -1, 1)) / (\n",
    "    s23 - m_Delta**2 + I * m_Delta * Gamma_Delta\n",
    ")\n",
    "A23"
   ]
  },
  {
   "cell_type": "code",
   "execution_count": null,
   "id": "9",
   "metadata": {
    "editable": true,
    "slideshow": {
     "slide_type": ""
    },
    "tags": []
   },
   "outputs": [],
   "source": [
    "A23.free_symbols"
   ]
  },
  {
   "cell_type": "code",
   "execution_count": null,
   "id": "10",
   "metadata": {
    "editable": true,
    "slideshow": {
     "slide_type": ""
    },
    "tags": []
   },
   "outputs": [],
   "source": [
    "A23_func = sp.lambdify([s23, b_m, m_Delta, Gamma_Delta, theta2, phi2], A23)"
   ]
  },
  {
   "cell_type": "markdown",
   "id": "11",
   "metadata": {
    "editable": true,
    "slideshow": {
     "slide_type": ""
    },
    "tags": []
   },
   "source": [
    "# $A^{31}$"
   ]
  },
  {
   "cell_type": "code",
   "execution_count": null,
   "id": "12",
   "metadata": {
    "editable": true,
    "slideshow": {
     "slide_type": ""
    },
    "tags": []
   },
   "outputs": [],
   "source": [
    "c0, m_Nstar, Gamma_Nstar = symbols(r\"c_0 m_{N^*} \\Gamma_{N^*}\")\n",
    "A31 = c0 / (s - m_Nstar**2 + I * m_Nstar * Gamma_Nstar)\n",
    "A31"
   ]
  },
  {
   "cell_type": "code",
   "execution_count": null,
   "id": "13",
   "metadata": {
    "editable": true,
    "slideshow": {
     "slide_type": ""
    },
    "tags": []
   },
   "outputs": [],
   "source": [
    "A31.free_symbols"
   ]
  },
  {
   "cell_type": "code",
   "execution_count": null,
   "id": "14",
   "metadata": {
    "editable": true,
    "slideshow": {
     "slide_type": ""
    },
    "tags": []
   },
   "outputs": [],
   "source": [
    "sp.lambdify([s, c0, m_Nstar, Gamma_Nstar], A31)"
   ]
  },
  {
   "cell_type": "code",
   "execution_count": null,
   "id": "15",
   "metadata": {
    "editable": true,
    "slideshow": {
     "slide_type": ""
    },
    "tags": []
   },
   "outputs": [],
   "source": [
    "A31_func = sp.lambdify([s, c0, m_Nstar, Gamma_Nstar], A31)"
   ]
  },
  {
   "cell_type": "code",
   "execution_count": null,
   "id": "16",
   "metadata": {
    "editable": true,
    "slideshow": {
     "slide_type": ""
    },
    "tags": []
   },
   "outputs": [],
   "source": [
    "import matplotlib.pyplot as plt\n",
    "\n",
    "s_values = np.linspace(0, 5, 100)\n",
    "A31_values = A31_func(s_values, 1, 1.5, 0.6)\n",
    "plt.plot(s_values, A31_values.imag)\n",
    "plt.plot(s_values, A31_values.real)\n",
    "plt.plot(s_values, np.abs(A31_values) ** 2)\n",
    "plt.plot(s_values, np.angle(A31_values))"
   ]
  },
  {
   "cell_type": "code",
   "execution_count": null,
   "id": "17",
   "metadata": {
    "editable": true,
    "slideshow": {
     "slide_type": ""
    },
    "tags": []
   },
   "outputs": [],
   "source": [
    "# Example values for m_Nstar and Gamma_Nstar\n",
    "m_Nstar_val = 1.5\n",
    "Gamma_Nstar_val = 0.6\n",
    "c0_val = 1\n",
    "\n",
    "# Generate s values\n",
    "s_values = np.linspace(0, 5, 100)\n",
    "A31_values = A31_func(s_values, c0_val, m_Nstar_val, Gamma_Nstar_val)\n",
    "\n",
    "# Create the plot\n",
    "plt.figure(figsize=(10, 6))\n",
    "\n",
    "plt.plot(s_values, A31_values.imag, label=\"Imaginary Part\", linestyle=\"-\", color=\"b\")\n",
    "plt.plot(s_values, A31_values.real, label=\"Real Part\", linestyle=\"--\", color=\"r\")\n",
    "plt.plot(s_values, np.abs(A31_values) ** 2, label=\"|A31|^2\", linestyle=\"-.\", color=\"g\")\n",
    "plt.plot(\n",
    "    s_values, np.angle(A31_values), label=\"Phase (angle)\", linestyle=\":\", color=\"m\"\n",
    ")\n",
    "\n",
    "plt.xlabel(\"s\")\n",
    "plt.ylabel(r\"$A^{31}$ components\")\n",
    "plt.title(r\"Components of $A^{31}$ vs s\")\n",
    "plt.legend()\n",
    "plt.grid(True)\n",
    "plt.show()"
   ]
  },
  {
   "cell_type": "code",
   "execution_count": null,
   "id": "18",
   "metadata": {
    "editable": true,
    "slideshow": {
     "slide_type": ""
    },
    "tags": []
   },
   "outputs": [],
   "source": [
    "plt.plot(A31_values.real, A31_values.imag)\n",
    "plt.title(r\"Argand diagram of $A^{31}$\")\n",
    "plt.show()"
   ]
  },
  {
   "cell_type": "code",
   "execution_count": null,
   "id": "19",
   "metadata": {
    "editable": true,
    "slideshow": {
     "slide_type": ""
    },
    "tags": []
   },
   "outputs": [],
   "source": [
    "# Example values for m_Nstar and Gamma_Nstar\n",
    "m_Nstar_val = 1.5\n",
    "Gamma_Nstar_val = 0.6\n",
    "c0_val = 1\n",
    "\n",
    "# Generate s values\n",
    "s_values = np.linspace(0, 5, 100)\n",
    "A12_values = A12_func(s_values, c0_val, m_Nstar_val, Gamma_Nstar_val)\n",
    "\n",
    "# Create the plot\n",
    "plt.figure(figsize=(10, 6))\n",
    "\n",
    "plt.plot(s_values, A31_values.imag, label=\"Imaginary Part\", linestyle=\"-\", color=\"b\")\n",
    "plt.plot(s_values, A31_values.real, label=\"Real Part\", linestyle=\"--\", color=\"r\")\n",
    "plt.plot(s_values, np.abs(A31_values) ** 2, label=\"|A31|^2\", linestyle=\"-.\", color=\"g\")\n",
    "plt.plot(\n",
    "    s_values, np.angle(A31_values), label=\"Phase (angle)\", linestyle=\":\", color=\"m\"\n",
    ")\n",
    "\n",
    "plt.xlabel(\"s\")\n",
    "plt.ylabel(r\"$A^{31}$ components\")\n",
    "plt.title(r\"Components of $A^{31}$ vs s\")\n",
    "plt.legend()\n",
    "plt.grid(True)\n",
    "plt.show()"
   ]
  }
 ],
 "metadata": {
  "kernelspec": {
   "display_name": "Python 3 (ipykernel)",
   "language": "python",
   "name": "python3"
  },
  "language_info": {
   "codemirror_mode": {
    "name": "ipython",
    "version": 3
   },
   "file_extension": ".py",
   "mimetype": "text/x-python",
   "name": "python",
   "nbconvert_exporter": "python",
   "pygments_lexer": "ipython3",
   "version": "3.12.3"
  }
 },
 "nbformat": 4,
 "nbformat_minor": 5
}
