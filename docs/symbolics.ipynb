{
 "cells": [
  {
   "cell_type": "markdown",
   "id": "0",
   "metadata": {},
   "source": [
    "# Symbolic expression for the amplitude model"
   ]
  },
  {
   "cell_type": "markdown",
   "id": "1",
   "metadata": {
    "editable": true,
    "slideshow": {
     "slide_type": ""
    },
    "tags": []
   },
   "source": [
    "$$\n",
    "\\begin{eqnarray}\n",
    "A^{12} &=& \\frac{\\sum a_m Y_2^m (\\Omega_1)}{s-m^2_{a_2}+im_{a_2} \\Gamma_{a_2}} \\\\\n",
    "A^{23} &=& \\frac{\\sum b_m Y_1^m (\\Omega_2)}{s-m^2_{\\Delta}+im_{\\Delta} \\Gamma_{\\Delta}}  \\\\\n",
    "\\\n",
    "A^{31} &=& \\frac{c_0}{s-m^2_{N^*}+im_{N^*} \\Gamma_{N^*}}\n",
    "\\end{eqnarray}\n",
    "$$ (BW_SH_label)"
   ]
  },
  {
   "cell_type": "code",
   "execution_count": null,
   "id": "2",
   "metadata": {
    "editable": true,
    "slideshow": {
     "slide_type": ""
    },
    "tags": []
   },
   "outputs": [],
   "source": [
    "import graphviz\n",
    "import sympy as sp\n",
    "from sympy import re, im, I, E, symbols, Sum, IndexedBase, Function"
   ]
  },
  {
   "cell_type": "code",
   "execution_count": null,
   "id": "3",
   "metadata": {
    "editable": true,
    "slideshow": {
     "slide_type": ""
    },
    "tags": []
   },
   "outputs": [],
   "source": [
    "a, b, c, s, m, Γ = sp.symbols(\"a_m b_m c_0 s m Gamma\")\n",
    "\n",
    "amplitude12 = a / (s - m**2 + I * m * Γ)\n",
    "amplitude23 = b / (s - m**2 + I * m * Γ)\n",
    "amplitude31 = c / (s - m**2 + I * m * Γ)"
   ]
  },
  {
   "cell_type": "code",
   "execution_count": null,
   "id": "4",
   "metadata": {
    "editable": true,
    "slideshow": {
     "slide_type": ""
    },
    "tags": []
   },
   "outputs": [],
   "source": [
    "amplitude12"
   ]
  },
  {
   "cell_type": "code",
   "execution_count": null,
   "id": "5",
   "metadata": {
    "editable": true,
    "slideshow": {
     "slide_type": ""
    },
    "tags": []
   },
   "outputs": [],
   "source": [
    "amplitude23"
   ]
  },
  {
   "cell_type": "code",
   "execution_count": null,
   "id": "6",
   "metadata": {
    "editable": true,
    "slideshow": {
     "slide_type": ""
    },
    "tags": []
   },
   "outputs": [],
   "source": [
    "amplitude31"
   ]
  },
  {
   "cell_type": "code",
   "execution_count": null,
   "id": "7",
   "metadata": {
    "editable": true,
    "slideshow": {
     "slide_type": ""
    },
    "tags": []
   },
   "outputs": [],
   "source": [
    "s, m_a2, Gamma_a2 = symbols(\"s m_a2 Gamma_a2\")\n",
    "a_m = IndexedBase(\"a_m\")\n",
    "Y2_m = Function(\"Y_2^m\")(\"Omega_1\")\n",
    "m = symbols(\"m\", cls=sp.Idx)\n",
    "\n",
    "A12 = sp.Sum(a_m * Y2_m, (m, -2, 2)) / (s - m_a2**2 + I * m_a2 * Gamma_a2)\n",
    "A12"
   ]
  },
  {
   "cell_type": "code",
   "execution_count": null,
   "id": "8",
   "metadata": {},
   "outputs": [],
   "source": [
    "m_Delta, Gamma_Delta = symbols(\"m_Delta Gamma_Delta\")\n",
    "b_m = IndexedBase(\"b_m\")\n",
    "Y1_m = Function(\"Y_1^m\")(\"Omega_2\")\n",
    "A23 = Sum(b_m * Y1_m, (m, -1, 1)) / (s - m_Delta**2 + I * m_Delta * Gamma_Delta)\n",
    "A23"
   ]
  },
  {
   "cell_type": "code",
   "execution_count": null,
   "id": "9",
   "metadata": {},
   "outputs": [],
   "source": [
    "c0, m_Nstar, Gamma_Nstar = symbols(\"c_0 m_N* Gamma_N*\")\n",
    "A31 = c0 / (s - m_Nstar**2 + I * m_Nstar * Gamma_Nstar)\n",
    "A31"
   ]
  },
  {
   "cell_type": "code",
   "execution_count": null,
   "id": "10",
   "metadata": {},
   "outputs": [],
   "source": []
  }
 ],
 "metadata": {
  "kernelspec": {
   "display_name": "Python 3 (ipykernel)",
   "language": "python",
   "name": "python3"
  },
  "language_info": {
   "codemirror_mode": {
    "name": "ipython",
    "version": 3
   },
   "file_extension": ".py",
   "mimetype": "text/x-python",
   "name": "python",
   "nbconvert_exporter": "python",
   "pygments_lexer": "ipython3",
   "version": "3.12.3"
  }
 },
 "nbformat": 4,
 "nbformat_minor": 5
}
