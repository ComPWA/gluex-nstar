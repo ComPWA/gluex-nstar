{
 "cells": [
  {
   "cell_type": "markdown",
   "metadata": {},
   "source": [
    "# $\\gamma p \\to \\eta\\pi^0 p$ symbolic amplitude model via `sympy`"
   ]
  },
  {
   "cell_type": "markdown",
   "metadata": {},
   "source": [
    "This section is a follow-up to formulate the amplitude model for the $\\gamma p \\to \\eta\\pi^0 p$ channel example symbolically."
   ]
  },
  {
   "cell_type": "markdown",
   "metadata": {},
   "source": [
    "$$\n",
    "\\begin{eqnarray}\n",
    "A^{12} &=& \\frac{\\sum a_m Y_2^m (\\Omega_1)}{s_{12}-m^2_{a_2}+im_{a_2} \\Gamma_{a_2}} \\\\\n",
    "A^{23} &=& \\frac{\\sum b_m Y_1^m (\\Omega_2)}{s_{23}-m^2_{\\Delta}+im_{\\Delta} \\Gamma_{\\Delta}}  \\\\\n",
    "\\\n",
    "A^{31} &=& \\frac{c_0}{s_{31}-m^2_{N^*}+im_{N^*} \\Gamma_{N^*}}\n",
    "\\end{eqnarray}\n",
    "$$"
   ]
  },
  {
   "cell_type": "markdown",
   "metadata": {},
   "source": [
    "where $1=\\eta$, $2=\\pi^0$, and $3=p$"
   ]
  },
  {
   "cell_type": "code",
   "execution_count": null,
   "metadata": {
    "tags": [
     "hide-cell"
    ]
   },
   "outputs": [],
   "source": [
    "import matplotlib.pyplot as plt\n",
    "import numpy as np\n",
    "import sympy as sp\n",
    "from sympy import (\n",
    "    Function,\n",
    "    I,\n",
    "    IndexedBase,\n",
    "    Sum,\n",
    "    Ynm,\n",
    "    symbols,\n",
    ")"
   ]
  },
  {
   "cell_type": "markdown",
   "metadata": {},
   "source": [
    "## $A^{12}$"
   ]
  },
  {
   "cell_type": "code",
   "execution_count": null,
   "metadata": {},
   "outputs": [],
   "source": [
    "newa = IndexedBase(\"a\")\n",
    "type(newa[0])"
   ]
  },
  {
   "cell_type": "code",
   "execution_count": null,
   "metadata": {},
   "outputs": [],
   "source": [
    "s12, m_a2, Gamma_a2 = symbols(r\"s_{12} m_{a_2} \\Gamma_{a_2}\")\n",
    "theta1, phi1 = symbols(\"theta_1 phi_1\")\n",
    "a = IndexedBase(\"a\")\n",
    "m = symbols(\"m\", cls=sp.Idx)\n",
    "\n",
    "A12 = sp.Sum(a[m] * Ynm(2, m, theta1, phi1), (m, -2, 2)) / (\n",
    "    s12 - m_a2**2 + I * m_a2 * Gamma_a2\n",
    ")\n",
    "A12"
   ]
  },
  {
   "cell_type": "code",
   "execution_count": null,
   "metadata": {},
   "outputs": [],
   "source": [
    "Ynm(2, 1, 1, 1).expand(func=False)"
   ]
  },
  {
   "cell_type": "code",
   "execution_count": null,
   "metadata": {},
   "outputs": [],
   "source": [
    "Ynm(2, 1, 1, 1).expand(func=True)"
   ]
  },
  {
   "cell_type": "code",
   "execution_count": null,
   "metadata": {},
   "outputs": [],
   "source": [
    "A12.free_symbols"
   ]
  },
  {
   "cell_type": "code",
   "execution_count": null,
   "metadata": {},
   "outputs": [],
   "source": [
    "A12_func = sp.lambdify(\n",
    "    [s12, a[-2], a[-1], a[0], a[1], a[2], m_a2, Gamma_a2, theta1, phi1],\n",
    "    A12.doit().expand(func=True),\n",
    ")\n",
    "A12_func"
   ]
  },
  {
   "cell_type": "code",
   "execution_count": null,
   "metadata": {
    "jupyter": {
     "source_hidden": true
    },
    "tags": [
     "hide-input"
    ]
   },
   "outputs": [],
   "source": [
    "# Example values\n",
    "m_a2_val = 1.32\n",
    "Gamma_a2_val = 0.1\n",
    "a_vals = [0, 0.5, 3.5, 4, 2.5]\n",
    "\n",
    "# Generate s values\n",
    "s_values = np.linspace(0, 5, 100)\n",
    "PHI = np.pi / 4\n",
    "THETA = np.pi / 4\n",
    "A12_values = A12_func(s_values, *a_vals, m_a2_val, Gamma_a2_val, THETA, PHI)\n",
    "\n",
    "# Create the plot\n",
    "plt.figure(figsize=(10, 6))\n",
    "\n",
    "plt.plot(s_values, A12_values.imag, label=\"Imaginary Part\", linestyle=\"-\", color=\"b\")\n",
    "plt.plot(s_values, A12_values.real, label=\"Real Part\", linestyle=\"--\", color=\"r\")\n",
    "plt.plot(\n",
    "    s_values,\n",
    "    np.abs(A12_values) ** 2,\n",
    "    label=\"Intensity $I^{12}=|A^{12}|^2$\",\n",
    "    linestyle=\"-.\",\n",
    "    color=\"g\",\n",
    ")\n",
    "plt.plot(\n",
    "    s_values,\n",
    "    np.angle(A12_values),\n",
    "    label=\"Phase (angle)\",\n",
    "    linestyle=\":\",\n",
    "    color=\"m\",\n",
    ")\n",
    "\n",
    "plt.xlabel(\"s\")\n",
    "plt.ylabel(r\"$A^{12}$ components\")\n",
    "plt.title(r\"Components of $A^{12}$ vs s at 45 degree\")\n",
    "plt.legend()\n",
    "plt.show()"
   ]
  },
  {
   "cell_type": "code",
   "execution_count": null,
   "metadata": {
    "tags": [
     "hide-input"
    ]
   },
   "outputs": [],
   "source": [
    "plt.plot(A12_values.real, A12_values.imag)\n",
    "plt.title(r\"Argand diagram of $A^{12}$ at 45 degree\")\n",
    "plt.show()"
   ]
  },
  {
   "cell_type": "markdown",
   "metadata": {},
   "source": [
    "## $A^{23}$"
   ]
  },
  {
   "cell_type": "code",
   "execution_count": null,
   "metadata": {},
   "outputs": [],
   "source": [
    "s23, m_delta, gamma_delta = symbols(\"s_{23} m_Delta Gamma_Delta\")\n",
    "b = IndexedBase(\"b\")\n",
    "m = symbols(\"m\", cls=sp.Idx)\n",
    "\n",
    "Y1_m = Function(\"Y_1^m\")(\"Omega_2\")\n",
    "theta2, phi2 = symbols(\"theta_2 phi_2\")\n",
    "A23 = Sum(b[m] * Ynm(1, m, theta2, phi2), (m, -1, 1)) / (\n",
    "    s23 - m_delta**2 + I * m_delta * gamma_delta\n",
    ")\n",
    "A23"
   ]
  },
  {
   "cell_type": "code",
   "execution_count": null,
   "metadata": {},
   "outputs": [],
   "source": [
    "A23.free_symbols"
   ]
  },
  {
   "cell_type": "code",
   "execution_count": null,
   "metadata": {},
   "outputs": [],
   "source": [
    "A23_func = sp.lambdify(\n",
    "    [s23, b[-1], b[0], b[1], m_delta, gamma_delta, theta2, phi2],\n",
    "    A23.doit().expand(func=True),\n",
    ")\n",
    "A23_func"
   ]
  },
  {
   "cell_type": "code",
   "execution_count": null,
   "metadata": {
    "tags": [
     "hide-input"
    ]
   },
   "outputs": [],
   "source": [
    "# Example values\n",
    "m_delta_val = 1.54\n",
    "gamma_delta_val = 0.1\n",
    "b_vals = [-1.5, 4, 0.5]\n",
    "\n",
    "# Generate s values\n",
    "s_values = np.linspace(0, 5, 100)\n",
    "PHI = np.pi / 4\n",
    "THETA = np.pi / 4\n",
    "\n",
    "A23_values = A23_func(s_values, *b_vals, m_delta_val, gamma_delta_val, THETA, PHI)\n",
    "\n",
    "# Create the plot\n",
    "plt.figure(figsize=(10, 6))\n",
    "\n",
    "plt.plot(s_values, A23_values.imag, label=\"Imaginary Part\", linestyle=\"-\", color=\"b\")\n",
    "plt.plot(s_values, A23_values.real, label=\"Real Part\", linestyle=\"--\", color=\"r\")\n",
    "plt.plot(\n",
    "    s_values,\n",
    "    np.abs(A23_values) ** 2,\n",
    "    label=\"Intensity $I=|A23|^2$\",\n",
    "    linestyle=\"-.\",\n",
    "    color=\"g\",\n",
    ")\n",
    "plt.plot(\n",
    "    s_values,\n",
    "    np.angle(A23_values),\n",
    "    label=\"Phase (angle)\",\n",
    "    linestyle=\":\",\n",
    "    color=\"m\",\n",
    ")\n",
    "\n",
    "plt.xlabel(\"s\")\n",
    "plt.ylabel(r\"$A^{23}$ components\")\n",
    "plt.title(r\"Components of $A^{23}$ vs s at 45 degree\")\n",
    "plt.legend()\n",
    "plt.show()"
   ]
  },
  {
   "cell_type": "code",
   "execution_count": null,
   "metadata": {
    "tags": [
     "hide-input"
    ]
   },
   "outputs": [],
   "source": [
    "plt.plot(A23_values.real, A23_values.imag)\n",
    "plt.title(r\"Argand diagram of $A^{23}$ at 45 degree\")\n",
    "plt.show()"
   ]
  },
  {
   "cell_type": "markdown",
   "metadata": {},
   "source": [
    "## $A^{31}$"
   ]
  },
  {
   "cell_type": "code",
   "execution_count": null,
   "metadata": {},
   "outputs": [],
   "source": [
    "s31, c0, m_nstar, gamma_nstar = symbols(r\"s_{31} c_0 m_{N^*} \\Gamma_{N^*}\")\n",
    "A31 = c0 / (s31 - m_nstar**2 + I * m_nstar * gamma_nstar)\n",
    "A31"
   ]
  },
  {
   "cell_type": "code",
   "execution_count": null,
   "metadata": {},
   "outputs": [],
   "source": [
    "A31.free_symbols"
   ]
  },
  {
   "cell_type": "code",
   "execution_count": null,
   "metadata": {},
   "outputs": [],
   "source": [
    "sp.lambdify([s31, c0, m_nstar, gamma_nstar], A31)"
   ]
  },
  {
   "cell_type": "code",
   "execution_count": null,
   "metadata": {},
   "outputs": [],
   "source": [
    "A31_func = sp.lambdify([s31, c0, m_nstar, gamma_nstar], A31)"
   ]
  },
  {
   "cell_type": "code",
   "execution_count": null,
   "metadata": {
    "tags": [
     "hide-input"
    ]
   },
   "outputs": [],
   "source": [
    "# Example values for m_Nstar and Gamma_Nstar\n",
    "m_nstar_val = 1.87\n",
    "gamma_nstar_val = 0.1\n",
    "c0_val = 2.5\n",
    "\n",
    "# Generate s values\n",
    "s_values = np.linspace(0, 5, 100)\n",
    "A31_values = A31_func(s_values, c0_val, m_nstar_val, gamma_nstar_val)\n",
    "\n",
    "# Create the plot\n",
    "plt.figure(figsize=(10, 6))\n",
    "\n",
    "plt.plot(s_values, A31_values.imag, label=\"Imaginary Part\", linestyle=\"-\", color=\"b\")\n",
    "plt.plot(s_values, A31_values.real, label=\"Real Part\", linestyle=\"--\", color=\"r\")\n",
    "plt.plot(\n",
    "    s_values,\n",
    "    np.abs(A31_values) ** 2,\n",
    "    label=\"Intensity $I=|A31|^2$\",\n",
    "    linestyle=\"-.\",\n",
    "    color=\"g\",\n",
    ")\n",
    "plt.plot(\n",
    "    s_values,\n",
    "    np.angle(A31_values),\n",
    "    label=\"Phase (angle)\",\n",
    "    linestyle=\":\",\n",
    "    color=\"m\",\n",
    ")\n",
    "\n",
    "plt.xlabel(\"s\")\n",
    "plt.ylabel(r\"$A^{31}$ components\")\n",
    "plt.title(r\"Components of $A^{31}$ vs s\")\n",
    "plt.legend()\n",
    "plt.show()"
   ]
  },
  {
   "cell_type": "code",
   "execution_count": null,
   "metadata": {
    "jupyter": {
     "source_hidden": true
    },
    "tags": [
     "hide-input"
    ]
   },
   "outputs": [],
   "source": [
    "plt.plot(A31_values.real, A31_values.imag)\n",
    "plt.title(r\"Argand diagram of $A^{31}$\")\n",
    "plt.show()"
   ]
  },
  {
   "cell_type": "markdown",
   "metadata": {},
   "source": [
    "## $A = A^{12}+A^{23}+A^{31}$"
   ]
  },
  {
   "cell_type": "code",
   "execution_count": null,
   "metadata": {},
   "outputs": [],
   "source": [
    "A = A12 + A23 + A31\n",
    "A"
   ]
  },
  {
   "cell_type": "code",
   "execution_count": null,
   "metadata": {},
   "outputs": [],
   "source": [
    "A.free_symbols"
   ]
  },
  {
   "cell_type": "code",
   "execution_count": null,
   "metadata": {},
   "outputs": [],
   "source": [
    "A_func = sp.lambdify(\n",
    "    [\n",
    "        s12,\n",
    "        a[-2],\n",
    "        a[-1],\n",
    "        a[0],\n",
    "        a[1],\n",
    "        a[2],\n",
    "        m_a2,\n",
    "        Gamma_a2,\n",
    "        theta1,\n",
    "        phi1,\n",
    "        s23,\n",
    "        b[-1],\n",
    "        b[0],\n",
    "        b[1],\n",
    "        m_delta,\n",
    "        gamma_delta,\n",
    "        theta2,\n",
    "        phi2,\n",
    "        s31,\n",
    "        c0,\n",
    "        m_nstar,\n",
    "        gamma_nstar,\n",
    "    ],\n",
    "    A.doit().expand(func=True),\n",
    ")\n",
    "A_func"
   ]
  },
  {
   "cell_type": "code",
   "execution_count": null,
   "metadata": {
    "tags": [
     "hide-input"
    ]
   },
   "outputs": [],
   "source": [
    "# Generate s values\n",
    "s_values = np.linspace(0, 5, 100)\n",
    "A_values = A_func(\n",
    "    s_values,\n",
    "    *a_vals,\n",
    "    m_a2_val,\n",
    "    Gamma_a2_val,\n",
    "    THETA,\n",
    "    PHI,\n",
    "    s_values,\n",
    "    *b_vals,\n",
    "    m_delta_val,\n",
    "    gamma_delta_val,\n",
    "    THETA,\n",
    "    PHI,\n",
    "    s_values,\n",
    "    c0_val,\n",
    "    m_nstar_val,\n",
    "    gamma_nstar_val,\n",
    ")\n",
    "\n",
    "# Create the plot\n",
    "plt.figure(figsize=(10, 6))\n",
    "\n",
    "plt.plot(s_values, A_values.imag, label=\"Imaginary Part\", linestyle=\"-\", color=\"b\")\n",
    "plt.plot(s_values, A_values.real, label=\"Real Part\", linestyle=\"--\", color=\"r\")\n",
    "plt.plot(\n",
    "    s_values,\n",
    "    np.abs(A_values) ** 2,\n",
    "    label=\"Intensity $I=|A|^2$\",\n",
    "    linestyle=\"-.\",\n",
    "    color=\"g\",\n",
    ")\n",
    "plt.plot(s_values, np.angle(A_values), label=\"Phase (angle)\", linestyle=\":\", color=\"m\")\n",
    "\n",
    "plt.xlabel(\"s\")\n",
    "plt.ylabel(r\"$A$ components\")\n",
    "plt.title(r\"Components of $A$ vs s at 45 degree\")\n",
    "plt.legend()\n",
    "plt.show()"
   ]
  },
  {
   "cell_type": "code",
   "execution_count": null,
   "metadata": {
    "jupyter": {
     "source_hidden": true
    },
    "tags": [
     "hide-input"
    ]
   },
   "outputs": [],
   "source": [
    "plt.plot(A_values.real, A_values.imag)\n",
    "plt.title(r\"Argand diagram of $A$ at 45 degree\")\n",
    "plt.show()"
   ]
  }
 ],
 "metadata": {
  "kernelspec": {
   "display_name": "Python 3 (ipykernel)",
   "language": "python",
   "name": "python3"
  },
  "language_info": {
   "codemirror_mode": {
    "name": "ipython",
    "version": 3
   },
   "file_extension": ".py",
   "mimetype": "text/x-python",
   "name": "python",
   "nbconvert_exporter": "python",
   "pygments_lexer": "ipython3",
   "version": "3.12.4"
  }
 },
 "nbformat": 4,
 "nbformat_minor": 4
}
