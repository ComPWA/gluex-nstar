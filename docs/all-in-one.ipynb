{
 "cells": [
  {
   "cell_type": "markdown",
   "id": "0",
   "metadata": {
    "editable": true,
    "slideshow": {
     "slide_type": ""
    },
    "tags": []
   },
   "source": [
    "# Formulate Helicity Amplitude Model for pγ→ηπ⁰p symbolically"
   ]
  },
  {
   "cell_type": "markdown",
   "id": "1",
   "metadata": {
    "editable": true,
    "slideshow": {
     "slide_type": ""
    },
    "tags": []
   },
   "source": [
    "## Generate Transitions"
   ]
  },
  {
   "cell_type": "code",
   "execution_count": null,
   "id": "2",
   "metadata": {
    "editable": true,
    "slideshow": {
     "slide_type": ""
    },
    "tags": []
   },
   "outputs": [],
   "source": [
    "from __future__ import annotations\n",
    "\n",
    "import matplotlib.pyplot as plt\n",
    "from ampform.io import aslatex, improve_latex_rendering\n",
    "from IPython.display import Math\n",
    "from qrules.particle import load_pdg\n",
    "\n",
    "improve_latex_rendering()\n",
    "particle_db = load_pdg()"
   ]
  },
  {
   "cell_type": "code",
   "execution_count": null,
   "id": "3",
   "metadata": {
    "editable": true,
    "slideshow": {
     "slide_type": ""
    },
    "tags": []
   },
   "outputs": [],
   "source": [
    "from qrules.particle import Particle, Spin\n",
    "\n",
    "pgamma = Particle(\n",
    "    name=\"pgamma\",\n",
    "    latex=r\"p\\gamma (s1/2)\",\n",
    "    spin=0.5,\n",
    "    mass=4.101931071854584,\n",
    "    charge=1,\n",
    "    isospin=Spin(1 / 2, +1 / 2),\n",
    "    baryon_number=1,\n",
    "    parity=-1,\n",
    "    pid=99990,\n",
    ")\n",
    "pgamma"
   ]
  },
  {
   "cell_type": "code",
   "execution_count": null,
   "id": "4",
   "metadata": {
    "editable": true,
    "slideshow": {
     "slide_type": ""
    },
    "tags": []
   },
   "outputs": [],
   "source": [
    "pgamma2 = Particle(\n",
    "    name=\"pgamma2\",\n",
    "    latex=R\"p\\gamma (s3/2)\",\n",
    "    spin=1.5,\n",
    "    mass=4.101931071854584,\n",
    "    charge=1,\n",
    "    isospin=Spin(1 / 2, +1 / 2),\n",
    "    baryon_number=1,\n",
    "    parity=-1,\n",
    "    pid=99991,\n",
    ")\n",
    "pgamma2"
   ]
  },
  {
   "cell_type": "code",
   "execution_count": null,
   "id": "5",
   "metadata": {},
   "outputs": [],
   "source": [
    "particle_db.add(pgamma)\n",
    "particle_db.add(pgamma2)"
   ]
  },
  {
   "cell_type": "code",
   "execution_count": null,
   "id": "6",
   "metadata": {
    "editable": true,
    "slideshow": {
     "slide_type": ""
    },
    "tags": [
     "hide-cell"
    ]
   },
   "outputs": [],
   "source": [
    "particle_db[\"N(1680)+\"]"
   ]
  },
  {
   "cell_type": "code",
   "execution_count": null,
   "id": "7",
   "metadata": {
    "editable": true,
    "slideshow": {
     "slide_type": ""
    },
    "tags": [
     "hide-cell"
    ]
   },
   "outputs": [],
   "source": [
    "particle_db[\"N(1650)+\"]"
   ]
  },
  {
   "cell_type": "code",
   "execution_count": null,
   "id": "8",
   "metadata": {
    "editable": true,
    "slideshow": {
     "slide_type": ""
    },
    "tags": [
     "hide-cell"
    ]
   },
   "outputs": [],
   "source": [
    "particle_db[\"N(1440)+\"]"
   ]
  },
  {
   "cell_type": "code",
   "execution_count": null,
   "id": "9",
   "metadata": {
    "editable": true,
    "slideshow": {
     "slide_type": ""
    },
    "tags": [
     "hide-cell"
    ]
   },
   "outputs": [],
   "source": [
    "particle_db[\"N(1520)+\"]"
   ]
  },
  {
   "cell_type": "code",
   "execution_count": null,
   "id": "10",
   "metadata": {
    "editable": true,
    "slideshow": {
     "slide_type": ""
    },
    "tags": []
   },
   "outputs": [],
   "source": [
    "particle_db[\"N(1535)+\"]"
   ]
  },
  {
   "cell_type": "code",
   "execution_count": null,
   "id": "11",
   "metadata": {
    "editable": true,
    "slideshow": {
     "slide_type": ""
    },
    "tags": []
   },
   "outputs": [],
   "source": [
    "particle_db[\"Delta(1232)+\"]"
   ]
  },
  {
   "cell_type": "code",
   "execution_count": null,
   "id": "12",
   "metadata": {
    "editable": true,
    "slideshow": {
     "slide_type": ""
    },
    "tags": []
   },
   "outputs": [],
   "source": [
    "particle_db[\"a(2)(1320)0\"]"
   ]
  },
  {
   "cell_type": "code",
   "execution_count": null,
   "id": "13",
   "metadata": {
    "editable": true,
    "jupyter": {
     "source_hidden": true
    },
    "slideshow": {
     "slide_type": ""
    },
    "tags": [
     "hide-cell"
    ]
   },
   "outputs": [],
   "source": [
    "import graphviz\n",
    "import qrules\n",
    "\n",
    "reaction1_strong_EM = qrules.generate_transitions(\n",
    "    initial_state=(\"pgamma\"),\n",
    "    final_state=[\"eta\", \"pi0\", \"p\"],\n",
    "    allowed_interaction_types=[\"strong\", \"EM\"],\n",
    "    formalism=\"canonical-helicity\",\n",
    "    particle_db=particle_db,\n",
    "    max_angular_momentum=3,\n",
    "    max_spin_magnitude=3,\n",
    "    mass_conservation_factor=0,\n",
    ")"
   ]
  },
  {
   "cell_type": "code",
   "execution_count": null,
   "id": "14",
   "metadata": {
    "editable": true,
    "slideshow": {
     "slide_type": ""
    },
    "tags": [
     "hide-cell"
    ]
   },
   "outputs": [],
   "source": [
    "dot_se = qrules.io.asdot(reaction1_strong_EM, collapse_graphs=True)\n",
    "graphviz.Source(dot_se)"
   ]
  },
  {
   "cell_type": "markdown",
   "id": "15",
   "metadata": {
    "editable": true,
    "slideshow": {
     "slide_type": ""
    },
    "tags": []
   },
   "source": [
    "From [PDG Live](https://pdglive.lbl.gov/):\n",
    "For the record.\n",
    "\n",
    "Branching fraction of $\\Delta(1232)$ to \n",
    "\n",
    "| Mode     | Fraction |\n",
    "| ----------- | ----------- |\n",
    "| N$\\pi$    | 99.4%         |\n",
    "| N$\\eta$   | 0.55-0.65%    |\n",
    "\n",
    "\n",
    "Branching fraction of $N(1440)$ to \n",
    "| Mode     | Fraction |\n",
    "| ----------- | ----------- |\n",
    "| N$\\pi$    | 55 - 75%      |\n",
    "| N$\\eta$   |    <1%        |\n",
    "\n",
    "Branching fraction of $N(1520)$ to \n",
    "| Mode     | Fraction |\n",
    "| ----------- | ----------- |\n",
    "| N$\\pi$    | 55 - 65%      |\n",
    "| N$\\eta$   | 0.07 - 0.09%  |\n",
    "\n",
    "Branching fraction of $N(1535)$ to \n",
    "| Mode     | Fraction |\n",
    "| ----------- | ----------- |\n",
    "| N$\\pi$    | 32-52%        |\n",
    "| N$\\eta$   | 30-55%        |"
   ]
  },
  {
   "cell_type": "markdown",
   "id": "16",
   "metadata": {
    "editable": true,
    "slideshow": {
     "slide_type": ""
    },
    "tags": []
   },
   "source": [
    "For simplicity, under the current `qrules` results, we limit the intermediate resonances to be:\n",
    "\n",
    "\"$a(2)$\" for $\\eta \\pi^0$, \n",
    "\"$\\Delta(1232)$ for $\\pi p$\"\n",
    "Both \"$N(1535)$\" for $\\pi^0 p$\n",
    "and $\\eta p$"
   ]
  },
  {
   "cell_type": "code",
   "execution_count": null,
   "id": "17",
   "metadata": {
    "editable": true,
    "slideshow": {
     "slide_type": ""
    },
    "tags": []
   },
   "outputs": [],
   "source": [
    "import graphviz\n",
    "import qrules\n",
    "\n",
    "reaction1_strong_EM = qrules.generate_transitions(\n",
    "    initial_state=(\"pgamma\"),\n",
    "    final_state=[\"eta\", \"pi0\", \"p\"],\n",
    "    allowed_intermediate_particles=[\"a(2)(1320)\", \"N(1535)\", \"Delta(1232)\"],\n",
    "    allowed_interaction_types=[\"strong\", \"EM\"],\n",
    "    formalism=\"canonical-helicity\",\n",
    "    particle_db=particle_db,\n",
    "    max_angular_momentum=3,\n",
    "    max_spin_magnitude=3,\n",
    "    mass_conservation_factor=0,\n",
    ")"
   ]
  },
  {
   "cell_type": "code",
   "execution_count": null,
   "id": "18",
   "metadata": {
    "editable": true,
    "slideshow": {
     "slide_type": ""
    },
    "tags": []
   },
   "outputs": [],
   "source": [
    "dot_se = qrules.io.asdot(reaction1_strong_EM, collapse_graphs=True)\n",
    "graphviz.Source(dot_se)"
   ]
  },
  {
   "cell_type": "markdown",
   "id": "19",
   "metadata": {
    "editable": true,
    "slideshow": {
     "slide_type": ""
    },
    "tags": []
   },
   "source": [
    "## Build Helicity Amplitude Models"
   ]
  },
  {
   "cell_type": "markdown",
   "id": "20",
   "metadata": {},
   "source": [
    "we use ampform to formulate the transitions as an amplitude model (here: HelicityModel). "
   ]
  },
  {
   "cell_type": "markdown",
   "id": "21",
   "metadata": {
    "editable": true,
    "slideshow": {
     "slide_type": ""
    },
    "tags": []
   },
   "source": [
    "We choose to use relativistic_breit_wigner_with_ff() as the lineshape for all resonances and use a Blatt-Weisskopf form factor (create_non_dynamic_with_ff()) for the production decay. "
   ]
  },
  {
   "cell_type": "code",
   "execution_count": null,
   "id": "22",
   "metadata": {
    "editable": true,
    "slideshow": {
     "slide_type": ""
    },
    "tags": []
   },
   "outputs": [],
   "source": [
    "import ampform\n",
    "from ampform.dynamics.builder import (\n",
    "    create_non_dynamic_with_ff,\n",
    "    create_relativistic_breit_wigner,\n",
    ")\n",
    "\n",
    "model_builder = ampform.get_builder(reaction1_strong_EM)\n",
    "# model_builder.dynamics.assign(\"pgamma\", create_non_dynamic_with_ff)\n",
    "model_builder.config.scalar_initial_state_mass = True\n",
    "model_builder.config.stable_final_state_ids = 0, 1, 2\n",
    "for name in reaction1_strong_EM.get_intermediate_particles().names:\n",
    "    model_builder.dynamics.assign(name, create_relativistic_breit_wigner)\n",
    "model = model_builder.formulate()"
   ]
  },
  {
   "cell_type": "code",
   "execution_count": null,
   "id": "23",
   "metadata": {
    "editable": true,
    "slideshow": {
     "slide_type": ""
    },
    "tags": []
   },
   "outputs": [],
   "source": [
    "_, first_item, *_rest = model.amplitudes.items()\n",
    "symbol, expr = first_item"
   ]
  },
  {
   "cell_type": "code",
   "execution_count": null,
   "id": "24",
   "metadata": {
    "editable": true,
    "slideshow": {
     "slide_type": ""
    },
    "tags": []
   },
   "outputs": [],
   "source": [
    "from ampform.io import aslatex\n",
    "\n",
    "(symbol, expr), *_ = model.amplitudes.items()\n",
    "Math(aslatex({symbol: expr}, terms_per_line=1))"
   ]
  },
  {
   "cell_type": "markdown",
   "id": "25",
   "metadata": {
    "editable": true,
    "slideshow": {
     "slide_type": ""
    },
    "tags": []
   },
   "source": [
    "The first component of the full amplitude is shown above.\n",
    "\n",
    "See below for all individual amplitudes for specific helicity states in the full amplitude."
   ]
  },
  {
   "cell_type": "code",
   "execution_count": null,
   "id": "26",
   "metadata": {
    "editable": true,
    "slideshow": {
     "slide_type": ""
    },
    "tags": [
     "hide-input"
    ]
   },
   "outputs": [],
   "source": [
    "Math(aslatex(model.amplitudes))"
   ]
  },
  {
   "cell_type": "code",
   "execution_count": null,
   "id": "27",
   "metadata": {
    "editable": true,
    "slideshow": {
     "slide_type": ""
    },
    "tags": []
   },
   "outputs": [],
   "source": [
    "type(model.intensity)"
   ]
  },
  {
   "cell_type": "markdown",
   "id": "28",
   "metadata": {},
   "source": [
    "### Parameters"
   ]
  },
  {
   "cell_type": "markdown",
   "id": "29",
   "metadata": {
    "editable": true,
    "slideshow": {
     "slide_type": ""
    },
    "tags": []
   },
   "source": [
    "The parameters of the helicity amplitude model::"
   ]
  },
  {
   "cell_type": "code",
   "execution_count": null,
   "id": "30",
   "metadata": {
    "editable": true,
    "slideshow": {
     "slide_type": ""
    },
    "tags": []
   },
   "outputs": [],
   "source": [
    "sorted_parameter_defaults = {\n",
    "    symbol: model.parameter_defaults[symbol]\n",
    "    for symbol in sorted(model.parameter_defaults, key=str)\n",
    "}\n",
    "\n",
    "src = aslatex(sorted_parameter_defaults)\n",
    "Math(src)"
   ]
  },
  {
   "cell_type": "markdown",
   "id": "31",
   "metadata": {
    "editable": true,
    "slideshow": {
     "slide_type": ""
    },
    "tags": []
   },
   "source": [
    "Optionally, we can backup the HelicityModel to disk via pickle."
   ]
  },
  {
   "cell_type": "code",
   "execution_count": null,
   "id": "32",
   "metadata": {
    "editable": true,
    "slideshow": {
     "slide_type": ""
    },
    "tags": []
   },
   "outputs": [],
   "source": [
    "import pickle\n",
    "\n",
    "qrules.io.write(reaction1_strong_EM, \"transitions.json\")\n",
    "with open(\"helicity_model.pickle\", \"wb\") as stream:\n",
    "    pickle.dump(model, stream)"
   ]
  },
  {
   "cell_type": "code",
   "execution_count": null,
   "id": "33",
   "metadata": {
    "editable": true,
    "slideshow": {
     "slide_type": ""
    },
    "tags": []
   },
   "outputs": [],
   "source": [
    "from ampform.helicity import HelicityModel\n",
    "\n",
    "with open(\"helicity_model.pickle\", \"rb\") as model_file:\n",
    "    imported_model: HelicityModel = pickle.load(model_file)"
   ]
  },
  {
   "cell_type": "markdown",
   "id": "34",
   "metadata": {},
   "source": [
    "### Reaction info"
   ]
  },
  {
   "cell_type": "code",
   "execution_count": null,
   "id": "35",
   "metadata": {},
   "outputs": [],
   "source": [
    "initial_state, *_ = imported_model.reaction_info.initial_state.values()\n",
    "print(\"Initial state:\")\n",
    "print(\"-1: \", initial_state.name)\n",
    "print(\"Final state:\")\n",
    "for i, p in imported_model.reaction_info.final_state.items():\n",
    "    print(f\"  {i}: {p.name}\")\n",
    "del initial_state"
   ]
  },
  {
   "cell_type": "markdown",
   "id": "36",
   "metadata": {
    "editable": true,
    "slideshow": {
     "slide_type": ""
    },
    "tags": []
   },
   "source": [
    "## Generate phase space sample"
   ]
  },
  {
   "cell_type": "code",
   "execution_count": null,
   "id": "37",
   "metadata": {
    "editable": true,
    "slideshow": {
     "slide_type": ""
    },
    "tags": []
   },
   "outputs": [],
   "source": [
    "phsp_event = 1_000_000"
   ]
  },
  {
   "cell_type": "code",
   "execution_count": null,
   "id": "38",
   "metadata": {
    "editable": true,
    "slideshow": {
     "slide_type": ""
    },
    "tags": []
   },
   "outputs": [],
   "source": [
    "from tensorwaves.data import TFPhaseSpaceGenerator, TFUniformRealNumberGenerator\n",
    "\n",
    "rng = TFUniformRealNumberGenerator(seed=0)\n",
    "phsp_generator = TFPhaseSpaceGenerator(\n",
    "    initial_state_mass=reaction1_strong_EM.initial_state[-1].mass,\n",
    "    final_state_masses={i: p.mass for i, p in reaction1_strong_EM.final_state.items()},\n",
    ")\n",
    "phsp_momenta = phsp_generator.generate(phsp_event, rng)"
   ]
  },
  {
   "cell_type": "code",
   "execution_count": null,
   "id": "39",
   "metadata": {
    "editable": true,
    "slideshow": {
     "slide_type": ""
    },
    "tags": []
   },
   "outputs": [],
   "source": [
    "import numpy as np\n",
    "import pandas as pd\n",
    "\n",
    "pd.DataFrame(\n",
    "    {\n",
    "        (k, label): np.transpose(v)[i]\n",
    "        for k, v in phsp_momenta.items()\n",
    "        for i, label in enumerate([\"E\", \"px\", \"py\", \"pz\"])\n",
    "    }\n",
    ")"
   ]
  },
  {
   "cell_type": "code",
   "execution_count": null,
   "id": "40",
   "metadata": {
    "editable": true,
    "slideshow": {
     "slide_type": ""
    },
    "tags": []
   },
   "outputs": [],
   "source": [
    "import numpy as np\n",
    "\n",
    "p = np.array(list(phsp_momenta.values()))\n",
    "p.shape"
   ]
  },
  {
   "cell_type": "code",
   "execution_count": null,
   "id": "41",
   "metadata": {
    "editable": true,
    "slideshow": {
     "slide_type": ""
    },
    "tags": [
     "hide-cell"
    ]
   },
   "outputs": [],
   "source": [
    "p.sum(axis=0).round(decimals=14)"
   ]
  },
  {
   "cell_type": "code",
   "execution_count": null,
   "id": "42",
   "metadata": {
    "editable": true,
    "slideshow": {
     "slide_type": ""
    },
    "tags": [
     "hide-cell"
    ]
   },
   "outputs": [],
   "source": [
    "E0 = p[0].T[0]\n",
    "px0 = p[0].T[1]\n",
    "py0 = p[0].T[2]\n",
    "pz0 = p[0].T[3]\n",
    "p0 = np.sqrt(px0**2 + py0**2 + pz0**2)\n",
    "\n",
    "E1 = p[1].T[0]\n",
    "px1 = p[1].T[1]\n",
    "py1 = p[1].T[2]\n",
    "pz1 = p[1].T[3]\n",
    "p1 = np.sqrt(px1**2 + py1**2 + pz1**2)\n",
    "\n",
    "E2 = p[2].T[0]\n",
    "px2 = p[2].T[1]\n",
    "py2 = p[2].T[2]\n",
    "pz2 = p[2].T[3]\n",
    "p2 = np.sqrt(px2**2 + py2**2 + pz2**2)"
   ]
  },
  {
   "cell_type": "markdown",
   "id": "43",
   "metadata": {},
   "source": [
    "## Visualize kinematic variables"
   ]
  },
  {
   "cell_type": "code",
   "execution_count": null,
   "id": "44",
   "metadata": {},
   "outputs": [],
   "source": [
    "from tensorwaves.function.sympy import create_parametrized_function\n",
    "\n",
    "unfolded_expression = model.expression.doit()\n",
    "intensity_func = create_parametrized_function(\n",
    "    expression=unfolded_expression,\n",
    "    parameters=model.parameter_defaults,\n",
    "    backend=\"numpy\",\n",
    ")"
   ]
  },
  {
   "cell_type": "code",
   "execution_count": null,
   "id": "45",
   "metadata": {},
   "outputs": [],
   "source": [
    "Math(aslatex(model.kinematic_variables))"
   ]
  },
  {
   "cell_type": "code",
   "execution_count": null,
   "id": "46",
   "metadata": {},
   "outputs": [],
   "source": [
    "from tensorwaves.data import SympyDataTransformer\n",
    "\n",
    "helicity_transformer = SympyDataTransformer.from_sympy(\n",
    "    model.kinematic_variables, backend=\"jax\"\n",
    ")"
   ]
  },
  {
   "cell_type": "code",
   "execution_count": null,
   "id": "47",
   "metadata": {},
   "outputs": [],
   "source": [
    "phsp = helicity_transformer(phsp_momenta)\n",
    "list(phsp)"
   ]
  },
  {
   "cell_type": "code",
   "execution_count": null,
   "id": "48",
   "metadata": {},
   "outputs": [],
   "source": [
    "for state_id, particle in reaction1_strong_EM.final_state.items():\n",
    "    print(f\"ID {state_id}:\", particle.name)"
   ]
  },
  {
   "cell_type": "code",
   "execution_count": null,
   "id": "49",
   "metadata": {
    "editable": true,
    "slideshow": {
     "slide_type": ""
    },
    "tags": []
   },
   "outputs": [],
   "source": [
    "import pandas as pd\n",
    "\n",
    "phsp_frame = pd.DataFrame(phsp)\n",
    "phsp_frame"
   ]
  },
  {
   "cell_type": "markdown",
   "id": "50",
   "metadata": {
    "editable": true,
    "slideshow": {
     "slide_type": ""
    },
    "tags": []
   },
   "source": [
    "## Visualize model and  intensity-based sample"
   ]
  },
  {
   "cell_type": "code",
   "execution_count": null,
   "id": "51",
   "metadata": {
    "editable": true,
    "jupyter": {
     "source_hidden": true
    },
    "slideshow": {
     "slide_type": ""
    },
    "tags": [
     "hide-input"
    ]
   },
   "outputs": [],
   "source": [
    "%config InlineBackend.figure_formats = ['png']\n",
    "fig, ax = plt.subplots()\n",
    "hist = ax.hist2d(\n",
    "    phsp[\"m_01\"].real ** 2,\n",
    "    phsp[\"m_12\"].real ** 2,\n",
    "    bins=200,\n",
    "    cmin=1e-6,\n",
    "    density=True,\n",
    "    cmap=\"jet\",\n",
    "    # vmax=0.15,\n",
    ")\n",
    "ax.set_title(\"Phase Space Dalitz Plot\")\n",
    "ax.set_xlabel(R\"$m^2(\\eta \\pi^0)\\;\\left[\\mathrm{GeV}^2\\right]$\")\n",
    "ax.set_ylabel(R\"$m^2(\\pi^0 p)\\;\\left[\\mathrm{GeV}^2\\right]$\")\n",
    "cbar = fig.colorbar(hist[3], ax=ax)\n",
    "fig.tight_layout()\n",
    "plt.show()"
   ]
  },
  {
   "cell_type": "code",
   "execution_count": null,
   "id": "52",
   "metadata": {
    "editable": true,
    "jupyter": {
     "source_hidden": true
    },
    "slideshow": {
     "slide_type": ""
    },
    "tags": [
     "hide-input"
    ]
   },
   "outputs": [],
   "source": [
    "# %config InlineBackend.figure_formats = ['png']\n",
    "\n",
    "fig, ax = plt.subplots()\n",
    "hist = ax.hist2d(\n",
    "    phsp[\"m_01\"].real ** 2,\n",
    "    phsp[\"m_12\"].real ** 2,\n",
    "    bins=200,\n",
    "    cmin=1e-6,\n",
    "    density=True,\n",
    "    cmap=\"jet\",\n",
    "    vmax=0.15,\n",
    "    weights=intensity_func(phsp),\n",
    ")\n",
    "ax.set_title(\"Model-weighted Phase space Dalitz Plot\")\n",
    "ax.set_xlabel(R\"$m^2(\\eta \\pi^0)\\;\\left[\\mathrm{GeV}^2\\right]$\")\n",
    "ax.set_ylabel(R\"$m^2(\\pi^0 p)\\;\\left[\\mathrm{GeV}^2\\right]$\")\n",
    "cbar = fig.colorbar(hist[3], ax=ax)\n",
    "fig.tight_layout()\n",
    "plt.show()"
   ]
  },
  {
   "cell_type": "code",
   "execution_count": null,
   "id": "53",
   "metadata": {
    "editable": true,
    "jupyter": {
     "source_hidden": true
    },
    "slideshow": {
     "slide_type": ""
    },
    "tags": [
     "hide-input"
    ]
   },
   "outputs": [],
   "source": [
    "%config InlineBackend.figure_formats = ['svg']\n",
    "\n",
    "import matplotlib.pyplot as plt\n",
    "\n",
    "resonances = sorted(\n",
    "    reaction1_strong_EM.get_intermediate_particles(),\n",
    "    key=lambda p: p.mass,\n",
    ")\n",
    "evenly_spaced_interval = np.linspace(0, 1, len(resonances))\n",
    "colors = [plt.cm.rainbow(x) for x in evenly_spaced_interval]\n",
    "fig, ax = plt.subplots(figsize=(10, 6))\n",
    "ax.hist(\n",
    "    np.real(phsp_frame[\"m_01\"]),\n",
    "    bins=100,\n",
    "    alpha=0.5,\n",
    "    density=True,\n",
    "    # color = \"orange\",\n",
    "    label=\"Weighted PHSP\",\n",
    "    weights=intensity_func(phsp),\n",
    ")\n",
    "# ax.hist(\n",
    "#     np.real(data_frame[\"m_12\"]),\n",
    "#     bins=100,\n",
    "#     alpha=0.5,\n",
    "#     density=True,\n",
    "#     color = colors[0],\n",
    "# )\n",
    "# ax.hist(\n",
    "#     np.real(data_frame[\"m_02\"]),\n",
    "#     bins=100,\n",
    "#     alpha=0.5,\n",
    "#     density=True,\n",
    "#     color = colors[2],\n",
    "# )\n",
    "ax.set_xlabel(R\"$m(\\eta \\pi^0)$ [GeV]\")\n",
    "# for p, color in zip(resonances, colors):\n",
    "#     ax.axvline(x=p.mass, linestyle=\"dotted\", label=p.name, color=color)\n",
    "ax.axvline(\n",
    "    x=resonances[1].mass, linestyle=\"dotted\", label=resonances[1].name, color=\"black\"\n",
    ")\n",
    "ax.legend()\n",
    "plt.show()"
   ]
  },
  {
   "cell_type": "code",
   "execution_count": null,
   "id": "54",
   "metadata": {
    "editable": true,
    "jupyter": {
     "source_hidden": true
    },
    "slideshow": {
     "slide_type": ""
    },
    "tags": [
     "hide-input"
    ]
   },
   "outputs": [],
   "source": [
    "%config InlineBackend.figure_formats = ['svg']\n",
    "\n",
    "import matplotlib.pyplot as plt\n",
    "\n",
    "resonances = sorted(\n",
    "    reaction1_strong_EM.get_intermediate_particles(),\n",
    "    key=lambda p: p.mass,\n",
    ")\n",
    "evenly_spaced_interval = np.linspace(0, 1, len(resonances))\n",
    "colors = [plt.cm.rainbow(x) for x in evenly_spaced_interval]\n",
    "fig, ax = plt.subplots(figsize=(10, 6))\n",
    "\n",
    "ax.hist(\n",
    "    np.real(phsp_frame[\"m_12\"]),\n",
    "    bins=100,\n",
    "    alpha=0.5,\n",
    "    density=True,\n",
    "    # color = colors[0],\n",
    "    label=\"Weighted PHSP\",\n",
    "    weights=intensity_func(phsp),\n",
    ")\n",
    "\n",
    "ax.set_xlabel(R\"$m(\\pi^0 p)$ [GeV]\")\n",
    "# for p, color in zip(resonances, colors):\n",
    "#     ax.axvline(x=p.mass, linestyle=\"dotted\", label=p.name, color=color)\n",
    "ax.axvline(\n",
    "    x=resonances[0].mass, linestyle=\"dotted\", label=resonances[0].name, color=colors[0]\n",
    ")\n",
    "ax.axvline(\n",
    "    x=resonances[2].mass, linestyle=\"dotted\", label=resonances[2].name, color=colors[2]\n",
    ")\n",
    "ax.legend()\n",
    "plt.show()"
   ]
  },
  {
   "cell_type": "code",
   "execution_count": null,
   "id": "55",
   "metadata": {
    "editable": true,
    "jupyter": {
     "source_hidden": true
    },
    "slideshow": {
     "slide_type": ""
    },
    "tags": [
     "hide-input"
    ]
   },
   "outputs": [],
   "source": [
    "%config InlineBackend.figure_formats = ['svg']\n",
    "\n",
    "import matplotlib.pyplot as plt\n",
    "\n",
    "resonances = sorted(\n",
    "    reaction1_strong_EM.get_intermediate_particles(),\n",
    "    key=lambda p: p.mass,\n",
    ")\n",
    "evenly_spaced_interval = np.linspace(0, 1, len(resonances))\n",
    "colors = [plt.cm.rainbow(x) for x in evenly_spaced_interval]\n",
    "fig, ax = plt.subplots(figsize=(10, 6))\n",
    "\n",
    "ax.hist(\n",
    "    np.real(phsp_frame[\"m_02\"]),\n",
    "    bins=100,\n",
    "    alpha=0.5,\n",
    "    density=True,\n",
    "    # color = colors[2],\n",
    "    label=\"Weighted PHSP\",\n",
    "    weights=intensity_func(phsp),\n",
    ")\n",
    "ax.set_xlabel(R\"$m(\\eta p)$ [GeV]\")\n",
    "# for p, color in zip(resonances, colors):\n",
    "#     ax.axvline(x=p.mass, linestyle=\"dotted\", label=p.name, color=color)\n",
    "ax.axvline(\n",
    "    x=resonances[2].mass, linestyle=\"dotted\", label=resonances[2].name, color=colors[2]\n",
    ")\n",
    "ax.legend()\n",
    "plt.show()"
   ]
  }
 ],
 "metadata": {
  "kernelspec": {
   "display_name": "Python 3 (ipykernel)",
   "language": "python",
   "name": "python3"
  },
  "language_info": {
   "codemirror_mode": {
    "name": "ipython",
    "version": 3
   },
   "file_extension": ".py",
   "mimetype": "text/x-python",
   "name": "python",
   "nbconvert_exporter": "python",
   "pygments_lexer": "ipython3",
   "version": "3.12.4"
  }
 },
 "nbformat": 4,
 "nbformat_minor": 5
}
